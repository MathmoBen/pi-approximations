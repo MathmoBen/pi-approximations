{
 "cells": [
  {
   "cell_type": "markdown",
   "id": "94e30815",
   "metadata": {},
   "source": [
    "# Approximating zeros of functions giving us $\\pi$"
   ]
  },
  {
   "cell_type": "markdown",
   "id": "97d50ce8",
   "metadata": {},
   "source": [
    "## The Newton-Raphson method"
   ]
  },
  {
   "cell_type": "markdown",
   "id": "4a7b60a7",
   "metadata": {},
   "source": [
    "In this approach we employ the Newton-Raphson procedure which given a function $f$ starts with an approximate solution $x_0$ to the equation $f(x)=0$ and iteratively obtains a better solution, namely\n",
    "$$x_{n+1} = x_n - \\frac{f(x_n)}{f'(x_n)}.$$\n",
    "In this case we use the fact that $\\pi / 2$ is a zero of the function $f(x)=\\cos(x)$."
   ]
  },
  {
   "cell_type": "code",
   "execution_count": 3,
   "id": "0aa14afe",
   "metadata": {},
   "outputs": [],
   "source": [
    "#Usual import\n",
    "\n",
    "import numpy as np"
   ]
  },
  {
   "cell_type": "code",
   "execution_count": 2,
   "id": "3cf04f41",
   "metadata": {},
   "outputs": [
    {
     "name": "stdout",
     "output_type": "stream",
     "text": [
      "3.0846848912794282\n",
      "3.141608016516193\n",
      "3.141592653589793\n",
      "3.141592653589793\n",
      "3.141592653589793\n"
     ]
    }
   ],
   "source": [
    "l = 2\n",
    "\n",
    "for i in range(5):\n",
    "    l = l + np.cos(l)/np.sin(l)\n",
    "    print(2 * l)"
   ]
  },
  {
   "cell_type": "markdown",
   "id": "073fa422",
   "metadata": {},
   "source": [
    "Finding a zero to the equation $\\cos(x)=0$ is just one possibility and there are several variants of this. First we find a zero of the equation $\\sin(x)-1=0$. We see that this converges much more slowly!"
   ]
  },
  {
   "cell_type": "code",
   "execution_count": 3,
   "id": "a3a068b8",
   "metadata": {},
   "outputs": [
    {
     "name": "stdout",
     "output_type": "stream",
     "text": [
      "3.070825911596367\n",
      "3.106212974670068\n",
      "3.123903275451777\n",
      "3.132748022180146\n",
      "3.137170345092182\n",
      "3.139381500241876\n",
      "3.1404870770284363\n",
      "3.141039865323063\n",
      "3.141316259458157\n",
      "3.1414544565248472\n",
      "3.1415235550568568\n",
      "3.141558104324216\n",
      "3.141575378951911\n",
      "3.141584016263212\n",
      "3.141588334927896\n",
      "3.1415904942609347\n",
      "3.1415915739799143\n",
      "3.141592113661011\n",
      "3.1415923834396664\n",
      "3.141592518236254\n"
     ]
    }
   ],
   "source": [
    "l = 1.5\n",
    "\n",
    "for i in range(20):\n",
    "    l = l - ((np.sin(l) - 1)/np.cos(l))\n",
    "    print(2 * l)"
   ]
  },
  {
   "cell_type": "markdown",
   "id": "1d5b66ea",
   "metadata": {},
   "source": [
    "Next we try using the fact that $\\pi/3$ is a zero of $\\cos(x)-1/2=0$."
   ]
  },
  {
   "cell_type": "code",
   "execution_count": 4,
   "id": "2e67d602",
   "metadata": {},
   "outputs": [
    {
     "name": "stdout",
     "output_type": "stream",
     "text": [
      "3.1436851891358106\n",
      "3.1415930744221026\n",
      "3.14159265358981\n",
      "3.1415926535897936\n",
      "3.141592653589793\n"
     ]
    }
   ],
   "source": [
    "l = 1\n",
    "\n",
    "for i in range(5):\n",
    "    l = l + ((np.cos(l) - 0.5)/np.sin(l))\n",
    "    print(3 * l)"
   ]
  },
  {
   "cell_type": "markdown",
   "id": "cc6ff50c",
   "metadata": {},
   "source": [
    "Next we use the fact that $\\pi/4$ is a zero of $\\cos(x) - \\sqrt{2}/2=0$."
   ]
  },
  {
   "cell_type": "code",
   "execution_count": 5,
   "id": "9a877ec0",
   "metadata": {},
   "outputs": [
    {
     "name": "stdout",
     "output_type": "stream",
     "text": [
      "3.207081511638867\n",
      "3.142114393489976\n",
      "3.1415926876089624\n",
      "3.141592653589793\n",
      "3.141592653589793\n"
     ]
    }
   ],
   "source": [
    "l = 1\n",
    "\n",
    "for i in range(5):\n",
    "    l = l + ((np.cos(l) - np.sqrt(2)/2)/np.sin(l))\n",
    "    print(4 * l)"
   ]
  },
  {
   "cell_type": "markdown",
   "id": "f90aa062",
   "metadata": {},
   "source": [
    "And the same with $3\\pi/4$."
   ]
  },
  {
   "cell_type": "code",
   "execution_count": 29,
   "id": "232cb842",
   "metadata": {},
   "outputs": [
    {
     "name": "stdout",
     "output_type": "stream",
     "text": [
      "3.30988647194526\n",
      "3.1283490225565647\n",
      "3.1415279574875914\n",
      "3.1415926520203254\n",
      "3.141592653589793\n"
     ]
    }
   ],
   "source": [
    "l = 1\n",
    "\n",
    "for i in range(5):\n",
    "    l = l + ((np.cos(l) + np.sqrt(2)/2)/np.sin(l))\n",
    "    print(4 * l / 3)"
   ]
  },
  {
   "cell_type": "markdown",
   "id": "ca81c173",
   "metadata": {},
   "source": [
    "Next, let's do the same thing with sine."
   ]
  },
  {
   "cell_type": "code",
   "execution_count": 11,
   "id": "61b0107a",
   "metadata": {},
   "outputs": [
    {
     "name": "stdout",
     "output_type": "stream",
     "text": [
      "3.0052664801757083\n",
      "3.139396558618452\n",
      "3.1415920512869406\n",
      "3.141592653589748\n",
      "3.1415926535897936\n"
     ]
    }
   ],
   "source": [
    "l = 1\n",
    "\n",
    "for i in range(5):\n",
    "    l = l - ((np.sin(l) - np.sqrt(2)/2)/np.cos(l))\n",
    "    print(4 * l)"
   ]
  },
  {
   "cell_type": "markdown",
   "id": "9e16599f",
   "metadata": {},
   "source": [
    "Now considering the geometry of the regular pentagon we can use the fact that $\\cos(\\pi/5)=(\\sqrt{5}+1)/4$."
   ]
  },
  {
   "cell_type": "code",
   "execution_count": 2,
   "id": "ddefede8",
   "metadata": {},
   "outputs": [
    {
     "name": "stdout",
     "output_type": "stream",
     "text": [
      "3.403303896639087\n",
      "3.1501686666101474\n",
      "3.141602744378809\n",
      "3.141592653603808\n",
      "3.141592653589793\n"
     ]
    }
   ],
   "source": [
    "l = 1\n",
    "\n",
    "for i in range(5):\n",
    "    l = l + ((np.cos(l) - (np.sqrt(5)+1)/4)/np.sin(l))\n",
    "    print(5 * l)"
   ]
  },
  {
   "cell_type": "markdown",
   "id": "ac2d56c4",
   "metadata": {},
   "source": [
    "We continue this thinking by now instead using the fact that $\\sin(\\pi/5)=\\frac{1}{2}\\sqrt{\\frac{5-\\sqrt{5}}{2}}$."
   ]
  },
  {
   "cell_type": "code",
   "execution_count": 15,
   "id": "fb11b60a",
   "metadata": {},
   "outputs": [
    {
     "name": "stdout",
     "output_type": "stream",
     "text": [
      "2.6523722945452772\n",
      "3.1267852401364737\n",
      "3.1415768008188554\n",
      "3.1415926535715344\n",
      "3.1415926535897936\n"
     ]
    }
   ],
   "source": [
    "l = 1\n",
    "\n",
    "for i in range(5):\n",
    "    l = l - ((np.sin(l) - np.sqrt((5-np.sqrt(5))/8))/np.cos(l))\n",
    "    print(5 * l)"
   ]
  },
  {
   "cell_type": "markdown",
   "id": "1616f9dd",
   "metadata": {},
   "source": [
    "Next we consider the angle $2\\pi/5$ first noting that $\\cos(2\\pi/5)=(\\sqrt{5}-1)/4$."
   ]
  },
  {
   "cell_type": "code",
   "execution_count": 19,
   "id": "28716b82",
   "metadata": {},
   "outputs": [
    {
     "name": "stdout",
     "output_type": "stream",
     "text": [
      "3.187145830542195\n",
      "3.1417217061868237\n",
      "3.1415926546719404\n",
      "3.141592653589793\n",
      "3.141592653589793\n"
     ]
    }
   ],
   "source": [
    "l = 1\n",
    "\n",
    "for i in range(5):\n",
    "    l = l + ((np.cos(l) - (np.sqrt(5)-1)/4)/np.sin(l))\n",
    "    print(5 * l / 2)"
   ]
  },
  {
   "cell_type": "code",
   "execution_count": 20,
   "id": "19c547a6",
   "metadata": {},
   "outputs": [
    {
     "data": {
      "text/plain": [
       "0.8660254037844387"
      ]
     },
     "execution_count": 20,
     "metadata": {},
     "output_type": "execute_result"
    }
   ],
   "source": [
    "np.cos(np.pi/6)"
   ]
  },
  {
   "cell_type": "code",
   "execution_count": 21,
   "id": "1d7b33a3",
   "metadata": {},
   "outputs": [
    {
     "data": {
      "text/plain": [
       "0.8660254037844386"
      ]
     },
     "execution_count": 21,
     "metadata": {},
     "output_type": "execute_result"
    }
   ],
   "source": [
    "np.sqrt(3)/2"
   ]
  },
  {
   "cell_type": "markdown",
   "id": "421e286b",
   "metadata": {},
   "source": [
    "Next we use the fact that $\\cos(\\pi/6)=\\sqrt{3}/2$."
   ]
  },
  {
   "cell_type": "code",
   "execution_count": 26,
   "id": "b8bd9529",
   "metadata": {},
   "outputs": [
    {
     "name": "stdout",
     "output_type": "stream",
     "text": [
      "3.6774735875842968\n",
      "3.1763103122009078\n",
      "3.141764517472929\n",
      "3.141592657852862\n",
      "3.1415926535897936\n"
     ]
    }
   ],
   "source": [
    "l = 1\n",
    "\n",
    "for i in range(5):\n",
    "    l = l + ((np.cos(l) - np.sqrt(3)/2)/np.sin(l))\n",
    "    print(6 * l)"
   ]
  },
  {
   "cell_type": "markdown",
   "id": "c2966beb",
   "metadata": {},
   "source": [
    "And the sine version of this."
   ]
  },
  {
   "cell_type": "code",
   "execution_count": 27,
   "id": "a8ba2da9",
   "metadata": {},
   "outputs": [
    {
     "name": "stdout",
     "output_type": "stream",
     "text": [
      "2.2080008051133637\n",
      "3.109881864899114\n",
      "3.141544714085566\n",
      "3.141592653479223\n",
      "3.1415926535897936\n"
     ]
    }
   ],
   "source": [
    "l = 1\n",
    "\n",
    "for i in range(5):\n",
    "    l = l - ((np.sin(l) - 1/2)/np.cos(l))\n",
    "    print(6 * l)"
   ]
  },
  {
   "cell_type": "markdown",
   "id": "9b82f593",
   "metadata": {},
   "source": [
    "## Hally's method"
   ]
  },
  {
   "cell_type": "markdown",
   "id": "09b52222",
   "metadata": {},
   "source": [
    "Edmond Hally, of comet fame and personal friend of Isaac Newton, adapted his technique to a higher-order variant by instead considering the iterative procedure involving\n",
    "$$x_{n+1} = x_n - \\frac{2f(x_n)f'(x_n)}{2f'(x_n) ^2 - f(x_n)f''(x_n)}.$$\n",
    "This is clearly more computationally demanding and can be shown to be in a precise technical sense to be only slightly more than half as good as Newton-Raphson (i.e. two iterations of Newton-Raphson will beat one iteration of Hally), but nonetheless it is worth considering for comparason. "
   ]
  },
  {
   "cell_type": "code",
   "execution_count": 6,
   "id": "90f4359b",
   "metadata": {},
   "outputs": [
    {
     "name": "stdout",
     "output_type": "stream",
     "text": [
      "3.1714544998463285\n",
      "3.1415937632921134\n",
      "3.141592653589793\n",
      "3.141592653589793\n",
      "3.141592653589793\n"
     ]
    }
   ],
   "source": [
    "l = 2\n",
    "\n",
    "for i in range(5):\n",
    "    l = l + np.sin(2 * l)/(np.sin(l)**2 + 1)\n",
    "    print(2 * l)"
   ]
  },
  {
   "cell_type": "markdown",
   "id": "41b49279",
   "metadata": {},
   "source": [
    "## Order 3 Householder method"
   ]
  },
  {
   "cell_type": "markdown",
   "id": "a2293ccc",
   "metadata": {},
   "source": [
    "Newton-Raphson (order 1) and Hally (order 2) are just the first two cases of a whole series of approximation methods \n",
    "known as Householder methods, named after the American mathematician Alston Scott Householder. The higher the order the faster the rate of convergence but at a cost: they become increasingly computationally complex and the proximity of the initial guess to the final answer needs to get smaller. The third order Householder method is given by the formular\n",
    "$$\n",
    "x_{n+1}=x_n-\\frac{6f(x_n)f'(x_n)^2-3f(x_n)^2f''(x_n)}{6f'(x_n)^3-6f(x_n)f'(x_n)f''(x_n)+f(x_n)^2f'''(x_n)}.\n",
    "$$\n",
    "In our special case of the function $f(x)=\\cos(x)$ fortunately the repeating nature of the higher derivatives results in the above function simplifying dramatically and we implement this below. See for instance: https://mathworld.wolfram.com/HouseholdersMethod.html"
   ]
  },
  {
   "cell_type": "code",
   "execution_count": 7,
   "id": "707d7f7f",
   "metadata": {},
   "outputs": [
    {
     "name": "stdout",
     "output_type": "stream",
     "text": [
      "2.775017358434732\n",
      "3.163239547855821\n",
      "3.1415884263757277\n",
      "3.141592653589793\n",
      "3.141592653589793\n"
     ]
    }
   ],
   "source": [
    "l = 2\n",
    "\n",
    "for i in range(5):\n",
    "    l = l + (6*np.cos(l)*np.sin(l)**2 + 3*np.cos(l)**3)/(6*np.sin(l)**3 - 5*np.cos(l)**2*np.sin(l))\n",
    "    print(2 * l)"
   ]
  },
  {
   "cell_type": "markdown",
   "id": "94cb8a47",
   "metadata": {},
   "source": [
    "## Lion Hunting"
   ]
  },
  {
   "cell_type": "markdown",
   "id": "4990e738",
   "metadata": {},
   "source": [
    "What a more conservative mathematitian might call 'the method of interval bisection' or even 'condensation of singularities'. To home-in on a value of $x$ such that $\\cos(x)=0$, i.e. giving us a value for $\\pi/2$, we proceed as follows. Starting with real numbers $a_j$ and $b_j$ such that $\\cos(a_j)\\geq0\\geq\\cos(b_j)$ and set $c_j=(b_j+a_j)/2$. If $\\cos(c_j)\\geq0$, then set $a_{j+1}=c_j$ and $b_{j+1}=b_j$, otherwise set $a_{j+1}=a_j$ and $b_{j+1}=c_j$. Iterating converges on the desired value."
   ]
  },
  {
   "cell_type": "code",
   "execution_count": 8,
   "id": "11b7c66e",
   "metadata": {},
   "outputs": [],
   "source": [
    "def iterate(in1, in2):\n",
    "    new = (in1+in2)/2\n",
    "    if 0 <= np.cos(new):\n",
    "        return new, in2\n",
    "    else:\n",
    "        return in1, new"
   ]
  },
  {
   "cell_type": "code",
   "execution_count": 9,
   "id": "5aed19d1",
   "metadata": {},
   "outputs": [
    {
     "name": "stdout",
     "output_type": "stream",
     "text": [
      "3.5\n",
      "3.25\n",
      "3.125\n",
      "3.1875\n",
      "3.15625\n",
      "3.140625\n",
      "3.1484375\n",
      "3.14453125\n",
      "3.142578125\n",
      "3.1416015625\n",
      "3.14111328125\n",
      "3.141357421875\n",
      "3.1414794921875\n",
      "3.14154052734375\n",
      "3.141571044921875\n",
      "3.1415863037109375\n",
      "3.1415939331054688\n",
      "3.141590118408203\n",
      "3.141592025756836\n",
      "3.1415929794311523\n"
     ]
    }
   ],
   "source": [
    "a, b = 1, 2\n",
    "    \n",
    "for i in range(20):\n",
    "    a, b = iterate(a, b)\n",
    "    print(a+b)"
   ]
  },
  {
   "cell_type": "code",
   "execution_count": null,
   "id": "942f291c",
   "metadata": {},
   "outputs": [],
   "source": []
  }
 ],
 "metadata": {
  "kernelspec": {
   "display_name": "Python 3 (ipykernel)",
   "language": "python",
   "name": "python3"
  },
  "language_info": {
   "codemirror_mode": {
    "name": "ipython",
    "version": 3
   },
   "file_extension": ".py",
   "mimetype": "text/x-python",
   "name": "python",
   "nbconvert_exporter": "python",
   "pygments_lexer": "ipython3",
   "version": "3.11.3"
  }
 },
 "nbformat": 4,
 "nbformat_minor": 5
}
