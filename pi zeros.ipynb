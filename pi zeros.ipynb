{
 "cells": [
  {
   "cell_type": "markdown",
   "id": "94e30815",
   "metadata": {},
   "source": [
    "# Approximating zeros of functions giving us $\\pi$"
   ]
  },
  {
   "cell_type": "markdown",
   "id": "97d50ce8",
   "metadata": {},
   "source": [
    "## The Newton-Raphson method"
   ]
  },
  {
   "cell_type": "markdown",
   "id": "4a7b60a7",
   "metadata": {},
   "source": [
    "In this approach we employ the Newton-Raphson procedure which given a function $f$ starts with an approximate solution $x_0$ to the equation $f(x)=0$ and iteratively obtains a better solution, namely\n",
    "$$x_{n+1} = x_n - \\frac{f(x_n)}{f'(x_n)}.$$\n",
    "In this case we use the fact that $\\pi / 2$ is a zero of the function $f(x)=\\cos(x)$."
   ]
  },
  {
   "cell_type": "code",
   "execution_count": 9,
   "id": "0aa14afe",
   "metadata": {},
   "outputs": [],
   "source": [
    "#Usual imports\n",
    "\n",
    "import numpy as np\n",
    "from mpmath import mp, cos, sin, sqrt, radians\n",
    "from decimal import Decimal, getcontext"
   ]
  },
  {
   "cell_type": "code",
   "execution_count": 10,
   "id": "ae2875fb",
   "metadata": {},
   "outputs": [],
   "source": [
    "# Set the number of decimal places to work to below\n",
    "mp.dps = 30\n",
    "getcontext().prec = 30"
   ]
  },
  {
   "cell_type": "code",
   "execution_count": 13,
   "id": "3cf04f41",
   "metadata": {},
   "outputs": [
    {
     "name": "stdout",
     "output_type": "stream",
     "text": [
      "3.28418523186866140601283997319\n",
      "3.14135055432250141563181953593\n",
      "3.14159265359097573310490869825\n",
      "3.14159265358979323846264338328\n",
      "3.14159265358979323846264338328\n"
     ]
    }
   ],
   "source": [
    "x = 1\n",
    "\n",
    "for _ in range(5):\n",
    "    x = x + cos(x)/sin(x)\n",
    "    print(2 * x)"
   ]
  },
  {
   "cell_type": "markdown",
   "id": "073fa422",
   "metadata": {},
   "source": [
    "Finding a zero to the equation $\\cos(x)=0$ is just one possibility and there are several variants of this. First we find a zero of the equation $\\sin(x)-1=0$. We see that this converges much more slowly!"
   ]
  },
  {
   "cell_type": "code",
   "execution_count": 5,
   "id": "a3a068b8",
   "metadata": {},
   "outputs": [
    {
     "name": "stdout",
     "output_type": "stream",
     "text": [
      "3.0708259115963673885542895644\n",
      "3.10621297467006915611969846335\n",
      "3.12390327545177519599573041791\n",
      "3.13274802218015007311381482279\n",
      "3.13717034509220914473108440921\n",
      "3.13938150024190015158116791119\n",
      "3.14048707702845888607992264473\n",
      "3.14103986532320258056167239252\n",
      "3.14131625945825747412371094997\n",
      "3.14145445652424530186416049929\n",
      "3.14152355505704676335960420667\n",
      "3.14155810432342343756064374397\n",
      "3.14157537895660876759283339095\n",
      "3.14158401627320105672538710755\n",
      "3.14158833493149715430622132814\n",
      "3.14159049426064519722345808092\n",
      "3.1415915739252192179479290235\n",
      "3.14159211375750622821839611485\n",
      "3.1415923836736497333421583673\n",
      "3.14159251863172148590260501921\n"
     ]
    }
   ],
   "source": [
    "x = 1.5\n",
    "\n",
    "for _ in range(20):\n",
    "    x = x - ((sin(x) - 1)/cos(x))\n",
    "    print(2 * x)"
   ]
  },
  {
   "cell_type": "markdown",
   "id": "1d5b66ea",
   "metadata": {},
   "source": [
    "Next we try using the fact that $\\pi/3$ is a zero of $\\cos(x)-1/2=0$."
   ]
  },
  {
   "cell_type": "code",
   "execution_count": 6,
   "id": "2e67d602",
   "metadata": {},
   "outputs": [
    {
     "name": "stdout",
     "output_type": "stream",
     "text": [
      "3.14368518913581028462686078122\n",
      "3.14159307442210234432464592085\n",
      "3.14159265358981027989781991307\n",
      "3.14159265358979323846264338331\n",
      "3.14159265358979323846264338328\n"
     ]
    }
   ],
   "source": [
    "x = 1\n",
    "\n",
    "for _ in range(5):\n",
    "    x = x + ((cos(x) - 0.5)/sin(x))\n",
    "    print(3 * x)"
   ]
  },
  {
   "cell_type": "markdown",
   "id": "884ba691",
   "metadata": {},
   "source": [
    "And the analogue for sine."
   ]
  },
  {
   "cell_type": "code",
   "execution_count": 10,
   "id": "246dcf94",
   "metadata": {},
   "outputs": [
    {
     "name": "stdout",
     "output_type": "stream",
     "text": [
      "3.13633711374092094043418913598\n",
      "3.14158470965521464128022159421\n",
      "3.14159265357157617965439788731\n",
      "3.14159265358979323846254758321\n",
      "3.14159265358979323846264338329\n",
      "3.14159265358979323846264338329\n",
      "3.14159265358979323846264338329\n"
     ]
    }
   ],
   "source": [
    "x = 1\n",
    "\n",
    "for _ in range(7):\n",
    "    x = x - ((sin(x) -  Decimal(3).sqrt()/2)/cos(x))\n",
    "    print(3 * x)"
   ]
  },
  {
   "cell_type": "markdown",
   "id": "cc6ff50c",
   "metadata": {},
   "source": [
    "Next we use the fact that $\\pi/4$ is a zero of $\\cos(x) - \\sqrt{2}/2=0$."
   ]
  },
  {
   "cell_type": "code",
   "execution_count": 12,
   "id": "9a877ec0",
   "metadata": {},
   "outputs": [
    {
     "name": "stdout",
     "output_type": "stream",
     "text": [
      "3.20708151163886697821954983818\n",
      "3.14211439348997606409822339177\n",
      "3.14159268760896268783127607423\n",
      "3.14159265358979338312562758584\n",
      "3.14159265358979323846264338328\n"
     ]
    }
   ],
   "source": [
    "x = 1\n",
    "\n",
    "for _ in range(5):\n",
    "    x = x + ((cos(x) -  Decimal(2).sqrt()/2)/sin(x))\n",
    "    print(4 * x)"
   ]
  },
  {
   "cell_type": "markdown",
   "id": "c8e18b1d",
   "metadata": {},
   "source": [
    "And the same with $3\\pi/4$."
   ]
  },
  {
   "cell_type": "code",
   "execution_count": 14,
   "id": "e7cdd8cd",
   "metadata": {},
   "outputs": [
    {
     "name": "stdout",
     "output_type": "stream",
     "text": [
      "3.30988647194525954861060335153\n",
      "3.12834902255656453464833777918\n",
      "3.14152795748759109467223886806\n",
      "3.14159265202032554964086780739\n",
      "3.14159265358979323753893257525\n",
      "3.14159265358979323846264338328\n",
      "3.14159265358979323846264338328\n"
     ]
    }
   ],
   "source": [
    "x = 1\n",
    "\n",
    "for _ in range(7):\n",
    "    x = x + ((cos(x) + Decimal(2).sqrt()/2)/sin(x))\n",
    "    print(4 * x / 3)"
   ]
  },
  {
   "cell_type": "markdown",
   "id": "ca81c173",
   "metadata": {},
   "source": [
    "Next, let's do the same thing with sine."
   ]
  },
  {
   "cell_type": "code",
   "execution_count": 16,
   "id": "61b0107a",
   "metadata": {},
   "outputs": [
    {
     "name": "stdout",
     "output_type": "stream",
     "text": [
      "3.00526648017570783412235884364\n",
      "3.13939655861845166344409645226\n",
      "3.14159205128694019956958612666\n",
      "3.1415926535897478923831760658\n",
      "3.14159265358979323846264338302\n",
      "3.14159265358979323846264338328\n"
     ]
    }
   ],
   "source": [
    "x = 1\n",
    "\n",
    "for _ in range(6):\n",
    "    x = x - ((sin(x) - Decimal(2).sqrt()/2)/cos(x))\n",
    "    print(4 * x)"
   ]
  },
  {
   "cell_type": "markdown",
   "id": "23502274",
   "metadata": {},
   "source": [
    "Now considering the geometry of the regular pentagon we can use the fact that $\\cos(\\pi/5)=(\\sqrt{5}+1)/4$."
   ]
  },
  {
   "cell_type": "code",
   "execution_count": 20,
   "id": "a4a0cca6",
   "metadata": {},
   "outputs": [
    {
     "name": "stdout",
     "output_type": "stream",
     "text": [
      "3.40330389663908680965778909036\n",
      "3.1501686666101475266391820298\n",
      "3.14160274437880887113109827719\n",
      "3.14159265360380806026001217467\n",
      "3.14159265358979323846267041752\n",
      "3.14159265358979323846264338329\n",
      "3.14159265358979323846264338329\n"
     ]
    }
   ],
   "source": [
    "x = 1\n",
    "\n",
    "for _ in range(7):\n",
    "    x = x + ((cos(x) - (Decimal(5).sqrt()+1)/4)/sin(x))\n",
    "    print(5 * x)"
   ]
  },
  {
   "cell_type": "markdown",
   "id": "d0a5874f",
   "metadata": {},
   "source": [
    "We continue this thinking by now instead using the fact that $\\sin(\\pi/5)=\\frac{1}{2}\\sqrt{\\frac{5-\\sqrt{5}}{2}}$."
   ]
  },
  {
   "cell_type": "code",
   "execution_count": 23,
   "id": "37ec4996",
   "metadata": {},
   "outputs": [
    {
     "name": "stdout",
     "output_type": "stream",
     "text": [
      "2.65237229454527676937652678449\n",
      "3.12678524013647376131080523212\n",
      "3.14157680081885525090377138783\n",
      "3.14159265357153456820212793206\n",
      "3.14159265358979323846261916187\n",
      "3.14159265358979323846264338328\n",
      "3.14159265358979323846264338328\n"
     ]
    }
   ],
   "source": [
    "x = 1\n",
    "\n",
    "for _ in range(7):\n",
    "    x = x - ((sin(x) - Decimal((5-Decimal(5).sqrt())/8).sqrt())/cos(x))\n",
    "    print(5 * x)"
   ]
  },
  {
   "cell_type": "markdown",
   "id": "9ec09cb9",
   "metadata": {},
   "source": [
    "Next we consider the angle $2\\pi/5$ first noting that $\\cos(2\\pi/5)=(\\sqrt{5}-1)/4$."
   ]
  },
  {
   "cell_type": "code",
   "execution_count": 24,
   "id": "eb444979",
   "metadata": {},
   "outputs": [
    {
     "name": "stdout",
     "output_type": "stream",
     "text": [
      "3.18714583054219492515589386065\n",
      "3.14172170618682353029624936247\n",
      "3.14159265467194020551564579262\n",
      "3.14159265358979323853874230918\n",
      "3.14159265358979323846264338328\n"
     ]
    }
   ],
   "source": [
    "x = 1\n",
    "\n",
    "for _ in range(5):\n",
    "    x = x + ((cos(x) - (Decimal(5).sqrt()-1)/4)/sin(x))\n",
    "    print(5 * x / 2)"
   ]
  },
  {
   "cell_type": "markdown",
   "id": "4d487ce6",
   "metadata": {},
   "source": [
    "A similar calculation with the rather more awkward\n",
    "\n",
    "$$\n",
    "\\sin(2\\pi/5)=\\frac{(\\sqrt{5}-1)\\sqrt{5+2\\sqrt{5}}}{4}.\n",
    "$$"
   ]
  },
  {
   "cell_type": "code",
   "execution_count": 26,
   "id": "9f6e4bc0",
   "metadata": {},
   "outputs": [
    {
     "name": "stdout",
     "output_type": "stream",
     "text": [
      "3.00705656026758339430525231632\n",
      "3.13214043602486714174952342423\n",
      "3.14153833573137448496033535954\n",
      "3.14159265177382540830117001544\n",
      "3.1415926535897932364327638835\n",
      "3.14159265358979323846264338328\n",
      "3.14159265358979323846264338328\n"
     ]
    }
   ],
   "source": [
    "x = 1\n",
    "\n",
    "s = Decimal(5).sqrt()\n",
    "v = ((s-1)*np.sqrt(5+2*s))/4\n",
    "\n",
    "for _ in range(7):\n",
    "    x = x - (sin(x) - v)/cos(x)\n",
    "    print(5 * x / 2)"
   ]
  },
  {
   "cell_type": "markdown",
   "id": "f281a64f",
   "metadata": {},
   "source": [
    "Something similar with $\\cos(3\\pi/5)=(1-\\sqrt{5})/4$."
   ]
  },
  {
   "cell_type": "code",
   "execution_count": 28,
   "id": "83e68dc8",
   "metadata": {},
   "outputs": [
    {
     "name": "stdout",
     "output_type": "stream",
     "text": [
      "3.34887816608630572658413738155\n",
      "3.13608909376707937745767780511\n",
      "3.14158972426414830058502850602\n",
      "3.14159265358895680617985618978\n",
      "3.14159265358979323846264331508\n",
      "3.14159265358979323846264338328\n",
      "3.14159265358979323846264338328\n"
     ]
    }
   ],
   "source": [
    "x = 1\n",
    "\n",
    "for _ in range(7):\n",
    "    x = x + ((cos(x) + (Decimal(5).sqrt()-1)/4)/sin(x))\n",
    "    print(5 * x / 3)"
   ]
  },
  {
   "cell_type": "markdown",
   "id": "e4057213",
   "metadata": {},
   "source": [
    "Something similar with $\\cos(4\\pi/5)=-(1+\\sqrt{5})/4$."
   ]
  },
  {
   "cell_type": "code",
   "execution_count": 30,
   "id": "63602cd0",
   "metadata": {},
   "outputs": [
    {
     "name": "stdout",
     "output_type": "stream",
     "text": [
      "3.25440556567605505510160269389\n",
      "3.13322162606187947071476951171\n",
      "3.14155455002882777773854618909\n",
      "3.1415926527905012745337705831\n",
      "3.14159265358979323811091303401\n",
      "3.14159265358979323846264338328\n",
      "3.14159265358979323846264338328\n"
     ]
    }
   ],
   "source": [
    "x = 1\n",
    "\n",
    "for _ in range(7):\n",
    "    x = x + ((cos(x) + (Decimal(5).sqrt()+1)/4)/sin(x))\n",
    "    print(5 * x / 4)"
   ]
  },
  {
   "cell_type": "markdown",
   "id": "6ea8d1d2",
   "metadata": {},
   "source": [
    "Next we use the fact that $\\cos(\\pi/6)=\\sqrt{3}/2$."
   ]
  },
  {
   "cell_type": "code",
   "execution_count": 32,
   "id": "ebfe2d5b",
   "metadata": {},
   "outputs": [
    {
     "name": "stdout",
     "output_type": "stream",
     "text": [
      "3.67747358758429559708038263495\n",
      "3.1763103122009065989739265633\n",
      "3.141764517472929170646295343\n",
      "3.14159265785286150685418199183\n",
      "3.14159265358979324108579839612\n",
      "3.14159265358979323846264338325\n",
      "3.14159265358979323846264338325\n"
     ]
    }
   ],
   "source": [
    "x = 1\n",
    "\n",
    "for _ in range(7):\n",
    "    x = x + ((cos(x) - Decimal(3).sqrt()/2)/sin(x))\n",
    "    print(6 * x)"
   ]
  },
  {
   "cell_type": "markdown",
   "id": "fcf71613",
   "metadata": {},
   "source": [
    "And the sine version of this."
   ]
  },
  {
   "cell_type": "code",
   "execution_count": 34,
   "id": "168b706e",
   "metadata": {},
   "outputs": [
    {
     "name": "stdout",
     "output_type": "stream",
     "text": [
      "2.20800080511336347069341087945\n",
      "3.10988186489911350757995921564\n",
      "3.14154471408556607396801757724\n",
      "3.14159265347922275889573318606\n",
      "3.14159265358979323846205516771\n",
      "3.14159265358979323846264338328\n",
      "3.14159265358979323846264338328\n"
     ]
    }
   ],
   "source": [
    "x = 1\n",
    "\n",
    "for _ in range(7):\n",
    "    x = x - ((sin(x) - 1/2)/cos(x))\n",
    "    print(6 * x)"
   ]
  },
  {
   "cell_type": "markdown",
   "id": "07092a91",
   "metadata": {},
   "source": [
    "From the geometry of the regular heptagon we have the following. If $b$ is the length of a shorter digonal and the sides have length 1, then $b^3-b^2-2b+1=0$. Moreover we have that $\\cos(\\pi/7)=b/2$. Solving this cubic equation in the usual manner (which involves first transforming it into $t^3-7/3t+7/27=0$ with the substitution $b=t+1/3$) thus tells us that \n",
    "\n",
    "$$\\cos\\bigg(\\frac{\\pi}{7}\\bigg)=\\frac{1}{2}\\bigg(\n",
    "\\frac{1}{3} + \n",
    "\\sqrt[3]{-\\frac{7}{54}+\\sqrt{-\\frac{49}{108}}} + \n",
    "\\sqrt[3]{-\\frac{7}{54}-\\sqrt{-\\frac{49}{108}}}\n",
    "\\bigg).$$\n",
    "\n",
    "For simplicitt's sake we'll revert to using numpy for this."
   ]
  },
  {
   "cell_type": "code",
   "execution_count": 64,
   "id": "cb68328d",
   "metadata": {},
   "outputs": [],
   "source": [
    "p = -7/3\n",
    "q = 7/27\n",
    "\n",
    "dis = q**2/4 + p**3/27"
   ]
  },
  {
   "cell_type": "code",
   "execution_count": 65,
   "id": "da3ac155",
   "metadata": {},
   "outputs": [],
   "source": [
    "a7 = -q/2+1j*np.sqrt(-dis)\n",
    "b7 = -q/2-1j*np.sqrt(-dis)"
   ]
  },
  {
   "cell_type": "code",
   "execution_count": 66,
   "id": "2a5c305e",
   "metadata": {},
   "outputs": [],
   "source": [
    "v7 = (1/3+a7**(1/3)+b7**(1/3)).real/2"
   ]
  },
  {
   "cell_type": "code",
   "execution_count": 67,
   "id": "1bb0b30f",
   "metadata": {},
   "outputs": [
    {
     "name": "stdout",
     "output_type": "stream",
     "text": [
      "3.999699360024489\n",
      "3.225445530205251\n",
      "3.142606366926234\n",
      "3.141592805955743\n",
      "3.1415926535897953\n"
     ]
    }
   ],
   "source": [
    "x = 1\n",
    "\n",
    "for _ in range(5):\n",
    "    x = x + ((np.cos(x) - v7)/np.sin(x))\n",
    "    print(7 * x)"
   ]
  },
  {
   "cell_type": "markdown",
   "id": "c427e067",
   "metadata": {},
   "source": [
    "Thinking back to the regular heptagon, let $c$ be the length of the long diagonal. Looking at the triangle whose sides have lengths $b$, $b$ and $c$, then we see that $\\cos(2\\pi/7)=c/2b$. Similar to the above, finding this value entails solving the equation $t^3+t^2-2t-1=0$, giving us the value of $c/b$, which reduces to solving the equation $x^3-\\frac{7}{3}x-\\frac{7}{27}=0$. (Alternatively one could apply the double-angle formula or the apply the cosine rule to the triangle with side lengths 1, 1 and $b$ to find that $\\cos(2\\pi/7)=(b^2-2)/2$). From this it follows that \n",
    "\n",
    "$$\n",
    "\\cos\\bigg(\\frac{2\\pi}{7}\\bigg)=\\frac{1}{2}\\bigg(\n",
    "-\\frac{1}{3} +\n",
    "\\sqrt[3]{\\frac{7}{54}+\\sqrt{-\\frac{49}{108}}} + \n",
    "\\sqrt[3]{\\frac{7}{54}-\\sqrt{-\\frac{49}{108}}}\n",
    "\\bigg)\n",
    "$$"
   ]
  },
  {
   "cell_type": "code",
   "execution_count": 70,
   "id": "d50e3c0d",
   "metadata": {},
   "outputs": [],
   "source": [
    "# cos(2pi/7)\n",
    "\n",
    "# Since q is squared, this is the same as the above discriminant\n",
    "\n",
    "p = -7/3\n",
    "q = -7/27\n",
    "\n",
    "dis = q**2/4 + p**3/27"
   ]
  },
  {
   "cell_type": "code",
   "execution_count": 71,
   "id": "3ed34577",
   "metadata": {},
   "outputs": [],
   "source": [
    "a72 = -q/2+1j*np.sqrt(-dis)\n",
    "b72 = -q/2-1j*np.sqrt(-dis)"
   ]
  },
  {
   "cell_type": "code",
   "execution_count": 72,
   "id": "130d90ba",
   "metadata": {},
   "outputs": [
    {
     "data": {
      "text/plain": [
       "0.6234898018587336"
      ]
     },
     "execution_count": 72,
     "metadata": {},
     "output_type": "execute_result"
    }
   ],
   "source": [
    "u7 = (-1/3+a72**(1/3)+b72**(1/3)).real/2\n",
    "u7"
   ]
  },
  {
   "cell_type": "code",
   "execution_count": 73,
   "id": "f92128b7",
   "metadata": {},
   "outputs": [
    {
     "name": "stdout",
     "output_type": "stream",
     "text": [
      "3.153991354159944\n",
      "3.141610065990437\n",
      "3.1415926536243335\n",
      "3.141592653589793\n",
      "3.141592653589793\n"
     ]
    }
   ],
   "source": [
    "x = 1\n",
    "\n",
    "for _ in range(5):\n",
    "    x = x + ((np.cos(x) - u7)/np.sin(x))\n",
    "    print(7 * x / 2)"
   ]
  },
  {
   "cell_type": "markdown",
   "id": "69df7ede",
   "metadata": {},
   "source": [
    "Thinking about the geometry of the regular heptagon even more carefully we find that if the short diagonal has length $b$ and the longer diagonal has length $c$, then\n",
    "\n",
    "$$\n",
    "\\cos\\bigg(\\frac{\\pi}{7}\\bigg)=\\frac{b}{2}\\mbox{, }\n",
    "\\cos\\bigg(\\frac{2\\pi}{7}\\bigg)=\\frac{c-1}{2}\\mbox{ and }\n",
    "\\cos\\bigg(\\frac{3\\pi}{7}\\bigg)=\\frac{c-b}{2}.\n",
    "$$\n",
    "\n",
    "From this observe that \n",
    "\n",
    "$$\n",
    "\\cos\\bigg(\\frac{2\\pi}{7}\\bigg)=\\frac{c-1}{2}=\\frac{c-b+b-1}{2}=\\frac{c-b}{2}+\\frac{b}{2}-\\frac{1}{2}=\\cos\\bigg(\\frac{3\\pi}{7}\\bigg)+\\cos\\bigg(\\frac{\\pi}{7}\\bigg)-\\frac{1}{2}\n",
    "$$\n",
    "and so $\\cos(3\\pi/7)=\\cos(2\\pi/7)-\\cos(\\pi/7)+1/2$. In particular we have that\n",
    "\n",
    "$$\n",
    "\\cos\\bigg(\\frac{3\\pi}{7}\\bigg)=\\frac{1}{2}\\bigg(\n",
    "\\frac{1}{3} +\n",
    "\\sqrt[3]{\\frac{7}{54}+\\sqrt{-\\frac{49}{108}}} + \n",
    "\\sqrt[3]{\\frac{7}{54}-\\sqrt{-\\frac{49}{108}}}\\\\ -\n",
    "\\sqrt[3]{-\\frac{7}{54}+\\sqrt{-\\frac{49}{108}}} - \n",
    "\\sqrt[3]{-\\frac{7}{54}-\\sqrt{-\\frac{49}{108}}}\n",
    "\\bigg).\n",
    "$$"
   ]
  },
  {
   "cell_type": "code",
   "execution_count": 74,
   "id": "798a13a2",
   "metadata": {},
   "outputs": [
    {
     "name": "stdout",
     "output_type": "stream",
     "text": [
      "3.2910647762111753\n",
      "3.1424688802607927\n",
      "3.1415926910966525\n",
      "3.141592653589793\n",
      "3.141592653589793\n"
     ]
    }
   ],
   "source": [
    "# cos(3pi/7)\n",
    "\n",
    "l = 1\n",
    "\n",
    "for _ in range(5):\n",
    "    x = x + ((np.cos(x) - (u7-v7+1/2))/np.sin(x))\n",
    "    print(7 * x / 3)"
   ]
  },
  {
   "cell_type": "markdown",
   "id": "f7150bdc",
   "metadata": {},
   "source": [
    "Recalling that for every real number $x$ we have that $\\cos(-x)=-\\cos(x)$ we can go even further."
   ]
  },
  {
   "cell_type": "code",
   "execution_count": 75,
   "id": "0c233493",
   "metadata": {},
   "outputs": [
    {
     "name": "stdout",
     "output_type": "stream",
     "text": [
      "3.336436958367085\n",
      "3.1382138367016643\n",
      "3.1415919136224018\n",
      "3.1415926535897576\n",
      "3.1415926535897936\n"
     ]
    }
   ],
   "source": [
    "# cos(4pi/7)\n",
    "\n",
    "x = 1\n",
    "\n",
    "for _ in range(5):\n",
    "    x = x + ((np.cos(x) + v7*(2*u7-1))/np.sin(x))\n",
    "    print(7 * x / 4)"
   ]
  },
  {
   "cell_type": "markdown",
   "id": "2181e05e",
   "metadata": {},
   "source": [
    "Ditto $\\cos(5\\pi/7)$."
   ]
  },
  {
   "cell_type": "code",
   "execution_count": 76,
   "id": "edeea831",
   "metadata": {},
   "outputs": [
    {
     "name": "stdout",
     "output_type": "stream",
     "text": [
      "3.3362627829521485\n",
      "3.127960868402183\n",
      "3.1415405623202517\n",
      "3.1415926528170033\n",
      "3.141592653589793\n"
     ]
    }
   ],
   "source": [
    "x = 1\n",
    "\n",
    "for _ in range(5):\n",
    "    x = x + ((np.cos(x) + u7)/np.sin(x))\n",
    "    print(7 * x / 5)"
   ]
  },
  {
   "cell_type": "markdown",
   "id": "60e7b7e4",
   "metadata": {},
   "source": [
    "Ditto $\\cos(6\\pi/7)$."
   ]
  },
  {
   "cell_type": "code",
   "execution_count": 77,
   "id": "3f00499d",
   "metadata": {},
   "outputs": [
    {
     "name": "stdout",
     "output_type": "stream",
     "text": [
      "3.164932877176024\n",
      "3.1410835296484865\n",
      "3.141592423152659\n",
      "3.1415926535897456\n",
      "3.1415926535897936\n"
     ]
    }
   ],
   "source": [
    "x = 1\n",
    "\n",
    "for _ in range(5):\n",
    "    x = x + ((np.cos(x) + v7)/np.sin(x))\n",
    "    print(7 * x / 6)"
   ]
  },
  {
   "cell_type": "markdown",
   "id": "f172d7f1",
   "metadata": {},
   "source": [
    "Next we use the fact that $\\displaystyle\\cos\\bigg(\\frac{\\pi}{8}\\bigg)=\\frac{\\sqrt{2+\\sqrt{2}}}{2}$."
   ]
  },
  {
   "cell_type": "code",
   "execution_count": 84,
   "id": "d2c83e66",
   "metadata": {},
   "outputs": [],
   "source": [
    "sqrt_2 = Decimal(2).sqrt()\n",
    "sqrt_2_plus_2 = sqrt_2 + Decimal(2)\n",
    "sqrt_2_plus_2_sqrt = sqrt_2_plus_2.sqrt()\n",
    "v8 = sqrt_2_plus_2_sqrt / Decimal(2)"
   ]
  },
  {
   "cell_type": "code",
   "execution_count": 87,
   "id": "f07382ab",
   "metadata": {},
   "outputs": [
    {
     "name": "stdout",
     "output_type": "stream",
     "text": [
      "4.35326960935471119404382374085\n",
      "3.29757559050265854565412667372\n",
      "3.14508025920037326195599190246\n",
      "3.14159448675382770606812083354\n",
      "3.1415926535903002969903640969\n",
      "3.14159265358979323846264342211\n",
      "3.14159265358979323846264338332\n",
      "3.14159265358979323846264338332\n"
     ]
    }
   ],
   "source": [
    "x = 1\n",
    "\n",
    "for _ in range(8):\n",
    "    x = x + ((cos(x) - v8)/sin(x))\n",
    "    print(8 * x)"
   ]
  },
  {
   "cell_type": "markdown",
   "id": "7f8ca08f",
   "metadata": {},
   "source": [
    "From the geometry of the regular octogon we have that of the diagonals in ascending length are $b$, $c$ and $d$, then\n",
    "\n",
    "$$\n",
    "\\cos\\bigg(\\frac{3\\pi}{8}\\bigg)=\\frac{d-b}{2},\\,\\cos\\bigg(\\frac{\\pi}{8}\\bigg)=\\frac{b}{2}\\mbox{ and }d=b\\sqrt{2}\n",
    "$$\n",
    "\n",
    "from which we can deduce that $\\cos(3\\pi/8)=(\\sqrt{2}-1)\\cos(\\pi/8)$."
   ]
  },
  {
   "cell_type": "code",
   "execution_count": 88,
   "id": "1b3d9d66",
   "metadata": {},
   "outputs": [
    {
     "name": "stdout",
     "output_type": "stream",
     "text": [
      "3.16616932759809426016976951178\n",
      "3.14163869364585706346165400229\n",
      "3.1415926537544130500858144313\n",
      "3.14159265358979323846474808128\n",
      "3.14159265358979323846264338328\n"
     ]
    }
   ],
   "source": [
    "x = 1\n",
    "\n",
    "for _ in range(5):\n",
    "    x = x + ((cos(x) - (sqrt_2-1)*v8)/sin(x))\n",
    "    print(8 * x / 3)"
   ]
  },
  {
   "cell_type": "markdown",
   "id": "b1517099",
   "metadata": {},
   "source": [
    "Inevitably, $\\cos(5\\pi/8)\\ldots$"
   ]
  },
  {
   "cell_type": "code",
   "execution_count": 89,
   "id": "7a01a8b1",
   "metadata": {},
   "outputs": [
    {
     "name": "stdout",
     "output_type": "stream",
     "text": [
      "3.35499477443100169351868225003\n",
      "3.13397348251002485625559936068\n",
      "3.14158521149740873615934565758\n",
      "3.14159265358262420904784666519\n",
      "3.14159265358979323846263673062\n"
     ]
    }
   ],
   "source": [
    "x = 1\n",
    "\n",
    "for _ in range(5):\n",
    "    x = x + ((cos(x) + (sqrt_2-1)*v8)/sin(x))\n",
    "    print(8 * x / 5)"
   ]
  },
  {
   "cell_type": "markdown",
   "id": "10f8de09",
   "metadata": {},
   "source": [
    "$\\ldots$ and $\\cos(7\\pi/8)$."
   ]
  },
  {
   "cell_type": "code",
   "execution_count": 91,
   "id": "269b5bde",
   "metadata": {},
   "outputs": [
    {
     "name": "stdout",
     "output_type": "stream",
     "text": [
      "3.13145889222779715057984229209\n",
      "3.14148671849221362237345361098\n",
      "3.14159264173960653308332962813\n",
      "3.1415926535897930901411408211\n",
      "3.14159265358979323846264338327\n",
      "3.14159265358979323846264338327\n"
     ]
    }
   ],
   "source": [
    "x = 1\n",
    "\n",
    "for _ in range(6):\n",
    "    x = x + ((cos(x) + v8)/sin(x))\n",
    "    print(8 * x / 7)"
   ]
  },
  {
   "cell_type": "markdown",
   "id": "2f810b19",
   "metadata": {},
   "source": [
    "For angles relating to the regular nonagon we have the following. Recalling the formula $\\cos(3\\theta)=4\\cos^3(\\theta)-3\\cos(\\theta)$ with the fact that $\\cos(\\pi/3)=1/2$ enables us find $\\cos(\\pi/9)$ by solving this cubic equation. In particular this tells us that\n",
    "\n",
    "$$\n",
    "\\cos\\bigg(\\frac{\\pi}{9}\\bigg)=2^{-4/3}\\bigg(\\sqrt[3]{1+\\sqrt{-3}}+\\sqrt[3]{1-\\sqrt{-3}}\\bigg)\n",
    "$$\n",
    "\n",
    "as discussed here: https://mathworld.wolfram.com/TrigonometryAnglesPi9.html\n",
    "Again, for simplicity we will stick to numpy functionality."
   ]
  },
  {
   "cell_type": "code",
   "execution_count": 92,
   "id": "2da37e70",
   "metadata": {},
   "outputs": [
    {
     "data": {
      "text/plain": [
       "0.9396926207859085"
      ]
     },
     "execution_count": 92,
     "metadata": {},
     "output_type": "execute_result"
    }
   ],
   "source": [
    "v9 = ((1+1j*np.sqrt(3))**(1/3)+(1-1j*np.sqrt(3))**(1/3)).real*2**(-4/3)\n",
    "v9"
   ]
  },
  {
   "cell_type": "code",
   "execution_count": 93,
   "id": "a6ee31e6",
   "metadata": {},
   "outputs": [
    {
     "data": {
      "text/plain": [
       "0.9396926207859084"
      ]
     },
     "execution_count": 93,
     "metadata": {},
     "output_type": "execute_result"
    }
   ],
   "source": [
    "np.cos(np.pi/9)"
   ]
  },
  {
   "cell_type": "code",
   "execution_count": 94,
   "id": "12048dc8",
   "metadata": {},
   "outputs": [
    {
     "name": "stdout",
     "output_type": "stream",
     "text": [
      "4.728298540108868\n",
      "3.3904488573729346\n",
      "3.150320553800209\n",
      "3.1416042473273658\n",
      "3.1415926536103074\n",
      "3.1415926535897896\n",
      "3.1415926535897896\n"
     ]
    }
   ],
   "source": [
    "x = 1\n",
    "\n",
    "for _ in range(7):\n",
    "    x = x + ((np.cos(x) - v9)/np.sin(x))\n",
    "    print(9 * x)"
   ]
  },
  {
   "cell_type": "markdown",
   "id": "0ccc1b82",
   "metadata": {},
   "source": [
    "From the double angle formula we have that $\\cos(2\\theta)=2\\cos^2(\\theta)-1$. Combined with the above this beautifully tells us that\n",
    "\n",
    "$$\n",
    "\\cos\\bigg(\\frac{2\\pi}{9}\\bigg)=2^{-4/3}\\bigg(\\sqrt[3]{-1+\\sqrt{-3}}+\\sqrt[3]{-1-\\sqrt{-3}}\\bigg).\n",
    "$$"
   ]
  },
  {
   "cell_type": "code",
   "execution_count": 95,
   "id": "53b70fd8",
   "metadata": {},
   "outputs": [
    {
     "data": {
      "text/plain": [
       "0.7660444431189781"
      ]
     },
     "execution_count": 95,
     "metadata": {},
     "output_type": "execute_result"
    }
   ],
   "source": [
    "v92 = 2**(-4/3)*((-1+1j*np.sqrt(3))**(1/3)+(-1-1j*np.sqrt(3))**(1/3)).real\n",
    "v92"
   ]
  },
  {
   "cell_type": "code",
   "execution_count": 96,
   "id": "c45bd9e0",
   "metadata": {},
   "outputs": [
    {
     "name": "stdout",
     "output_type": "stream",
     "text": [
      "3.2927811701544485\n",
      "3.1444489711288757\n",
      "3.141593732721234\n",
      "3.1415926535899468\n",
      "3.1415926535897922\n",
      "3.141592653589793\n"
     ]
    }
   ],
   "source": [
    "x = 1\n",
    "\n",
    "for _ in range(6):\n",
    "    x = x + ((np.cos(x) - v92)/np.sin(x))\n",
    "    print(9 * x / 2)"
   ]
  },
  {
   "cell_type": "markdown",
   "id": "c2c38799",
   "metadata": {},
   "source": [
    "Calculations similar to those relating to the regular heptagon tell us that\n",
    "\n",
    "$$\n",
    "\\cos\\bigg(\\frac{\\pi}{9}\\bigg) -\n",
    "\\cos\\bigg(\\frac{2\\pi}{9}\\bigg) +\n",
    "\\cos\\bigg(\\frac{3\\pi}{9}\\bigg) - \n",
    "\\cos\\bigg(\\frac{4\\pi}{9}\\bigg) =\n",
    "\\frac{1}{2}.\n",
    "$$\n",
    "\n",
    "Recalling that $\\cos(3\\pi/9)=\\cos(\\pi/3)=1/2$ this tells us that\n",
    "\n",
    "$$\n",
    "\\cos\\bigg(\\frac{\\pi}{9}\\bigg) -\n",
    "\\cos\\bigg(\\frac{2\\pi}{9}\\bigg) = \n",
    "\\cos\\bigg(\\frac{4\\pi}{9}\\bigg).\n",
    "$$"
   ]
  },
  {
   "cell_type": "code",
   "execution_count": 98,
   "id": "02ccc37f",
   "metadata": {},
   "outputs": [
    {
     "data": {
      "text/plain": [
       "0.17364817766693041"
      ]
     },
     "execution_count": 98,
     "metadata": {},
     "output_type": "execute_result"
    }
   ],
   "source": [
    "v9-v92"
   ]
  },
  {
   "cell_type": "code",
   "execution_count": 99,
   "id": "e4e8d5ae",
   "metadata": {},
   "outputs": [
    {
     "data": {
      "text/plain": [
       "0.17364817766693041"
      ]
     },
     "execution_count": 99,
     "metadata": {},
     "output_type": "execute_result"
    }
   ],
   "source": [
    "np.cos(4*np.pi/9)"
   ]
  },
  {
   "cell_type": "code",
   "execution_count": 100,
   "id": "24c19ac4",
   "metadata": {},
   "outputs": [
    {
     "name": "stdout",
     "output_type": "stream",
     "text": [
      "3.230392435802237\n",
      "3.1418538015902207\n",
      "3.141592656260832\n",
      "3.141592653589793\n"
     ]
    }
   ],
   "source": [
    "x = 1\n",
    "\n",
    "for _ in range(4):\n",
    "    x = x + ((np.cos(x) - v9+v92)/np.sin(x))\n",
    "    print(9 * x / 4)"
   ]
  },
  {
   "cell_type": "markdown",
   "id": "23a03952",
   "metadata": {},
   "source": [
    "As ever we have that $\\cos(\\pi-\\theta)=-\\cos(\\theta)$ so we can easily obtain $\\cos(5\\pi/9)\\ldots$"
   ]
  },
  {
   "cell_type": "code",
   "execution_count": 101,
   "id": "8350b9a7",
   "metadata": {},
   "outputs": [
    {
     "name": "stdout",
     "output_type": "stream",
     "text": [
      "3.3272194687218004\n",
      "3.1391958428866027\n",
      "3.14159237369809\n",
      "3.1415926535897896\n",
      "3.1415926535897936\n",
      "3.141592653589793\n"
     ]
    }
   ],
   "source": [
    "x = 1\n",
    "\n",
    "for _ in range(6):\n",
    "    x = x + ((np.cos(x) + v9-v92)/np.sin(x))\n",
    "    print(9 * x / 5)"
   ]
  },
  {
   "cell_type": "markdown",
   "id": "51f8db56",
   "metadata": {},
   "source": [
    "$\\ldots$and $\\cos(7\\pi/9)\\ldots$"
   ]
  },
  {
   "cell_type": "code",
   "execution_count": 102,
   "id": "ff8afdd7",
   "metadata": {},
   "outputs": [
    {
     "name": "stdout",
     "output_type": "stream",
     "text": [
      "3.2817292495012937\n",
      "3.1304537096486276\n",
      "3.1415360117823\n",
      "3.1415926521029927\n",
      "3.1415926535897936\n"
     ]
    }
   ],
   "source": [
    "x = 1\n",
    "\n",
    "for _ in range(5):\n",
    "    x = x + ((np.cos(x) + v92)/np.sin(x))\n",
    "    print(9 * x / 7)"
   ]
  },
  {
   "cell_type": "markdown",
   "id": "08ee6ede",
   "metadata": {},
   "source": [
    "$\\ldots$and finally $\\cos(8\\pi/9)$."
   ]
  },
  {
   "cell_type": "code",
   "execution_count": 159,
   "id": "cb5ddb7c",
   "metadata": {},
   "outputs": [
    {
     "name": "stdout",
     "output_type": "stream",
     "text": [
      "3.1036710683386355\n",
      "3.139998241352238\n",
      "3.1415895624696377\n",
      "3.141592653578126\n",
      "3.141592653589794\n",
      "3.1415926535897936\n"
     ]
    }
   ],
   "source": [
    "x = 1\n",
    "\n",
    "for _ in range(6):\n",
    "    x = x + ((np.cos(x) + v9)/np.sin(x))\n",
    "    print(9 * x / 8)"
   ]
  },
  {
   "cell_type": "markdown",
   "id": "0ceda1ae",
   "metadata": {},
   "source": [
    "Recalling that $\\cos(2\\theta)=2\\cos^2(\\theta)-1$ we can obtain the value of $\\cos(\\pi/10)$ from that of $\\cos(\\pi/5)$."
   ]
  },
  {
   "cell_type": "code",
   "execution_count": 156,
   "id": "62c23cec",
   "metadata": {},
   "outputs": [
    {
     "data": {
      "text/plain": [
       "0.9510565162951535"
      ]
     },
     "execution_count": 156,
     "metadata": {},
     "output_type": "execute_result"
    }
   ],
   "source": [
    "np.cos(np.pi/10)"
   ]
  },
  {
   "cell_type": "code",
   "execution_count": 14,
   "id": "8fb9f57c",
   "metadata": {},
   "outputs": [
    {
     "data": {
      "text/plain": [
       "Decimal('0.809016994374947424102293417182')"
      ]
     },
     "execution_count": 14,
     "metadata": {},
     "output_type": "execute_result"
    }
   ],
   "source": [
    "v5 = (Decimal(1)+Decimal(5).sqrt())/Decimal(4)\n",
    "v5"
   ]
  },
  {
   "cell_type": "code",
   "execution_count": 15,
   "id": "aa3aa5e2",
   "metadata": {},
   "outputs": [
    {
     "data": {
      "text/plain": [
       "Decimal('0.951056516295153572116439333379')"
      ]
     },
     "execution_count": 15,
     "metadata": {},
     "output_type": "execute_result"
    }
   ],
   "source": [
    "v10 = Decimal((v5+Decimal(1))/2).sqrt()\n",
    "v10"
   ]
  },
  {
   "cell_type": "code",
   "execution_count": 16,
   "id": "ec59997b",
   "metadata": {},
   "outputs": [
    {
     "name": "stdout",
     "output_type": "stream",
     "text": [
      "5.11861706650780209486874416495\n",
      "3.50117790272926016516496590766\n",
      "3.1593729165125865226065170689\n",
      "3.14164101882425909458409220789\n",
      "3.14159265394975273958715438996\n",
      "3.14159265358979323848258228573\n",
      "3.14159265358979323846264338329\n"
     ]
    }
   ],
   "source": [
    "x = 1\n",
    "\n",
    "for _ in range(7):\n",
    "    x = x + ((cos(x) - v10)/sin(x))\n",
    "    print(10 * x)"
   ]
  },
  {
   "cell_type": "markdown",
   "id": "f65cf5a5",
   "metadata": {},
   "source": [
    "Recalling that $\\cos(3\\theta)=4\\cos^3(\\theta)-3\\cos(\\theta)$ we can obtain $\\cos(3\\pi/10)$."
   ]
  },
  {
   "cell_type": "code",
   "execution_count": 17,
   "id": "f28028ac",
   "metadata": {},
   "outputs": [
    {
     "data": {
      "text/plain": [
       "Decimal('0.58778525229247312916870595463')"
      ]
     },
     "execution_count": 17,
     "metadata": {},
     "output_type": "execute_result"
    }
   ],
   "source": [
    "v103 = 4*v10**3-3*v10\n",
    "v103"
   ]
  },
  {
   "cell_type": "code",
   "execution_count": 19,
   "id": "93ba987f",
   "metadata": {},
   "outputs": [
    {
     "name": "stdout",
     "output_type": "stream",
     "text": [
      "3.14523832953799144181282277299\n",
      "3.14159409945407686160219024759\n",
      "3.14159265359002106643735306126\n",
      "3.14159265358979323846264338897\n",
      "3.14159265358979323846264338332\n",
      "3.14159265358979323846264338332\n"
     ]
    }
   ],
   "source": [
    "x = 1\n",
    "\n",
    "for _ in range(6):\n",
    "    x = x + ((cos(x) - v103)/sin(x))\n",
    "    print(10 * x / 3)"
   ]
  },
  {
   "cell_type": "markdown",
   "id": "d121b2ee",
   "metadata": {},
   "source": [
    "As ever, $\\cos(\\pi-\\theta)=-\\cos(\\theta)$ allow to take things further."
   ]
  },
  {
   "cell_type": "code",
   "execution_count": 20,
   "id": "17dab13b",
   "metadata": {},
   "outputs": [
    {
     "name": "stdout",
     "output_type": "stream",
     "text": [
      "3.34373390429609139066999020184\n",
      "3.12842710651268883236073004292\n",
      "3.14154923961051505116196166299\n",
      "3.14159265311053832408302685742\n",
      "3.1415926535897932384042367417\n",
      "3.14159265358979323846264338326\n"
     ]
    }
   ],
   "source": [
    "# cos(7pi/10)\n",
    "\n",
    "x = 1\n",
    "\n",
    "for _ in range(6):\n",
    "    x = x + ((cos(x) + v103)/sin(x))\n",
    "    print(10 * x / 7)"
   ]
  },
  {
   "cell_type": "markdown",
   "id": "c16351dc",
   "metadata": {},
   "source": [
    "And finally $\\cos(9\\pi/10)$."
   ]
  },
  {
   "cell_type": "code",
   "execution_count": 21,
   "id": "e98ef20f",
   "metadata": {},
   "outputs": [
    {
     "name": "stdout",
     "output_type": "stream",
     "text": [
      "3.0803594724643124405844061741\n",
      "3.13720313413017555367290015269\n",
      "3.14156631140896520530470191561\n",
      "3.14159265262883168864964785076\n",
      "3.14159265358979323718370831491\n",
      "3.14159265358979323846264338328\n"
     ]
    }
   ],
   "source": [
    "# cos(7pi/10)\n",
    "\n",
    "x = 1\n",
    "\n",
    "for _ in range(6):\n",
    "    x = x + ((cos(x) + v10)/sin(x))\n",
    "    print(10 * x / 9)"
   ]
  },
  {
   "cell_type": "markdown",
   "id": "b2117908",
   "metadata": {},
   "source": [
    "There are some nice expressions relating to $\\pi/17$ many of which can be found here: https://mathworld.wolfram.com/TrigonometryAnglesPi17.html"
   ]
  },
  {
   "cell_type": "code",
   "execution_count": 105,
   "id": "429084c9",
   "metadata": {},
   "outputs": [],
   "source": [
    "c = Decimal(17).sqrt()-1\n",
    "a = Decimal(Decimal(18)+c).sqrt() #np.sqrt(17+c+1)\n",
    "b = Decimal(Decimal(16)-c).sqrt()\n",
    "f = Decimal(2).sqrt()\n",
    "d = Decimal(Decimal(34)+Decimal(6)*(c+Decimal(1)) + f*c*b - Decimal(8)*f*a).sqrt() #np.sqrt(34 + 6*(c+1)+f*c*b - 8*f*a)\n",
    "e = Decimal(2)*Decimal(17 + Decimal(3)*(c+1) - Decimal(2)*f*a - f*b).sqrt() #2*np.sqrt(17+3*(c+1) - 2*f*a-f*b)"
   ]
  },
  {
   "cell_type": "code",
   "execution_count": 118,
   "id": "3267feee",
   "metadata": {},
   "outputs": [
    {
     "data": {
      "text/plain": [
       "Decimal('0.183749517816570331574408839616')"
      ]
     },
     "execution_count": 118,
     "metadata": {},
     "output_type": "execute_result"
    }
   ],
   "source": [
    " # sin(pi/17)\n",
    "\n",
    "v = Decimal(b**2 - f*(d+b)).sqrt()*f/Decimal(8)\n",
    "v"
   ]
  },
  {
   "cell_type": "code",
   "execution_count": 120,
   "id": "25b715c2",
   "metadata": {},
   "outputs": [
    {
     "name": "stdout",
     "output_type": "stream",
     "text": [
      "-3.69446089238294392515968603239\n",
      "3.25826812264332015159912975525\n",
      "3.1415158768546604226399180608\n",
      "3.14159265355738483949147624098\n",
      "3.14159265358979323846263760861\n",
      "3.1415926535897932384626433832\n",
      "3.1415926535897932384626433832\n"
     ]
    }
   ],
   "source": [
    "x = 1\n",
    "\n",
    "for _ in range(7):\n",
    "    x = x - ((sin(x) - v)/cos(x))\n",
    "    print(17 * x)"
   ]
  },
  {
   "cell_type": "code",
   "execution_count": 122,
   "id": "e8a48868",
   "metadata": {},
   "outputs": [
    {
     "data": {
      "text/plain": [
       "Decimal('0.982973099683901778281948844858')"
      ]
     },
     "execution_count": 122,
     "metadata": {},
     "output_type": "execute_result"
    }
   ],
   "source": [
    "# cos(pi/17)\n",
    "\n",
    "#u = np.sqrt(16+c+np.sqrt(2)*(d+b))*np.sqrt(2)/8\n",
    "\n",
    "u = Decimal(Decimal(16)+c+f*(d+b)).sqrt()*f/8\n",
    "\n",
    "u"
   ]
  },
  {
   "cell_type": "code",
   "execution_count": 125,
   "id": "0a8d375f",
   "metadata": {},
   "outputs": [
    {
     "name": "stdout",
     "output_type": "stream",
     "text": [
      "8.05684731769335349478703781898\n",
      "4.58552234745493369836915761352\n",
      "3.36499304130050313427097107917\n",
      "3.14891759949750873177217592661\n",
      "3.14160107572393057501814838275\n",
      "3.14159265360095363531900326615\n",
      "3.1415926535897932384626629803\n",
      "3.14159265358979323846264338302\n",
      "3.14159265358979323846264338302\n",
      "3.14159265358979323846264338302\n",
      "3.14159265358979323846264338302\n",
      "3.14159265358979323846264338302\n"
     ]
    }
   ],
   "source": [
    "x = 1\n",
    "\n",
    "for _ in range(12):\n",
    "    x = x + ((cos(x) - u)/sin(x))\n",
    "    print(17 * x)"
   ]
  },
  {
   "cell_type": "code",
   "execution_count": 129,
   "id": "821b3866",
   "metadata": {},
   "outputs": [
    {
     "data": {
      "text/plain": [
       "Decimal('0.361241666187152948744714596185')"
      ]
     },
     "execution_count": 129,
     "metadata": {},
     "output_type": "execute_result"
    }
   ],
   "source": [
    "# sin(2pi/17)\n",
    "\n",
    "v2 = Decimal(Decimal(4)*b**2-Decimal(2)*f*b*c+Decimal(8)*f*a-(f*c+Decimal(2)*b)*d).sqrt()*f/16\n",
    "\n",
    "v2"
   ]
  },
  {
   "cell_type": "code",
   "execution_count": 131,
   "id": "a1e0e31c",
   "metadata": {},
   "outputs": [
    {
     "name": "stdout",
     "output_type": "stream",
     "text": [
      "0.945064246546976229851072859599\n",
      "3.08571772414290921355187735997\n",
      "3.14152249089490386200946345358\n",
      "3.14159265347761258280904578561\n",
      "3.14159265358979323846235660323\n",
      "3.14159265358979323846264338329\n",
      "3.14159265358979323846264338329\n"
     ]
    }
   ],
   "source": [
    "x = 1\n",
    "\n",
    "for _ in range(7):\n",
    "    x = x - ((sin(x) - v2)/cos(x))\n",
    "    print(17 * x / 2)"
   ]
  },
  {
   "cell_type": "markdown",
   "id": "085e796c",
   "metadata": {},
   "source": [
    "An extraordinary construction due to Gauss gives us the following.\n",
    "$$\n",
    "\\cos\\bigg(\\frac{2\\pi}{17}\\bigg)=-\\frac{1}{16}+\\frac{1}{16}\\sqrt{17}+\\frac{1}{16}\\sqrt{34-2\\sqrt{17}}+\\frac{1}{8}\\sqrt{17+3\\sqrt{17}-\\sqrt{34-2\\sqrt{17}}-2\\sqrt{34+2\\sqrt{17}}}.\n",
    "$$"
   ]
  },
  {
   "cell_type": "code",
   "execution_count": 134,
   "id": "34125650",
   "metadata": {},
   "outputs": [
    {
     "data": {
      "text/plain": [
       "Decimal('0.932472229404355804573115891825')"
      ]
     },
     "execution_count": 134,
     "metadata": {},
     "output_type": "execute_result"
    }
   ],
   "source": [
    "#c+1 = s = np.sqrt(17)\n",
    "t = Decimal(Decimal(32)-2*c).sqrt()\n",
    "s = Decimal(16)\n",
    "#v = -Decimal(1)/s+(c+Decimal(1))/s+t/s+Decimal(Decimal(17)+Decimal(3)*(c+1)-t-Decimal(2)*Decimal(36+Decimal(2)).sqrt()).sqrt()/Decimal(8)\n",
    "v172 = (c+f*(d+b))/Decimal(16)\n",
    "v172"
   ]
  },
  {
   "cell_type": "code",
   "execution_count": 137,
   "id": "fa5828f8",
   "metadata": {},
   "outputs": [
    {
     "name": "stdout",
     "output_type": "stream",
     "text": [
      "4.53855104900753657814243438149\n",
      "3.34159652425722504969970147749\n",
      "3.14728466859257585515949901801\n",
      "3.14159756375488972984682328746\n",
      "3.14159265359345407743175401175\n",
      "3.14159265358979323846264541813\n",
      "3.1415926535897932384626433832\n"
     ]
    }
   ],
   "source": [
    "x = 1\n",
    "\n",
    "for _ in range(7):\n",
    "    x = x + ((cos(x) - v172)/sin(x))\n",
    "    print(17 * x / 2)"
   ]
  },
  {
   "cell_type": "code",
   "execution_count": 138,
   "id": "11aa5063",
   "metadata": {},
   "outputs": [],
   "source": [
    "u174 = Decimal(2)*v172**2-Decimal(1)"
   ]
  },
  {
   "cell_type": "code",
   "execution_count": 142,
   "id": "b5caae68",
   "metadata": {},
   "outputs": [
    {
     "name": "stdout",
     "output_type": "stream",
     "text": [
      "3.24639665122737042090671792558\n",
      "3.14295233150968990763432324457\n",
      "3.14159289204251346537989059655\n",
      "3.14159265358980057635834955174\n",
      "3.14159265358979323846264338318\n",
      "3.14159265358979323846264338317\n",
      "3.14159265358979323846264338317\n"
     ]
    }
   ],
   "source": [
    "x = 1\n",
    "\n",
    "for _ in range(7):\n",
    "    x = x + ((cos(x) - u174)/sin(x))\n",
    "    print(17 * x / 4)"
   ]
  },
  {
   "cell_type": "markdown",
   "id": "9b82f593",
   "metadata": {},
   "source": [
    "## Hally's method"
   ]
  },
  {
   "cell_type": "markdown",
   "id": "09b52222",
   "metadata": {},
   "source": [
    "Edmond Hally, of comet fame and personal friend of Isaac Newton, adapted his technique to a higher-order variant by instead considering the iterative procedure involving\n",
    "$$x_{n+1} = x_n - \\frac{2f(x_n)f'(x_n)}{2f'(x_n) ^2 - f(x_n)f''(x_n)}.$$\n",
    "This is clearly more computationally demanding and can be shown to be in a precise technical sense only slightly more than half as good as Newton-Raphson (i.e. two iterations of Newton-Raphson will beat one iteration of Hally), but nonetheless it is worth considering for comparason. "
   ]
  },
  {
   "cell_type": "code",
   "execution_count": 143,
   "id": "90f4359b",
   "metadata": {},
   "outputs": [
    {
     "name": "stdout",
     "output_type": "stream",
     "text": [
      "3.17145449984632840579640965735\n",
      "3.14159376329211345159926618158\n",
      "3.14159265358979323851958217417\n",
      "3.14159265358979323846264338328\n",
      "3.14159265358979323846264338328\n"
     ]
    }
   ],
   "source": [
    "x = 2\n",
    "\n",
    "for _ in range(5):\n",
    "    x = x + sin(Decimal(2) * x)/(sin(x)**2 + Decimal(1))\n",
    "    print(2 * x)"
   ]
  },
  {
   "cell_type": "markdown",
   "id": "1ad047f1",
   "metadata": {},
   "source": [
    "## Halley's Irrational Method"
   ]
  },
  {
   "cell_type": "markdown",
   "id": "a2ae5ad3",
   "metadata": {},
   "source": [
    "The above is sometimes referred to as Halley's \"rational\" method as opposed to his more convoluted irrational method which instead uses the formula\n",
    "\n",
    "$$\n",
    "x_{n+1}=x_n-\\frac{f'(x_n)-\\sqrt{f'(x_n)^2-2f(x_n)f''(x_n)}}{f''(x_n)}.\n",
    "$$"
   ]
  },
  {
   "cell_type": "code",
   "execution_count": 15,
   "id": "356c1bdf",
   "metadata": {},
   "outputs": [
    {
     "name": "stdout",
     "output_type": "stream",
     "text": [
      "3.0925679754874933\n",
      "3.14158774649667\n",
      "3.14159265346714\n",
      "3.14159265346714\n",
      "3.14159265346714\n"
     ]
    }
   ],
   "source": [
    "x = 1\n",
    "\n",
    "for _ in range(5):\n",
    "    x = x - (np.sin(x) - np.sqrt(np.sin(x)**2+2*np.cos(x)**2))/np.cos(x)\n",
    "    print(2 * x)"
   ]
  },
  {
   "cell_type": "markdown",
   "id": "41b49279",
   "metadata": {},
   "source": [
    "## Order 3 Householder method"
   ]
  },
  {
   "cell_type": "markdown",
   "id": "a2293ccc",
   "metadata": {},
   "source": [
    "Newton-Raphson (order 1) and Hally (order 2) are just the first two cases of a whole series of approximation methods \n",
    "known as Householder methods, named after the American mathematician Alston Scott Householder. The higher the order the faster the rate of convergence but at a cost: they become increasingly computationally complex and the proximity of the initial guess to the final answer needs to get smaller. The third order Householder method is given by the formular\n",
    "$$\n",
    "x_{n+1}=x_n-\\frac{6f(x_n)f'(x_n)^2-3f(x_n)^2f''(x_n)}{6f'(x_n)^3-6f(x_n)f'(x_n)f''(x_n)+f(x_n)^2f'''(x_n)}.\n",
    "$$\n",
    "In our special case of the function $f(x)=\\cos(x)$ fortunately the repeating nature of the higher derivatives results in the above function simplifying dramatically and we implement this below. See for instance: https://mathworld.wolfram.com/HouseholdersMethod.html"
   ]
  },
  {
   "cell_type": "code",
   "execution_count": 144,
   "id": "707d7f7f",
   "metadata": {},
   "outputs": [
    {
     "name": "stdout",
     "output_type": "stream",
     "text": [
      "2.77501735843473219972379114378\n",
      "3.16323954785582115505083392768\n",
      "3.14158842637572774214014455919\n",
      "3.1415926535897932699366101037\n",
      "3.14159265358979323846264338328\n"
     ]
    }
   ],
   "source": [
    "x = 2\n",
    "\n",
    "for _ in range(5):\n",
    "    x = x + (Decimal(6)*cos(x)*sin(x)**2 + Decimal(3)*cos(x)**3)/(Decimal(6)*sin(x)**3 - Decimal(5)*cos(x)**2*sin(x))\n",
    "    print(2 * x)"
   ]
  },
  {
   "cell_type": "markdown",
   "id": "94cb8a47",
   "metadata": {},
   "source": [
    "## Lion Hunting"
   ]
  },
  {
   "cell_type": "markdown",
   "id": "4990e738",
   "metadata": {},
   "source": [
    "What a more conservative mathematitian might call 'the method of interval bisection' or even 'condensation of singularities'. To home-in on a value of $x$ such that $\\cos(x)=0$, i.e. giving us a value for $\\pi/2$, we proceed as follows. Starting with real numbers $a_j$ and $b_j$ such that $\\cos(a_j)\\geq0\\geq\\cos(b_j)$ and set $c_j=(b_j+a_j)/2$. If $\\cos(c_j)\\geq0$, then set $a_{j+1}=c_j$ and $b_{j+1}=b_j$, otherwise set $a_{j+1}=a_j$ and $b_{j+1}=c_j$. Iterating converges on the desired value."
   ]
  },
  {
   "cell_type": "code",
   "execution_count": 145,
   "id": "11b7c66e",
   "metadata": {},
   "outputs": [],
   "source": [
    "def iterate(in1, in2):\n",
    "    new = (in1+in2)/2\n",
    "    if 0 <= cos(new):\n",
    "        return new, in2\n",
    "    else:\n",
    "        return in1, new"
   ]
  },
  {
   "cell_type": "code",
   "execution_count": 151,
   "id": "5aed19d1",
   "metadata": {},
   "outputs": [
    {
     "name": "stdout",
     "output_type": "stream",
     "text": [
      "3.5\n",
      "3.14111328125\n",
      "3.141592502593994140625\n",
      "3.14159265393391251564025878906\n",
      "3.14159265358966877101920545100\n",
      "3.14159265358979356008717331861\n",
      "3.14159265358979323872964939389\n",
      "3.14159265358979323846241049904\n",
      "3.14159265358979323846264335037\n",
      "3.14159265358979323846264338307\n"
     ]
    }
   ],
   "source": [
    "a, b = Decimal(1), Decimal(2)\n",
    "    \n",
    "for _ in range(100):\n",
    "    a, b = iterate(a, b)\n",
    "    if _%10 == 0:\n",
    "        print(a+b)"
   ]
  },
  {
   "cell_type": "code",
   "execution_count": null,
   "id": "942f291c",
   "metadata": {},
   "outputs": [],
   "source": []
  }
 ],
 "metadata": {
  "kernelspec": {
   "display_name": "Python 3 (ipykernel)",
   "language": "python",
   "name": "python3"
  },
  "language_info": {
   "codemirror_mode": {
    "name": "ipython",
    "version": 3
   },
   "file_extension": ".py",
   "mimetype": "text/x-python",
   "name": "python",
   "nbconvert_exporter": "python",
   "pygments_lexer": "ipython3",
   "version": "3.11.3"
  }
 },
 "nbformat": 4,
 "nbformat_minor": 5
}
