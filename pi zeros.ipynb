{
 "cells": [
  {
   "cell_type": "markdown",
   "id": "94e30815",
   "metadata": {},
   "source": [
    "# Approximating zeros of function giving us $\\pi$"
   ]
  },
  {
   "cell_type": "markdown",
   "id": "97d50ce8",
   "metadata": {},
   "source": [
    "## The Newton-Raphson method"
   ]
  },
  {
   "cell_type": "markdown",
   "id": "4a7b60a7",
   "metadata": {},
   "source": [
    "In this approach we employ the Newton-Raphson procedure which given a function $f$ starts with an approximate solution $x_0$ to the equation $f(x)=0$ and iteratively obtains a better solution, namely\n",
    "$$x_{n+1} = x_n - \\frac{f(x_n)}{f'(x_n)}.$$\n",
    "In this case we use the fact that $\\pi / 2$ is a zero of the function $f(x)=\\cos(x)$."
   ]
  },
  {
   "cell_type": "code",
   "execution_count": 2,
   "id": "0aa14afe",
   "metadata": {},
   "outputs": [],
   "source": [
    "#Usual import\n",
    "\n",
    "import numpy as np"
   ]
  },
  {
   "cell_type": "code",
   "execution_count": 6,
   "id": "3cf04f41",
   "metadata": {},
   "outputs": [
    {
     "name": "stdout",
     "output_type": "stream",
     "text": [
      "3.0846848912794282\n",
      "3.141608016516193\n",
      "3.141592653589793\n",
      "3.141592653589793\n",
      "3.141592653589793\n",
      "3.141592653589793\n",
      "3.141592653589793\n",
      "3.141592653589793\n",
      "3.141592653589793\n",
      "3.141592653589793\n"
     ]
    }
   ],
   "source": [
    "l = 2\n",
    "\n",
    "for i in range(10):\n",
    "    l = l + np.cos(l)/np.sin(l)\n",
    "    print(2 * l)"
   ]
  },
  {
   "cell_type": "markdown",
   "id": "9b82f593",
   "metadata": {},
   "source": [
    "## Hally's method"
   ]
  },
  {
   "cell_type": "markdown",
   "id": "09b52222",
   "metadata": {},
   "source": [
    "Edmond Hally, of comet fame and personal friend of Isaac Newton, adapted his technique to a higher-order variant by instead considering the iterative procedure involving\n",
    "$$x_{n+1} = x_n - \\frac{2f(x_n)f'(x_n)}{2f'(x_n) ^2 - f(x_n)f''(x_n)}.$$\n",
    "This is clearly more computationally demanding and can be shown to be in a precise technical sense only half as good as Newton-Raphson, but nonetheless it is worth considering for comparason. "
   ]
  },
  {
   "cell_type": "code",
   "execution_count": 8,
   "id": "90f4359b",
   "metadata": {},
   "outputs": [
    {
     "name": "stdout",
     "output_type": "stream",
     "text": [
      "6.630609120025197\n",
      "4.656989254816455\n",
      "3.2240895781808154\n",
      "3.1282758469343306\n",
      "3.1438989211655497\n",
      "3.1411976061764877\n",
      "3.141660451942607\n",
      "3.141581021789133\n",
      "3.141594649307691\n",
      "3.1415923111792186\n",
      "3.1415927123381744\n",
      "3.141592643510165\n",
      "3.141592655319184\n",
      "3.1415926532930767\n",
      "3.1415926536407017\n",
      "3.1415926535810588\n",
      "3.141592653591292\n",
      "3.141592653589536\n",
      "3.1415926535898375\n",
      "3.1415926535897856\n"
     ]
    }
   ],
   "source": [
    "l = 2\n",
    "\n",
    "for i in range(20):\n",
    "    l = l + np.cos(2 * l)/(np.sin(l) + 1)\n",
    "    print(4 * l)"
   ]
  },
  {
   "cell_type": "markdown",
   "id": "94cb8a47",
   "metadata": {},
   "source": [
    "## Lion Hunting"
   ]
  },
  {
   "cell_type": "markdown",
   "id": "4990e738",
   "metadata": {},
   "source": [
    "What a more conservative mathematitian might call 'the method of interval bisection' or even 'condensation of singularities'. To home-in on a value of $x$ such that $\\cos(x)=0$, i.e. giving us a value for $\\pi/2$, we proceed as follows. Starting with real numbers $a_j$ and $b_j$ such that $\\cos(a_j)\\geq0\\geq\\cos(b_j)$ and set $c_j=(b_j-a_j)/2$. If $\\cos(c_j)\\geq0$, then set $a_{j+1}=c_j$ and $b_{j+1}=b_j$, otherwise set $a_{j+1}=a_j$ and $b_{j+1}=c_j$. Iterating converges on the desired value."
   ]
  },
  {
   "cell_type": "code",
   "execution_count": 9,
   "id": "11b7c66e",
   "metadata": {},
   "outputs": [],
   "source": [
    "def iterate(in1, in2):\n",
    "    new = (in1+in2)/2\n",
    "    if 0 <= np.cos(new):\n",
    "        return new, in2\n",
    "    else:\n",
    "        return in1, new"
   ]
  },
  {
   "cell_type": "code",
   "execution_count": 11,
   "id": "5aed19d1",
   "metadata": {},
   "outputs": [
    {
     "name": "stdout",
     "output_type": "stream",
     "text": [
      "3.5\n",
      "3.25\n",
      "3.125\n",
      "3.1875\n",
      "3.15625\n",
      "3.140625\n",
      "3.1484375\n",
      "3.14453125\n",
      "3.142578125\n",
      "3.1416015625\n",
      "3.14111328125\n",
      "3.141357421875\n",
      "3.1414794921875\n",
      "3.14154052734375\n",
      "3.141571044921875\n",
      "3.1415863037109375\n",
      "3.1415939331054688\n",
      "3.141590118408203\n",
      "3.141592025756836\n",
      "3.1415929794311523\n"
     ]
    }
   ],
   "source": [
    "a, b = 1, 2\n",
    "    \n",
    "for i in range(20):\n",
    "    a, b = iterate(a, b)\n",
    "    print(a+b)"
   ]
  }
 ],
 "metadata": {
  "kernelspec": {
   "display_name": "Python 3 (ipykernel)",
   "language": "python",
   "name": "python3"
  },
  "language_info": {
   "codemirror_mode": {
    "name": "ipython",
    "version": 3
   },
   "file_extension": ".py",
   "mimetype": "text/x-python",
   "name": "python",
   "nbconvert_exporter": "python",
   "pygments_lexer": "ipython3",
   "version": "3.11.3"
  }
 },
 "nbformat": 4,
 "nbformat_minor": 5
}
