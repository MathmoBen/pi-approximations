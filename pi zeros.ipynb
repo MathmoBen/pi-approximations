{
 "cells": [
  {
   "cell_type": "markdown",
   "id": "94e30815",
   "metadata": {},
   "source": [
    "# Approximating zeros of functions giving us $\\pi$"
   ]
  },
  {
   "cell_type": "markdown",
   "id": "97d50ce8",
   "metadata": {},
   "source": [
    "## The Newton-Raphson method"
   ]
  },
  {
   "cell_type": "markdown",
   "id": "4a7b60a7",
   "metadata": {},
   "source": [
    "In this approach we employ the Newton-Raphson procedure which given a function $f$ starts with an approximate solution $x_0$ to the equation $f(x)=0$ and iteratively obtains a better solution, namely\n",
    "$$x_{n+1} = x_n - \\frac{f(x_n)}{f'(x_n)}.$$\n",
    "In this case we use the fact that $\\pi / 2$ is a zero of the function $f(x)=\\cos(x)$."
   ]
  },
  {
   "cell_type": "code",
   "execution_count": 1,
   "id": "0aa14afe",
   "metadata": {},
   "outputs": [],
   "source": [
    "#Usual import\n",
    "\n",
    "import numpy as np"
   ]
  },
  {
   "cell_type": "code",
   "execution_count": 2,
   "id": "3cf04f41",
   "metadata": {},
   "outputs": [
    {
     "name": "stdout",
     "output_type": "stream",
     "text": [
      "3.0846848912794282\n",
      "3.141608016516193\n",
      "3.141592653589793\n",
      "3.141592653589793\n",
      "3.141592653589793\n"
     ]
    }
   ],
   "source": [
    "l = 2\n",
    "\n",
    "for i in range(5):\n",
    "    l = l + np.cos(l)/np.sin(l)\n",
    "    print(2 * l)"
   ]
  },
  {
   "cell_type": "markdown",
   "id": "073fa422",
   "metadata": {},
   "source": [
    "Finding a zero to the equation $\\cos(x)=0$ is just one possibility and there are several variants of this. First we find a zero of the equation $\\sin(x)-1=0$. We see that this converges much more slowly!"
   ]
  },
  {
   "cell_type": "code",
   "execution_count": 3,
   "id": "a3a068b8",
   "metadata": {},
   "outputs": [
    {
     "name": "stdout",
     "output_type": "stream",
     "text": [
      "3.070825911596367\n",
      "3.106212974670068\n",
      "3.123903275451777\n",
      "3.132748022180146\n",
      "3.137170345092182\n",
      "3.139381500241876\n",
      "3.1404870770284363\n",
      "3.141039865323063\n",
      "3.141316259458157\n",
      "3.1414544565248472\n",
      "3.1415235550568568\n",
      "3.141558104324216\n",
      "3.141575378951911\n",
      "3.141584016263212\n",
      "3.141588334927896\n",
      "3.1415904942609347\n",
      "3.1415915739799143\n",
      "3.141592113661011\n",
      "3.1415923834396664\n",
      "3.141592518236254\n"
     ]
    }
   ],
   "source": [
    "l = 1.5\n",
    "\n",
    "for i in range(20):\n",
    "    l = l - ((np.sin(l) - 1)/np.cos(l))\n",
    "    print(2 * l)"
   ]
  },
  {
   "cell_type": "markdown",
   "id": "1d5b66ea",
   "metadata": {},
   "source": [
    "Next we try using the fact that $\\pi/3$ is a zero of $\\cos(x)-1/2=0$."
   ]
  },
  {
   "cell_type": "code",
   "execution_count": 4,
   "id": "2e67d602",
   "metadata": {},
   "outputs": [
    {
     "name": "stdout",
     "output_type": "stream",
     "text": [
      "3.1436851891358106\n",
      "3.1415930744221026\n",
      "3.14159265358981\n",
      "3.1415926535897936\n",
      "3.141592653589793\n"
     ]
    }
   ],
   "source": [
    "l = 1\n",
    "\n",
    "for i in range(5):\n",
    "    l = l + ((np.cos(l) - 0.5)/np.sin(l))\n",
    "    print(3 * l)"
   ]
  },
  {
   "cell_type": "markdown",
   "id": "b1a526d3",
   "metadata": {},
   "source": [
    "And the analogue for sine."
   ]
  },
  {
   "cell_type": "code",
   "execution_count": 5,
   "id": "7aca3d99",
   "metadata": {},
   "outputs": [
    {
     "name": "stdout",
     "output_type": "stream",
     "text": [
      "3.136337113740921\n",
      "3.141584709655214\n",
      "3.141592653571576\n",
      "3.141592653589793\n",
      "3.141592653589793\n"
     ]
    }
   ],
   "source": [
    "l = 1\n",
    "\n",
    "for i in range(5):\n",
    "    l = l - ((np.sin(l) - np.sqrt(3)/2)/np.cos(l))\n",
    "    print(3 * l)"
   ]
  },
  {
   "cell_type": "markdown",
   "id": "cc6ff50c",
   "metadata": {},
   "source": [
    "Next we use the fact that $\\pi/4$ is a zero of $\\cos(x) - \\sqrt{2}/2=0$."
   ]
  },
  {
   "cell_type": "code",
   "execution_count": 6,
   "id": "9a877ec0",
   "metadata": {},
   "outputs": [
    {
     "name": "stdout",
     "output_type": "stream",
     "text": [
      "3.207081511638867\n",
      "3.142114393489976\n",
      "3.1415926876089624\n",
      "3.141592653589793\n",
      "3.141592653589793\n"
     ]
    }
   ],
   "source": [
    "l = 1\n",
    "\n",
    "for i in range(5):\n",
    "    l = l + ((np.cos(l) - np.sqrt(2)/2)/np.sin(l))\n",
    "    print(4 * l)"
   ]
  },
  {
   "cell_type": "markdown",
   "id": "c8e18b1d",
   "metadata": {},
   "source": [
    "And the same with $3\\pi/4$."
   ]
  },
  {
   "cell_type": "code",
   "execution_count": 7,
   "id": "e7cdd8cd",
   "metadata": {},
   "outputs": [
    {
     "name": "stdout",
     "output_type": "stream",
     "text": [
      "3.30988647194526\n",
      "3.1283490225565647\n",
      "3.1415279574875914\n",
      "3.1415926520203254\n",
      "3.141592653589793\n"
     ]
    }
   ],
   "source": [
    "l = 1\n",
    "\n",
    "for i in range(5):\n",
    "    l = l + ((np.cos(l) + np.sqrt(2)/2)/np.sin(l))\n",
    "    print(4 * l / 3)"
   ]
  },
  {
   "cell_type": "markdown",
   "id": "ca81c173",
   "metadata": {},
   "source": [
    "Next, let's do the same thing with sine."
   ]
  },
  {
   "cell_type": "code",
   "execution_count": 8,
   "id": "61b0107a",
   "metadata": {},
   "outputs": [
    {
     "name": "stdout",
     "output_type": "stream",
     "text": [
      "3.0052664801757083\n",
      "3.139396558618452\n",
      "3.1415920512869406\n",
      "3.141592653589748\n",
      "3.1415926535897936\n"
     ]
    }
   ],
   "source": [
    "l = 1\n",
    "\n",
    "for i in range(5):\n",
    "    l = l - ((np.sin(l) - np.sqrt(2)/2)/np.cos(l))\n",
    "    print(4 * l)"
   ]
  },
  {
   "cell_type": "markdown",
   "id": "23502274",
   "metadata": {},
   "source": [
    "Now considering the geometry of the regular pentagon we can use the fact that $\\cos(\\pi/5)=(\\sqrt{5}+1)/4$."
   ]
  },
  {
   "cell_type": "code",
   "execution_count": 9,
   "id": "a4a0cca6",
   "metadata": {},
   "outputs": [
    {
     "name": "stdout",
     "output_type": "stream",
     "text": [
      "3.403303896639087\n",
      "3.1501686666101474\n",
      "3.141602744378809\n",
      "3.141592653603808\n",
      "3.141592653589793\n"
     ]
    }
   ],
   "source": [
    "l = 1\n",
    "\n",
    "for i in range(5):\n",
    "    l = l + ((np.cos(l) - (np.sqrt(5)+1)/4)/np.sin(l))\n",
    "    print(5 * l)"
   ]
  },
  {
   "cell_type": "markdown",
   "id": "d0a5874f",
   "metadata": {},
   "source": [
    "We continue this thinking by now instead using the fact that $\\sin(\\pi/5)=\\frac{1}{2}\\sqrt{\\frac{5-\\sqrt{5}}{2}}$."
   ]
  },
  {
   "cell_type": "code",
   "execution_count": 10,
   "id": "37ec4996",
   "metadata": {},
   "outputs": [
    {
     "name": "stdout",
     "output_type": "stream",
     "text": [
      "2.6523722945452772\n",
      "3.1267852401364737\n",
      "3.1415768008188554\n",
      "3.1415926535715344\n",
      "3.1415926535897936\n"
     ]
    }
   ],
   "source": [
    "l = 1\n",
    "\n",
    "for i in range(5):\n",
    "    l = l - ((np.sin(l) - np.sqrt((5-np.sqrt(5))/8))/np.cos(l))\n",
    "    print(5 * l)"
   ]
  },
  {
   "cell_type": "markdown",
   "id": "9ec09cb9",
   "metadata": {},
   "source": [
    "Next we consider the angle $2\\pi/5$ first noting that $\\cos(2\\pi/5)=(\\sqrt{5}-1)/4$."
   ]
  },
  {
   "cell_type": "code",
   "execution_count": 11,
   "id": "eb444979",
   "metadata": {},
   "outputs": [
    {
     "name": "stdout",
     "output_type": "stream",
     "text": [
      "3.187145830542195\n",
      "3.1417217061868237\n",
      "3.1415926546719404\n",
      "3.141592653589793\n",
      "3.141592653589793\n"
     ]
    }
   ],
   "source": [
    "l = 1\n",
    "\n",
    "for i in range(5):\n",
    "    l = l + ((np.cos(l) - (np.sqrt(5)-1)/4)/np.sin(l))\n",
    "    print(5 * l / 2)"
   ]
  },
  {
   "cell_type": "markdown",
   "id": "4d487ce6",
   "metadata": {},
   "source": [
    "A similar calculation with the rather more awkward\n",
    "\n",
    "$$\n",
    "\\sin(2\\pi/5)=\\frac{(\\sqrt{5}-1)\\sqrt{5+2\\sqrt{5}}}{4}.\n",
    "$$"
   ]
  },
  {
   "cell_type": "code",
   "execution_count": 12,
   "id": "9f6e4bc0",
   "metadata": {},
   "outputs": [
    {
     "name": "stdout",
     "output_type": "stream",
     "text": [
      "3.0070565602675843\n",
      "3.132140436024869\n",
      "3.1415383357313753\n",
      "3.141592651773827\n",
      "3.141592653589795\n"
     ]
    }
   ],
   "source": [
    "l = 1\n",
    "\n",
    "s = np.sqrt(5)\n",
    "v = ((s-1)*np.sqrt(5+2*s))/4\n",
    "\n",
    "for i in range(5):\n",
    "    l = l - (np.sin(l) - v)/np.cos(l)\n",
    "    print(5 * l / 2)"
   ]
  },
  {
   "cell_type": "markdown",
   "id": "f281a64f",
   "metadata": {},
   "source": [
    "Something similar with $\\cos(3\\pi/5)=(1-\\sqrt{5})/4$."
   ]
  },
  {
   "cell_type": "code",
   "execution_count": 13,
   "id": "83e68dc8",
   "metadata": {},
   "outputs": [
    {
     "name": "stdout",
     "output_type": "stream",
     "text": [
      "3.348878166086306\n",
      "3.1360890937670796\n",
      "3.1415897242641484\n",
      "3.141592653588957\n",
      "3.141592653589793\n"
     ]
    }
   ],
   "source": [
    "l = 1\n",
    "\n",
    "for i in range(5):\n",
    "    l = l + ((np.cos(l) + (np.sqrt(5)-1)/4)/np.sin(l))\n",
    "    print(5 * l / 3)"
   ]
  },
  {
   "cell_type": "markdown",
   "id": "eda73d18",
   "metadata": {},
   "source": [
    "Something similar with $\\cos(4\\pi/5)=-(1+\\sqrt{5})/4$."
   ]
  },
  {
   "cell_type": "code",
   "execution_count": 15,
   "id": "3f6de53e",
   "metadata": {},
   "outputs": [
    {
     "name": "stdout",
     "output_type": "stream",
     "text": [
      "3.254405565676055\n",
      "3.1332216260618795\n",
      "3.141554550028828\n",
      "3.1415926527905014\n",
      "3.141592653589793\n"
     ]
    }
   ],
   "source": [
    "l = 1\n",
    "\n",
    "for i in range(5):\n",
    "    l = l + ((np.cos(l) + (np.sqrt(5)+1)/4)/np.sin(l))\n",
    "    print(5 * l / 4)"
   ]
  },
  {
   "cell_type": "markdown",
   "id": "6ea8d1d2",
   "metadata": {},
   "source": [
    "Next we use the fact that $\\cos(\\pi/6)=\\sqrt{3}/2$."
   ]
  },
  {
   "cell_type": "code",
   "execution_count": 16,
   "id": "ebfe2d5b",
   "metadata": {},
   "outputs": [
    {
     "name": "stdout",
     "output_type": "stream",
     "text": [
      "3.6774735875842968\n",
      "3.1763103122009078\n",
      "3.141764517472929\n",
      "3.141592657852862\n",
      "3.1415926535897936\n"
     ]
    }
   ],
   "source": [
    "l = 1\n",
    "\n",
    "for i in range(5):\n",
    "    l = l + ((np.cos(l) - np.sqrt(3)/2)/np.sin(l))\n",
    "    print(6 * l)"
   ]
  },
  {
   "cell_type": "markdown",
   "id": "fcf71613",
   "metadata": {},
   "source": [
    "And the sine version of this."
   ]
  },
  {
   "cell_type": "code",
   "execution_count": 17,
   "id": "168b706e",
   "metadata": {},
   "outputs": [
    {
     "name": "stdout",
     "output_type": "stream",
     "text": [
      "2.2080008051133637\n",
      "3.109881864899114\n",
      "3.141544714085566\n",
      "3.141592653479223\n",
      "3.1415926535897936\n"
     ]
    }
   ],
   "source": [
    "l = 1\n",
    "\n",
    "for i in range(5):\n",
    "    l = l - ((np.sin(l) - 1/2)/np.cos(l))\n",
    "    print(6 * l)"
   ]
  },
  {
   "cell_type": "markdown",
   "id": "07092a91",
   "metadata": {},
   "source": [
    "From the geometry of the regular heptagon we have the following. If $b$ is the length of a shorter digonal and the sides have length 1, then $b^3-b^2-2b+1=0$. Moreover we have that $\\cos(\\pi/7)=b/2$. Solving this cubic equation in the usual manner (which involves first transforming it into $t^3-7/3t+7/27=0$ with the substitution $b=t+1/3$) thus tells us that \n",
    "\n",
    "$$\\cos\\bigg(\\frac{\\pi}{7}\\bigg)=\\frac{1}{2}\\bigg(\n",
    "\\frac{1}{3} + \n",
    "\\sqrt[3]{-\\frac{7}{54}+\\sqrt{-\\frac{1323}{2916}}} + \n",
    "\\sqrt[3]{-\\frac{7}{54}-\\sqrt{-\\frac{1323}{2916}}}\n",
    "\\bigg)$$"
   ]
  },
  {
   "cell_type": "code",
   "execution_count": 18,
   "id": "cb68328d",
   "metadata": {},
   "outputs": [],
   "source": [
    "p = -7/3\n",
    "q = 7/27\n",
    "\n",
    "dis = q**2/4 + p**3/27"
   ]
  },
  {
   "cell_type": "code",
   "execution_count": 19,
   "id": "da3ac155",
   "metadata": {},
   "outputs": [],
   "source": [
    "a7 = -q/2+1j*np.sqrt(-dis)\n",
    "b7 = -q/2-1j*np.sqrt(-dis)"
   ]
  },
  {
   "cell_type": "code",
   "execution_count": 20,
   "id": "2a5c305e",
   "metadata": {},
   "outputs": [],
   "source": [
    "v7 = (1/3+a7**(1/3)+b7**(1/3)).real/2"
   ]
  },
  {
   "cell_type": "code",
   "execution_count": 21,
   "id": "1bb0b30f",
   "metadata": {},
   "outputs": [
    {
     "name": "stdout",
     "output_type": "stream",
     "text": [
      "3.999699360024489\n",
      "3.225445530205251\n",
      "3.142606366926234\n",
      "3.141592805955743\n",
      "3.1415926535897953\n"
     ]
    }
   ],
   "source": [
    "l = 1\n",
    "\n",
    "for i in range(5):\n",
    "    l = l + ((np.cos(l) - v7)/np.sin(l))\n",
    "    print(7 * l)"
   ]
  },
  {
   "cell_type": "markdown",
   "id": "c427e067",
   "metadata": {},
   "source": [
    "Thinking back to the regular heptagon, let $c$ be the length of the long diagonal. Looking at the triangle whose sides have lengths $b$, $b$ and $c$, then we see that $\\cos(2\\pi/7)=c/2b$. Similar to the above, finding this value entails solving the equation $t^3+t^2-2t-1=0$, giving us the value of $c/b$, which reduces to solving the equation $x^3-\\frac{7}{3}x-\\frac{7}{27}=0$. (Alternatively one could apply the double-angle formula or the apply the cosine rule to the triangle with side lengths 1, 1 and $b$ to find that $\\cos(2\\pi/7)=(b^2-2)/2$). From this it follows that \n",
    "\n",
    "$$\n",
    "\\cos\\bigg(\\frac{2\\pi}{7}\\bigg)=\\frac{1}{2}\\bigg(\n",
    "-\\frac{1}{3} +\n",
    "\\sqrt[3]{\\frac{7}{54}+\\sqrt{-\\frac{1323}{2916}}} + \n",
    "\\sqrt[3]{\\frac{7}{54}-\\sqrt{-\\frac{1323}{2916}}}\n",
    "\\bigg)\n",
    "$$"
   ]
  },
  {
   "cell_type": "code",
   "execution_count": 22,
   "id": "d50e3c0d",
   "metadata": {},
   "outputs": [],
   "source": [
    "# cos(2pi/7)\n",
    "\n",
    "# Since q is squared, this is the same as the above discriminant\n",
    "\n",
    "p = -7/3\n",
    "q = -7/27\n",
    "\n",
    "dis = q**2/4 + p**3/27"
   ]
  },
  {
   "cell_type": "code",
   "execution_count": 23,
   "id": "3ed34577",
   "metadata": {},
   "outputs": [],
   "source": [
    "a72 = -q/2+1j*np.sqrt(-dis)\n",
    "b72 = -q/2-1j*np.sqrt(-dis)"
   ]
  },
  {
   "cell_type": "code",
   "execution_count": 24,
   "id": "130d90ba",
   "metadata": {},
   "outputs": [
    {
     "data": {
      "text/plain": [
       "0.6234898018587336"
      ]
     },
     "execution_count": 24,
     "metadata": {},
     "output_type": "execute_result"
    }
   ],
   "source": [
    "u7 = (-1/3+a72**(1/3)+b72**(1/3)).real/2\n",
    "u7"
   ]
  },
  {
   "cell_type": "code",
   "execution_count": 25,
   "id": "f92128b7",
   "metadata": {},
   "outputs": [
    {
     "name": "stdout",
     "output_type": "stream",
     "text": [
      "3.153991354159944\n",
      "3.141610065990437\n",
      "3.1415926536243335\n",
      "3.141592653589793\n",
      "3.141592653589793\n"
     ]
    }
   ],
   "source": [
    "l = 1\n",
    "\n",
    "for i in range(5):\n",
    "    l = l + ((np.cos(l) - u7)/np.sin(l))\n",
    "    print(7 * l / 2)"
   ]
  },
  {
   "cell_type": "markdown",
   "id": "69df7ede",
   "metadata": {},
   "source": [
    "Thinking about the geometry of the regular heptagon even more carefully we find that if the short diagonal has length $b$ and the longer diagonal has length $c$, then\n",
    "\n",
    "$$\n",
    "\\cos\\bigg(\\frac{\\pi}{7}\\bigg)=\\frac{b}{2}\\mbox{, }\n",
    "\\cos\\bigg(\\frac{2\\pi}{7}\\bigg)=\\frac{c-1}{2}\\mbox{ and }\n",
    "\\cos\\bigg(\\frac{3\\pi}{7}\\bigg)=\\frac{c-b}{2}.\n",
    "$$\n",
    "\n",
    "From this observe that \n",
    "\n",
    "$$\n",
    "\\cos\\bigg(\\frac{2\\pi}{7}\\bigg)=\\frac{c-1}{2}=\\frac{c-b+b-1}{2}=\\frac{c-b}{2}+\\frac{b}{2}-\\frac{1}{2}=\\cos\\bigg(\\frac{3\\pi}{7}\\bigg)+\\cos\\bigg(\\frac{\\pi}{7}\\bigg)-\\frac{1}{2}\n",
    "$$\n",
    "and so $\\cos(3\\pi/7)=\\cos(2\\pi/7)-\\cos(\\pi/7)+1/2$. In particular we have that\n",
    "\n",
    "$$\n",
    "\\cos\\bigg(\\frac{3\\pi}{7}\\bigg)=\\frac{1}{2}\\bigg(\n",
    "\\frac{1}{3} +\n",
    "\\sqrt[3]{\\frac{7}{54}+\\sqrt{-\\frac{1323}{2916}}} + \n",
    "\\sqrt[3]{\\frac{7}{54}-\\sqrt{-\\frac{1323}{2916}}}\\\\ -\n",
    "\\sqrt[3]{-\\frac{7}{54}+\\sqrt{-\\frac{1323}{2916}}} - \n",
    "\\sqrt[3]{-\\frac{7}{54}-\\sqrt{-\\frac{1323}{2916}}}\n",
    "\\bigg).\n",
    "$$"
   ]
  },
  {
   "cell_type": "code",
   "execution_count": 29,
   "id": "798a13a2",
   "metadata": {},
   "outputs": [
    {
     "name": "stdout",
     "output_type": "stream",
     "text": [
      "3.214516263204097\n",
      "3.1418273827787235\n",
      "3.1415926562837346\n",
      "3.141592653589793\n",
      "3.141592653589793\n"
     ]
    }
   ],
   "source": [
    "# cos(3pi/7)\n",
    "\n",
    "l = 1\n",
    "\n",
    "for i in range(5):\n",
    "    l = l + ((np.cos(l) - (u7-v7+1/2))/np.sin(l))\n",
    "    print(7 * l / 3)"
   ]
  },
  {
   "cell_type": "markdown",
   "id": "f7150bdc",
   "metadata": {},
   "source": [
    "Recalling that for every real number $x$ we have that $\\cos(-x)=-\\cos(x)$ we can go even further."
   ]
  },
  {
   "cell_type": "code",
   "execution_count": 30,
   "id": "0c233493",
   "metadata": {},
   "outputs": [
    {
     "name": "stdout",
     "output_type": "stream",
     "text": [
      "3.336436958367085\n",
      "3.1382138367016643\n",
      "3.1415919136224018\n",
      "3.1415926535897576\n",
      "3.1415926535897936\n"
     ]
    }
   ],
   "source": [
    "# cos(4pi/7)\n",
    "\n",
    "l = 1\n",
    "\n",
    "for i in range(5):\n",
    "    l = l + ((np.cos(l) + v7*(2*u7-1))/np.sin(l))\n",
    "    print(7 * l / 4)"
   ]
  },
  {
   "cell_type": "markdown",
   "id": "b2117908",
   "metadata": {},
   "source": [
    "There are some nice expressions relating to $\\pi/17$ many of which can be found here: https://mathworld.wolfram.com/TrigonometryAnglesPi17.html"
   ]
  },
  {
   "cell_type": "code",
   "execution_count": 31,
   "id": "429084c9",
   "metadata": {},
   "outputs": [],
   "source": [
    "a = np.sqrt(17+np.sqrt(17))\n",
    "b = np.sqrt(17-np.sqrt(17))\n",
    "c = np.sqrt(17)-1\n",
    "d = np.sqrt(34 + 6*np.sqrt(17)+np.sqrt(2)*c*b - 8*np.sqrt(2)*a)\n",
    "e = 2*np.sqrt(17+3*np.sqrt(17) - 2*np.sqrt(2)*a-np.sqrt(2)*b)"
   ]
  },
  {
   "cell_type": "code",
   "execution_count": 32,
   "id": "3267feee",
   "metadata": {},
   "outputs": [],
   "source": [
    " # sin(pi/17)\n",
    "\n",
    "v = np.sqrt(b**2-np.sqrt(2)*(d+b))*np.sqrt(2)/8"
   ]
  },
  {
   "cell_type": "code",
   "execution_count": 33,
   "id": "25b715c2",
   "metadata": {},
   "outputs": [
    {
     "name": "stdout",
     "output_type": "stream",
     "text": [
      "-3.694460892382943\n",
      "3.258268122643321\n",
      "3.141515876854661\n",
      "3.141592653557385\n",
      "3.141592653589793\n"
     ]
    }
   ],
   "source": [
    "l = 1\n",
    "\n",
    "for i in range(5):\n",
    "    l = l - ((np.sin(l) - v)/np.cos(l))\n",
    "    print(17 * l)"
   ]
  },
  {
   "cell_type": "code",
   "execution_count": 34,
   "id": "e8a48868",
   "metadata": {},
   "outputs": [
    {
     "data": {
      "text/plain": [
       "0.9829730996839018"
      ]
     },
     "execution_count": 34,
     "metadata": {},
     "output_type": "execute_result"
    }
   ],
   "source": [
    "# cos(pi/17)\n",
    "\n",
    "u = np.sqrt(16+c+np.sqrt(2)*(d+b))*np.sqrt(2)/8\n",
    "u"
   ]
  },
  {
   "cell_type": "code",
   "execution_count": 35,
   "id": "0a8d375f",
   "metadata": {},
   "outputs": [
    {
     "name": "stdout",
     "output_type": "stream",
     "text": [
      "8.056847317693355\n",
      "4.585522347454935\n",
      "3.364993041300503\n",
      "3.1489175994975094\n",
      "3.1416010757239294\n",
      "3.1415926536009517\n",
      "3.141592653589797\n"
     ]
    }
   ],
   "source": [
    "l = 1\n",
    "\n",
    "for i in range(7):\n",
    "    l = l + ((np.cos(l) - u)/np.sin(l))\n",
    "    print(17 * l)"
   ]
  },
  {
   "cell_type": "code",
   "execution_count": 36,
   "id": "821b3866",
   "metadata": {},
   "outputs": [
    {
     "data": {
      "text/plain": [
       "0.36124166618715314"
      ]
     },
     "execution_count": 36,
     "metadata": {},
     "output_type": "execute_result"
    }
   ],
   "source": [
    "# sin(2pi/17)\n",
    "\n",
    "t = np.sqrt(2)\n",
    "\n",
    "v2 = np.sqrt(4*b**2-2*t*b*c+8*t*a-(t*c+2*b)*d)*t/16\n",
    "v2"
   ]
  },
  {
   "cell_type": "code",
   "execution_count": 37,
   "id": "a1e0e31c",
   "metadata": {},
   "outputs": [
    {
     "name": "stdout",
     "output_type": "stream",
     "text": [
      "0.9450642465469798\n",
      "3.085717724142911\n",
      "3.1415224908949058\n",
      "3.1415926534776144\n",
      "3.141592653589795\n"
     ]
    }
   ],
   "source": [
    "l = 1\n",
    "\n",
    "for i in range(5):\n",
    "    l = l - ((np.sin(l) - v2)/np.cos(l))\n",
    "    print(17 * l / 2)"
   ]
  },
  {
   "cell_type": "markdown",
   "id": "085e796c",
   "metadata": {},
   "source": [
    "An extraordinary construction due to Gauss gives us the following.\n",
    "$$\n",
    "\\cos\\bigg(\\frac{2\\pi}{17}\\bigg)=-\\frac{1}{16}+\\frac{1}{16}\\sqrt{17}+\\frac{1}{16}\\sqrt{34-2\\sqrt{17}}+\\frac{1}{8}\\sqrt{17+3\\sqrt{17}-\\sqrt{34-2\\sqrt{17}}-2\\sqrt{34+2\\sqrt{17}}}.\n",
    "$$"
   ]
  },
  {
   "cell_type": "code",
   "execution_count": 38,
   "id": "34125650",
   "metadata": {},
   "outputs": [
    {
     "data": {
      "text/plain": [
       "0.9324722294043558"
      ]
     },
     "execution_count": 38,
     "metadata": {},
     "output_type": "execute_result"
    }
   ],
   "source": [
    "s = np.sqrt(17)\n",
    "t = np.sqrt(34-2*s)\n",
    "v = -1/16+s/16+t/16+np.sqrt(17+3*s-t-2*np.sqrt(34+2*s))/8\n",
    "v"
   ]
  },
  {
   "cell_type": "code",
   "execution_count": 39,
   "id": "fa5828f8",
   "metadata": {},
   "outputs": [
    {
     "name": "stdout",
     "output_type": "stream",
     "text": [
      "4.538551049007537\n",
      "3.3415965242572248\n",
      "3.147284668592575\n",
      "3.1415975637548907\n",
      "3.1415926535934537\n"
     ]
    }
   ],
   "source": [
    "l = 1\n",
    "\n",
    "for i in range(5):\n",
    "    l = l + ((np.cos(l) - v)/np.sin(l))\n",
    "    print(17 * l / 2)"
   ]
  },
  {
   "cell_type": "code",
   "execution_count": 42,
   "id": "11aa5063",
   "metadata": {},
   "outputs": [],
   "source": [
    "u = 2*v**2-1"
   ]
  },
  {
   "cell_type": "code",
   "execution_count": 43,
   "id": "b5caae68",
   "metadata": {},
   "outputs": [
    {
     "name": "stdout",
     "output_type": "stream",
     "text": [
      "3.2463966512273705\n",
      "3.14295233150969\n",
      "3.1415928920425134\n",
      "3.141592653589801\n",
      "3.1415926535897936\n"
     ]
    }
   ],
   "source": [
    "l = 1\n",
    "\n",
    "for i in range(5):\n",
    "    l = l + ((np.cos(l) - u)/np.sin(l))\n",
    "    print(17 * l / 4)"
   ]
  },
  {
   "cell_type": "markdown",
   "id": "9b82f593",
   "metadata": {},
   "source": [
    "## Hally's method"
   ]
  },
  {
   "cell_type": "markdown",
   "id": "09b52222",
   "metadata": {},
   "source": [
    "Edmond Hally, of comet fame and personal friend of Isaac Newton, adapted his technique to a higher-order variant by instead considering the iterative procedure involving\n",
    "$$x_{n+1} = x_n - \\frac{2f(x_n)f'(x_n)}{2f'(x_n) ^2 - f(x_n)f''(x_n)}.$$\n",
    "This is clearly more computationally demanding and can be shown to be in a precise technical sense to be only slightly more than half as good as Newton-Raphson (i.e. two iterations of Newton-Raphson will beat one iteration of Hally), but nonetheless it is worth considering for comparason. "
   ]
  },
  {
   "cell_type": "code",
   "execution_count": 44,
   "id": "90f4359b",
   "metadata": {},
   "outputs": [
    {
     "name": "stdout",
     "output_type": "stream",
     "text": [
      "3.1714544998463285\n",
      "3.1415937632921134\n",
      "3.141592653589793\n",
      "3.141592653589793\n",
      "3.141592653589793\n"
     ]
    }
   ],
   "source": [
    "l = 2\n",
    "\n",
    "for i in range(5):\n",
    "    l = l + np.sin(2 * l)/(np.sin(l)**2 + 1)\n",
    "    print(2 * l)"
   ]
  },
  {
   "cell_type": "markdown",
   "id": "41b49279",
   "metadata": {},
   "source": [
    "## Order 3 Householder method"
   ]
  },
  {
   "cell_type": "markdown",
   "id": "a2293ccc",
   "metadata": {},
   "source": [
    "Newton-Raphson (order 1) and Hally (order 2) are just the first two cases of a whole series of approximation methods \n",
    "known as Householder methods, named after the American mathematician Alston Scott Householder. The higher the order the faster the rate of convergence but at a cost: they become increasingly computationally complex and the proximity of the initial guess to the final answer needs to get smaller. The third order Householder method is given by the formular\n",
    "$$\n",
    "x_{n+1}=x_n-\\frac{6f(x_n)f'(x_n)^2-3f(x_n)^2f''(x_n)}{6f'(x_n)^3-6f(x_n)f'(x_n)f''(x_n)+f(x_n)^2f'''(x_n)}.\n",
    "$$\n",
    "In our special case of the function $f(x)=\\cos(x)$ fortunately the repeating nature of the higher derivatives results in the above function simplifying dramatically and we implement this below. See for instance: https://mathworld.wolfram.com/HouseholdersMethod.html"
   ]
  },
  {
   "cell_type": "code",
   "execution_count": 45,
   "id": "707d7f7f",
   "metadata": {},
   "outputs": [
    {
     "name": "stdout",
     "output_type": "stream",
     "text": [
      "2.775017358434732\n",
      "3.163239547855821\n",
      "3.1415884263757277\n",
      "3.141592653589793\n",
      "3.141592653589793\n"
     ]
    }
   ],
   "source": [
    "l = 2\n",
    "\n",
    "for i in range(5):\n",
    "    l = l + (6*np.cos(l)*np.sin(l)**2 + 3*np.cos(l)**3)/(6*np.sin(l)**3 - 5*np.cos(l)**2*np.sin(l))\n",
    "    print(2 * l)"
   ]
  },
  {
   "cell_type": "markdown",
   "id": "94cb8a47",
   "metadata": {},
   "source": [
    "## Lion Hunting"
   ]
  },
  {
   "cell_type": "markdown",
   "id": "4990e738",
   "metadata": {},
   "source": [
    "What a more conservative mathematitian might call 'the method of interval bisection' or even 'condensation of singularities'. To home-in on a value of $x$ such that $\\cos(x)=0$, i.e. giving us a value for $\\pi/2$, we proceed as follows. Starting with real numbers $a_j$ and $b_j$ such that $\\cos(a_j)\\geq0\\geq\\cos(b_j)$ and set $c_j=(b_j+a_j)/2$. If $\\cos(c_j)\\geq0$, then set $a_{j+1}=c_j$ and $b_{j+1}=b_j$, otherwise set $a_{j+1}=a_j$ and $b_{j+1}=c_j$. Iterating converges on the desired value."
   ]
  },
  {
   "cell_type": "code",
   "execution_count": 46,
   "id": "11b7c66e",
   "metadata": {},
   "outputs": [],
   "source": [
    "def iterate(in1, in2):\n",
    "    new = (in1+in2)/2\n",
    "    if 0 <= np.cos(new):\n",
    "        return new, in2\n",
    "    else:\n",
    "        return in1, new"
   ]
  },
  {
   "cell_type": "code",
   "execution_count": 47,
   "id": "5aed19d1",
   "metadata": {},
   "outputs": [
    {
     "name": "stdout",
     "output_type": "stream",
     "text": [
      "3.5\n",
      "3.25\n",
      "3.125\n",
      "3.1875\n",
      "3.15625\n",
      "3.140625\n",
      "3.1484375\n",
      "3.14453125\n",
      "3.142578125\n",
      "3.1416015625\n",
      "3.14111328125\n",
      "3.141357421875\n",
      "3.1414794921875\n",
      "3.14154052734375\n",
      "3.141571044921875\n",
      "3.1415863037109375\n",
      "3.1415939331054688\n",
      "3.141590118408203\n",
      "3.141592025756836\n",
      "3.1415929794311523\n"
     ]
    }
   ],
   "source": [
    "a, b = 1, 2\n",
    "    \n",
    "for i in range(20):\n",
    "    a, b = iterate(a, b)\n",
    "    print(a+b)"
   ]
  },
  {
   "cell_type": "code",
   "execution_count": null,
   "id": "942f291c",
   "metadata": {},
   "outputs": [],
   "source": []
  }
 ],
 "metadata": {
  "kernelspec": {
   "display_name": "Python 3 (ipykernel)",
   "language": "python",
   "name": "python3"
  },
  "language_info": {
   "codemirror_mode": {
    "name": "ipython",
    "version": 3
   },
   "file_extension": ".py",
   "mimetype": "text/x-python",
   "name": "python",
   "nbconvert_exporter": "python",
   "pygments_lexer": "ipython3",
   "version": "3.11.3"
  }
 },
 "nbformat": 4,
 "nbformat_minor": 5
}
