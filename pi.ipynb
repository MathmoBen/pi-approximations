{
 "cells": [
  {
   "cell_type": "markdown",
   "id": "ced2eb54",
   "metadata": {},
   "source": [
    "# Some methods for approximating pi"
   ]
  },
  {
   "cell_type": "markdown",
   "id": "34dbb679",
   "metadata": {},
   "source": [
    "## Random points in a square"
   ]
  },
  {
   "cell_type": "markdown",
   "id": "b6c4f836",
   "metadata": {},
   "source": [
    "In this first approach we randomly find points insided a 1x1 square and determine what proportion of them lie inside a unit circle. This should give an approximation of $\\pi / 4$."
   ]
  },
  {
   "cell_type": "code",
   "execution_count": 1,
   "id": "790def4e",
   "metadata": {},
   "outputs": [],
   "source": [
    "import numpy as np"
   ]
  },
  {
   "cell_type": "code",
   "execution_count": 2,
   "id": "0715350a",
   "metadata": {},
   "outputs": [],
   "source": [
    "pts = np.array([[np.random.random(),np.random.random()] for i in range(1_000_000)])"
   ]
  },
  {
   "cell_type": "code",
   "execution_count": 3,
   "id": "b0249bb3",
   "metadata": {},
   "outputs": [],
   "source": [
    "lengths = np.array([pts[i] @ pts[i] for i in range(len(pts))])"
   ]
  },
  {
   "cell_type": "code",
   "execution_count": 4,
   "id": "f06f9c6c",
   "metadata": {},
   "outputs": [],
   "source": [
    "shorts = lengths[lengths < 1]"
   ]
  },
  {
   "cell_type": "code",
   "execution_count": 5,
   "id": "33f35dbe",
   "metadata": {},
   "outputs": [
    {
     "name": "stdout",
     "output_type": "stream",
     "text": [
      "3.14232\n"
     ]
    }
   ],
   "source": [
    "print(4 * len(shorts) / len(pts))"
   ]
  },
  {
   "cell_type": "markdown",
   "id": "941ea21e",
   "metadata": {},
   "source": [
    "## Euler reciprocal of squares approach"
   ]
  },
  {
   "cell_type": "markdown",
   "id": "17dedf8f",
   "metadata": {},
   "source": [
    "In 1731 the Master Of Us All the Swiss mathematician Leonard Euler first considered the series\n",
    "$$\n",
    "\\sum_{n=1}^{\\infty}\\frac{1}{n^2},\n",
    "$$\n",
    "the famous 'Basel problem'. Wuler found the then best known value of this sum (6 decimal places --- even summing the first thousand terms only gives the correct answer to 2 decimal places!) In 1735 however, with an ingenious integral calculation he was able to prove that\n",
    "$$\n",
    "\\sum_{n=1}^{\\infty}\\frac{1}{n^2}=\\frac{\\pi^2}{6}.\n",
    "$$\n",
    "In the below we approximate $\\pi$ by summing the first few terms of this series."
   ]
  },
  {
   "cell_type": "code",
   "execution_count": 6,
   "id": "dbf4b474",
   "metadata": {
    "scrolled": true
   },
   "outputs": [
    {
     "name": "stdout",
     "output_type": "stream",
     "text": [
      "0.0\n",
      "3.0395075895610533\n",
      "3.1319807472443633\n",
      "3.1406371009859386\n",
      "3.141497154397623\n",
      "3.1415831042309486\n",
      "3.1415916986595125\n",
      "3.141592558096823\n",
      "3.14159264404049\n"
     ]
    }
   ],
   "source": [
    "for i in range(9):\n",
    "    nums = np.array([1/ n ** 2 for n in range(1,10 ** i)])\n",
    "    print(np.sqrt(6 * nums.sum()))"
   ]
  },
  {
   "cell_type": "markdown",
   "id": "bc1537ac",
   "metadata": {},
   "source": [
    "Euler did go on to consider higher powers. Using, for example, Fourier series, other variants of this that converge faster can also be used. In the below we approximate $\\pi$ using the fact that\n",
    "$$\n",
    "\\sum_{n=1}^{\\infty}\\frac{1}{n^4}=\\frac{\\pi^4}{90}.\n",
    "$$\n",
    "We contend ourselves by using this below though we note in passing that Euler did go further, for example, publishing in 1744 the fact that\n",
    "$$\n",
    "\\sum_{n=1}^{\\infty}\\frac{1}{n^{26}}=\\frac{2^{24}\\cdot76977929\\cdot \\pi^{26}}{27!}.\n",
    "$$"
   ]
  },
  {
   "cell_type": "code",
   "execution_count": 16,
   "id": "599c8e22",
   "metadata": {},
   "outputs": [
    {
     "name": "stdout",
     "output_type": "stream",
     "text": [
      "3.141592653347544\n"
     ]
    }
   ],
   "source": [
    "# Similar approach but with fourth powers\n",
    "\n",
    "nums = np.array([1/ n ** 4 for n in range(1,1000)])\n",
    "print(np.sqrt(np.sqrt(90 * nums.sum())))"
   ]
  },
  {
   "cell_type": "markdown",
   "id": "c327ff52",
   "metadata": {},
   "source": [
    "## A geometric approach"
   ]
  },
  {
   "cell_type": "markdown",
   "id": "83e87db9",
   "metadata": {},
   "source": [
    "Recall that, at least in the school-room definition, $\\pi$ is the ratio of the circumfrence of a circle to its diameter. In this approach we approximate the fircumfrence of a unit circle with a polygon with $2^n$ sides. A little playing-around with Pythagoras Theorem tells us that if $l_n$ is the length of the side of the polygon with $2^n$ sides, then \n",
    "$$\n",
    "l_{n+1}=\\sqrt{2 - 2\\sqrt{1 - l_n^2 / 4}}\n",
    "$$  \n",
    "and so $2^{n + 2}l_n\\approx\\pi$. It's worth noting, however, that the nested square roots should quickly result in rounding errors accumulating so one should not expect these approximations to be very good."
   ]
  },
  {
   "cell_type": "code",
   "execution_count": 22,
   "id": "b64f96e5",
   "metadata": {},
   "outputs": [
    {
     "name": "stdout",
     "output_type": "stream",
     "text": [
      "3.0614674589207187\n",
      "3.121445152258053\n",
      "3.1365484905459406\n",
      "3.140331156954739\n",
      "3.141277250932757\n",
      "3.1415138011441455\n",
      "3.1415729403678827\n",
      "3.141587725279961\n",
      "3.141591421504635\n",
      "3.141592345611077\n",
      "3.1415925765450043\n",
      "3.1415926334632482\n",
      "3.141592654807589\n",
      "3.1415926453212153\n",
      "3.1415926073757197\n",
      "3.1415929109396727\n",
      "3.141594125195191\n",
      "3.1415965537048196\n",
      "3.1415965537048196\n",
      "3.1416742650217575\n"
     ]
    }
   ],
   "source": [
    "#Initially using a square\n",
    "\n",
    "l = np.sqrt(2)\n",
    "for i in range(20):\n",
    "    l = np.sqrt(2 - 2 * np.sqrt(1 - l ** 2 / 4))\n",
    "    print(2 ** (i + 2) * l)"
   ]
  },
  {
   "cell_type": "code",
   "execution_count": 25,
   "id": "14189dbb",
   "metadata": {},
   "outputs": [
    {
     "name": "stdout",
     "output_type": "stream",
     "text": [
      "3.1058285412302498\n",
      "3.132628613281237\n",
      "3.139350203046872\n",
      "3.14103195089053\n",
      "3.1414524722853443\n",
      "3.141557607911622\n",
      "3.141583892148936\n",
      "3.1415904632367617\n",
      "3.1415921060430483\n",
      "3.1415925165881546\n",
      "3.1415926186407894\n",
      "3.1415926453212157\n",
      "3.1415926453212157\n",
      "3.1415926453212157\n",
      "3.1415926453212157\n",
      "3.141593669849427\n",
      "3.1415923038117377\n",
      "3.1416086962248038\n",
      "3.1415868396550413\n",
      "3.1416742650217575\n"
     ]
    }
   ],
   "source": [
    "#Initially using a regular hexagon\n",
    "\n",
    "l = 1\n",
    "for i in range(20):\n",
    "    l = np.sqrt(2 - 2 * np.sqrt(1 - l ** 2 / 4))\n",
    "    print(6 * 2 ** i * l)"
   ]
  },
  {
   "cell_type": "code",
   "execution_count": 26,
   "id": "5f7ae20a",
   "metadata": {},
   "outputs": [],
   "source": [
    "#Add-on an attempt using a regular pentagon"
   ]
  },
  {
   "cell_type": "markdown",
   "id": "7e5b15dd",
   "metadata": {},
   "source": [
    "## A Newton-Raphson approach"
   ]
  },
  {
   "cell_type": "markdown",
   "id": "6cc8b7cb",
   "metadata": {},
   "source": [
    "In this approach we employ the Newton-Raphson procedure which given a function $f$ starts with an approximate solution $x_0$ to the equation $f(x)=0$ and iteratively obtains a better solution, namely\n",
    "$$x_{n+1} = x_n - \\frac{f(x_n)}{f'(x_n)}.$$\n",
    "In this case we use the fact that $\\pi / 2$ is a zero of the function $f(x)=\\cos(x)$."
   ]
  },
  {
   "cell_type": "code",
   "execution_count": 38,
   "id": "c1573957",
   "metadata": {},
   "outputs": [
    {
     "name": "stdout",
     "output_type": "stream",
     "text": [
      "3.0846848912794282\n",
      "3.141608016516193\n",
      "3.141592653589793\n",
      "3.141592653589793\n",
      "3.141592653589793\n",
      "3.141592653589793\n",
      "3.141592653589793\n",
      "3.141592653589793\n",
      "3.141592653589793\n",
      "3.141592653589793\n"
     ]
    }
   ],
   "source": [
    "l = 2\n",
    "\n",
    "for i in range(10):\n",
    "    l = l + np.cos(l)/np.sin(l)\n",
    "    print(2 * l)"
   ]
  },
  {
   "cell_type": "markdown",
   "id": "202e7f4c",
   "metadata": {},
   "source": [
    "## A Hally's method approach"
   ]
  },
  {
   "cell_type": "markdown",
   "id": "cc4a4db4",
   "metadata": {},
   "source": [
    "Edmond Hally, of comet fame and personal friend of Isaac Newton, adapted his technique to a higher-order variant by instead considering the iterative procedure involving\n",
    "$$x_{n+1} = x_n - \\frac{2f(x_n)f'(x_n)}{2f'(x_n) ^2 - f(x_n)f''(x_n)}.$$\n",
    "This is clearly more computationally demanding and can be shown to be in a precise technical sense only half as good as Newton-Raphosn, but nonetheless it is worth considering for comparason. "
   ]
  },
  {
   "cell_type": "code",
   "execution_count": 36,
   "id": "4755808d",
   "metadata": {},
   "outputs": [
    {
     "name": "stdout",
     "output_type": "stream",
     "text": [
      "6.630609120025197\n",
      "4.656989254816455\n",
      "3.2240895781808154\n",
      "3.1282758469343306\n",
      "3.1438989211655497\n",
      "3.1411976061764877\n",
      "3.141660451942607\n",
      "3.141581021789133\n",
      "3.141594649307691\n",
      "3.1415923111792186\n",
      "3.1415927123381744\n",
      "3.141592643510165\n",
      "3.141592655319184\n",
      "3.1415926532930767\n",
      "3.1415926536407017\n",
      "3.1415926535810588\n",
      "3.141592653591292\n",
      "3.141592653589536\n",
      "3.1415926535898375\n",
      "3.1415926535897856\n"
     ]
    }
   ],
   "source": [
    "l = 2\n",
    "\n",
    "for i in range(20):\n",
    "    l = l + np.cos(2 * l)/(np.sin(l) + 1)\n",
    "    print(4 * l)"
   ]
  },
  {
   "cell_type": "code",
   "execution_count": null,
   "id": "765b318f",
   "metadata": {},
   "outputs": [],
   "source": []
  }
 ],
 "metadata": {
  "kernelspec": {
   "display_name": "Python 3 (ipykernel)",
   "language": "python",
   "name": "python3"
  },
  "language_info": {
   "codemirror_mode": {
    "name": "ipython",
    "version": 3
   },
   "file_extension": ".py",
   "mimetype": "text/x-python",
   "name": "python",
   "nbconvert_exporter": "python",
   "pygments_lexer": "ipython3",
   "version": "3.11.3"
  }
 },
 "nbformat": 4,
 "nbformat_minor": 5
}
