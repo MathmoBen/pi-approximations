{
 "cells": [
  {
   "cell_type": "markdown",
   "id": "b9bfb1cb",
   "metadata": {},
   "source": [
    "# Integrals"
   ]
  },
  {
   "cell_type": "markdown",
   "id": "3b6e4555",
   "metadata": {},
   "source": [
    "In this notebook we approximate pi by evaluating some integrals whose value is known to be related to $\\pi$."
   ]
  },
  {
   "cell_type": "markdown",
   "id": "903c0b75",
   "metadata": {},
   "source": [
    "## Approximating $\\zeta(2)$"
   ]
  },
  {
   "cell_type": "markdown",
   "id": "c7042f80",
   "metadata": {},
   "source": [
    "Recalling how convergent geometric progressions behave we can show that\n",
    "\n",
    "$$\n",
    "\\int_0^1\\int_0^1\\frac{dxdy}{1-xy}=\\sum_{n=1}^{\\infty}\\frac{1}{n^2}=\\zeta(2)=\\frac{\\pi^2}{6}.\n",
    "$$"
   ]
  },
  {
   "cell_type": "code",
   "execution_count": 3,
   "id": "124e2768",
   "metadata": {},
   "outputs": [],
   "source": [
    "# The usual import\n",
    "\n",
    "import numpy as np"
   ]
  },
  {
   "cell_type": "code",
   "execution_count": 11,
   "id": "3d4cc793",
   "metadata": {},
   "outputs": [
    {
     "name": "stdout",
     "output_type": "stream",
     "text": [
      "Approximate value of the double integral: 1.6448215472715804\n"
     ]
    }
   ],
   "source": [
    "def f(x, y):\n",
    "    return 1 / (1 - x * y)\n",
    "\n",
    "def trapezium_rule_2d(f, a, b, c, d, nx, ny):\n",
    "    hx = (b - a) / nx\n",
    "    hy = (d - c) / ny\n",
    "\n",
    "    integral = 0\n",
    "\n",
    "    for i in range(nx):\n",
    "        for j in range(ny):\n",
    "            x0 = a + i * hx\n",
    "            x1 = a + (i + 1) * hx\n",
    "            y0 = c + j * hy\n",
    "            y1 = c + (j + 1) * hy\n",
    "\n",
    "            # Check if the function evaluation will cause division by zero\n",
    "            if x1 * y1 != 1:\n",
    "                f00 = f(x0, y0)\n",
    "                f01 = f(x0, y1)\n",
    "                f10 = f(x1, y0)\n",
    "                f11 = f(x1, y1)\n",
    "\n",
    "                integral += (f00 + f01 + f10 + f11) / 4 * hx * hy\n",
    "\n",
    "    return integral\n",
    "\n",
    "# Define the limits of integration\n",
    "a, b = 0, 1\n",
    "c, d = 0, 1\n",
    "\n",
    "# Number of subdivisions\n",
    "nx, ny = 10_000, 10_000\n",
    "\n",
    "# Approximate the integral\n",
    "result = trapezium_rule_2d(f, a, b, c, d, nx, ny)\n",
    "print(f\"Approximate value of the double integral: {result}\")"
   ]
  },
  {
   "cell_type": "code",
   "execution_count": 12,
   "id": "71df7c3e",
   "metadata": {},
   "outputs": [
    {
     "data": {
      "text/plain": [
       "3.1414852034713583"
      ]
     },
     "execution_count": 12,
     "metadata": {},
     "output_type": "execute_result"
    }
   ],
   "source": [
    "np.sqrt(6*result)"
   ]
  },
  {
   "cell_type": "markdown",
   "id": "f2d89e58",
   "metadata": {},
   "source": [
    "In a similar vein we have that\n",
    "$$\n",
    "\\int_0^1\\int_0^1\\frac{xy}{1-xy}dxdy=\\sum_{n=2}^{\\infty}\\frac{1}{n^2}=\\zeta(2)-1=\\frac{\\pi^2}{6}-1.\n",
    "$$"
   ]
  },
  {
   "cell_type": "code",
   "execution_count": 14,
   "id": "597662a1",
   "metadata": {},
   "outputs": [
    {
     "name": "stdout",
     "output_type": "stream",
     "text": [
      "Approximate value of the double integral: 0.6448215572716262\n"
     ]
    }
   ],
   "source": [
    "def f(x, y):\n",
    "    return x*y / (1 - x * y)\n",
    "\n",
    "def trapezium_rule_2d(f, a, b, c, d, nx, ny):\n",
    "    hx = (b - a) / nx\n",
    "    hy = (d - c) / ny\n",
    "\n",
    "    integral = 0\n",
    "\n",
    "    for i in range(nx):\n",
    "        for j in range(ny):\n",
    "            x0 = a + i * hx\n",
    "            x1 = a + (i + 1) * hx\n",
    "            y0 = c + j * hy\n",
    "            y1 = c + (j + 1) * hy\n",
    "\n",
    "            # Check if the function evaluation will cause division by zero\n",
    "            if x1 * y1 != 1:\n",
    "                f00 = f(x0, y0)\n",
    "                f01 = f(x0, y1)\n",
    "                f10 = f(x1, y0)\n",
    "                f11 = f(x1, y1)\n",
    "\n",
    "                integral += (f00 + f01 + f10 + f11) / 4 * hx * hy\n",
    "\n",
    "    return integral\n",
    "\n",
    "# Define the limits of integration\n",
    "a, b = 0, 1\n",
    "c, d = 0, 1\n",
    "\n",
    "# Number of subdivisions\n",
    "nx, ny = 10_000, 10_000\n",
    "\n",
    "# Approximate the integral\n",
    "result = trapezium_rule_2d(f, a, b, c, d, nx, ny)\n",
    "print(f\"Approximate value of the double integral: {result}\")"
   ]
  },
  {
   "cell_type": "code",
   "execution_count": 15,
   "id": "42eb3713",
   "metadata": {},
   "outputs": [
    {
     "data": {
      "text/plain": [
       "3.141485213021025"
      ]
     },
     "execution_count": 15,
     "metadata": {},
     "output_type": "execute_result"
    }
   ],
   "source": [
    "np.sqrt(6*(1+result))"
   ]
  },
  {
   "cell_type": "markdown",
   "id": "0eb970b5",
   "metadata": {},
   "source": [
    "## An odd sum"
   ]
  },
  {
   "cell_type": "markdown",
   "id": "a58cea42",
   "metadata": {},
   "source": [
    "We have that \n",
    "$$\n",
    "\\int_0^1\\int_0^1\\frac{dxdy}{1-x^2y^2}=\\sum_{n=1}^{\\infty}\\frac{1}{(2n-1)^2}=\\frac{\\pi^2}{8}.\n",
    "$$"
   ]
  },
  {
   "cell_type": "code",
   "execution_count": 31,
   "id": "d0d761f2",
   "metadata": {},
   "outputs": [
    {
     "name": "stdout",
     "output_type": "stream",
     "text": [
      "Approximate value of the double integral: 1.2336442881038316\n"
     ]
    }
   ],
   "source": [
    "def f(x, y):\n",
    "    return 1 / (1 - (x * y)**2)\n",
    "\n",
    "def trapezium_rule_2d(f, a, b, c, d, nx, ny):\n",
    "    hx = (b - a) / nx\n",
    "    hy = (d - c) / ny\n",
    "\n",
    "    integral = 0\n",
    "\n",
    "    for i in range(nx):\n",
    "        for j in range(ny):\n",
    "            x0 = a + i * hx\n",
    "            x1 = a + (i + 1) * hx\n",
    "            y0 = c + j * hy\n",
    "            y1 = c + (j + 1) * hy\n",
    "            if x1*y1!=1:\n",
    "                f00 = f(x0, y0)\n",
    "                f01 = f(x0, y1)\n",
    "                f10 = f(x1, y0)\n",
    "                f11 = f(x1, y1)\n",
    "\n",
    "                integral += (f00 + f01 + f10 + f11) / 4 * hx * hy\n",
    "\n",
    "    return integral\n",
    "\n",
    "# Define the limits of integration\n",
    "a, b = 0, 1\n",
    "c, d = 0, 1\n",
    "\n",
    "# Number of subdivisions\n",
    "nx, ny = 10_000, 10_000\n",
    "\n",
    "# Approximate the integral\n",
    "result = trapezium_rule_2d(f, a, b, c, d, nx, ny)\n",
    "print(f\"Approximate value of the double integral: {result}\")"
   ]
  },
  {
   "cell_type": "code",
   "execution_count": 32,
   "id": "34238223",
   "metadata": {},
   "outputs": [
    {
     "data": {
      "text/plain": [
       "3.141521017728618"
      ]
     },
     "execution_count": 32,
     "metadata": {},
     "output_type": "execute_result"
    }
   ],
   "source": [
    "np.sqrt(result*8)"
   ]
  },
  {
   "cell_type": "markdown",
   "id": "8eddd06c",
   "metadata": {},
   "source": [
    "Similarly we have that\n",
    "$$\n",
    "\\int_0^1\\int_0^1\\frac{xy}{1-x^2y^2}dxdy=\\sum_{n=1}^{\\infty}\\frac{1}{(2n)^2}=\\frac{\\pi^2}{24}.\n",
    "$$"
   ]
  },
  {
   "cell_type": "code",
   "execution_count": 1,
   "id": "60fcfa83",
   "metadata": {},
   "outputs": [
    {
     "name": "stdout",
     "output_type": "stream",
     "text": [
      "Approximate value of the double integral: 0.4111772591681329\n"
     ]
    }
   ],
   "source": [
    "def f(x, y):\n",
    "    return x*y / (1 - (x * y)**2)\n",
    "\n",
    "def trapezium_rule_2d(f, a, b, c, d, nx, ny):\n",
    "    hx = (b - a) / nx\n",
    "    hy = (d - c) / ny\n",
    "\n",
    "    integral = 0\n",
    "\n",
    "    for i in range(nx):\n",
    "        for j in range(ny):\n",
    "            x0 = a + i * hx\n",
    "            x1 = a + (i + 1) * hx\n",
    "            y0 = c + j * hy\n",
    "            y1 = c + (j + 1) * hy\n",
    "            if x1*y1 != 1:\n",
    "                f00 = f(x0, y0)\n",
    "                f01 = f(x0, y1)\n",
    "                f10 = f(x1, y0)\n",
    "                f11 = f(x1, y1)\n",
    "\n",
    "                integral += (f00 + f01 + f10 + f11) / 4 * hx * hy\n",
    "\n",
    "    return integral\n",
    "\n",
    "# Define the limits of integration\n",
    "a, b = 0, 1\n",
    "c, d = 0, 1\n",
    "\n",
    "# Number of subdivisions\n",
    "nx, ny = 10_000, 10_000\n",
    "\n",
    "# Approximate the integral\n",
    "result = trapezium_rule_2d(f, a, b, c, d, nx, ny)\n",
    "print(f\"Approximate value of the double integral: {result}\")"
   ]
  },
  {
   "cell_type": "code",
   "execution_count": 4,
   "id": "f7768c49",
   "metadata": {},
   "outputs": [
    {
     "data": {
      "text/plain": [
       "3.141377758251177"
      ]
     },
     "execution_count": 4,
     "metadata": {},
     "output_type": "execute_result"
    }
   ],
   "source": [
    "np.sqrt(24*result)"
   ]
  },
  {
   "cell_type": "code",
   "execution_count": null,
   "id": "c94fe8e4",
   "metadata": {},
   "outputs": [],
   "source": []
  }
 ],
 "metadata": {
  "kernelspec": {
   "display_name": "Python 3 (ipykernel)",
   "language": "python",
   "name": "python3"
  },
  "language_info": {
   "codemirror_mode": {
    "name": "ipython",
    "version": 3
   },
   "file_extension": ".py",
   "mimetype": "text/x-python",
   "name": "python",
   "nbconvert_exporter": "python",
   "pygments_lexer": "ipython3",
   "version": "3.11.3"
  }
 },
 "nbformat": 4,
 "nbformat_minor": 5
}
