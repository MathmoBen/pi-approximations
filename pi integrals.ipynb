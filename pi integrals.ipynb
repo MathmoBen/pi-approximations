{
 "cells": [
  {
   "cell_type": "markdown",
   "id": "09be3071",
   "metadata": {},
   "source": [
    "# Integrals"
   ]
  },
  {
   "cell_type": "markdown",
   "id": "99d8cfe7",
   "metadata": {},
   "source": [
    "In this notebook we approximate pi by evaluating some integrals whose value is known to be related to $\\pi$."
   ]
  },
  {
   "cell_type": "markdown",
   "id": "35ff0560",
   "metadata": {},
   "source": [
    "## Approximating $\\zeta(2)$"
   ]
  },
  {
   "cell_type": "markdown",
   "id": "da1db29c",
   "metadata": {},
   "source": [
    "Recalling how convergent geometric progressions behave we can show that\n",
    "\n",
    "$$\n",
    "\\int_0^1\\int_0^1\\frac{dxdy}{1-xy}=\\sum_{n=1}^{\\infty}\\frac{1}{n^2}=\\zeta(2)=\\frac{\\pi^2}{6}.\n",
    "$$"
   ]
  },
  {
   "cell_type": "code",
   "execution_count": 3,
   "id": "551c26ed",
   "metadata": {},
   "outputs": [],
   "source": [
    "# The usual import\n",
    "\n",
    "import numpy as np"
   ]
  },
  {
   "cell_type": "code",
   "execution_count": 4,
   "id": "f441de3f",
   "metadata": {},
   "outputs": [
    {
     "name": "stdout",
     "output_type": "stream",
     "text": [
      "Approximate value of the double integral: 1.6438074928782733\n"
     ]
    }
   ],
   "source": [
    "def f(x, y):\n",
    "    return 1 / (1 - x * y)\n",
    "\n",
    "def trapezium_rule_2d(f, a, b, c, d, nx, ny):\n",
    "    hx = (b - a) / nx\n",
    "    hy = (d - c) / ny\n",
    "\n",
    "    integral = 0\n",
    "\n",
    "    for i in range(nx):\n",
    "        for j in range(ny):\n",
    "            x0 = a + i * hx\n",
    "            x1 = a + (i + 1) * hx\n",
    "            y0 = c + j * hy\n",
    "            y1 = c + (j + 1) * hy\n",
    "\n",
    "            # Check if the function evaluation will cause division by zero\n",
    "            if (1 - x0 * y0) != 0 and (1 - x0 * y1) != 0 and (1 - x1 * y0) != 0 and (1 - x1 * y1) != 0:\n",
    "                f00 = f(x0, y0)\n",
    "                f01 = f(x0, y1)\n",
    "                f10 = f(x1, y0)\n",
    "                f11 = f(x1, y1)\n",
    "\n",
    "                integral += (f00 + f01 + f10 + f11) / 4 * hx * hy\n",
    "\n",
    "    return integral\n",
    "\n",
    "# Define the limits of integration\n",
    "a, b = 0, 1\n",
    "c, d = 0, 1\n",
    "\n",
    "# Number of subdivisions\n",
    "nx, ny = 1_000, 1_000\n",
    "\n",
    "# Approximate the integral\n",
    "result = trapezium_rule_2d(f, a, b, c, d, nx, ny)\n",
    "print(f\"Approximate value of the double integral: {result}\")"
   ]
  },
  {
   "cell_type": "code",
   "execution_count": 5,
   "id": "d939969e",
   "metadata": {},
   "outputs": [
    {
     "data": {
      "text/plain": [
       "3.1405166704333287"
      ]
     },
     "execution_count": 5,
     "metadata": {},
     "output_type": "execute_result"
    }
   ],
   "source": [
    "np.sqrt(6*result)"
   ]
  },
  {
   "cell_type": "markdown",
   "id": "d4155f7a",
   "metadata": {},
   "source": [
    "In a similar vein we have that\n",
    "$$\n",
    "\\int_0^1\\int_0^1\\frac{xy}{1-xy}dxdy=\\sum_{n=2}^{\\infty}\\frac{1}{n^2}=\\zeta(2)-1=\\frac{\\pi^2}{6}-1.\n",
    "$$"
   ]
  },
  {
   "cell_type": "code",
   "execution_count": 7,
   "id": "ce397716",
   "metadata": {},
   "outputs": [
    {
     "name": "stdout",
     "output_type": "stream",
     "text": [
      "Approximate value of the double integral: 0.6438084928781996\n"
     ]
    }
   ],
   "source": [
    "def f(x, y):\n",
    "    return x*y / (1 - x * y)\n",
    "\n",
    "def trapezium_rule_2d(f, a, b, c, d, nx, ny):\n",
    "    hx = (b - a) / nx\n",
    "    hy = (d - c) / ny\n",
    "\n",
    "    integral = 0\n",
    "\n",
    "    for i in range(nx):\n",
    "        for j in range(ny):\n",
    "            x0 = a + i * hx\n",
    "            x1 = a + (i + 1) * hx\n",
    "            y0 = c + j * hy\n",
    "            y1 = c + (j + 1) * hy\n",
    "\n",
    "            # Check if the function evaluation will cause division by zero\n",
    "            if (1 - x0 * y0) != 0 and (1 - x0 * y1) != 0 and (1 - x1 * y0) != 0 and (1 - x1 * y1) != 0:\n",
    "                f00 = f(x0, y0)\n",
    "                f01 = f(x0, y1)\n",
    "                f10 = f(x1, y0)\n",
    "                f11 = f(x1, y1)\n",
    "\n",
    "                integral += (f00 + f01 + f10 + f11) / 4 * hx * hy\n",
    "\n",
    "    return integral\n",
    "\n",
    "# Define the limits of integration\n",
    "a, b = 0, 1\n",
    "c, d = 0, 1\n",
    "\n",
    "# Number of subdivisions\n",
    "nx, ny = 1_000, 1_000\n",
    "\n",
    "# Approximate the integral\n",
    "result = trapezium_rule_2d(f, a, b, c, d, nx, ny)\n",
    "print(f\"Approximate value of the double integral: {result}\")"
   ]
  },
  {
   "cell_type": "code",
   "execution_count": 8,
   "id": "6d716f75",
   "metadata": {},
   "outputs": [
    {
     "data": {
      "text/plain": [
       "3.140517625689943"
      ]
     },
     "execution_count": 8,
     "metadata": {},
     "output_type": "execute_result"
    }
   ],
   "source": [
    "np.sqrt(6*(1+result))"
   ]
  },
  {
   "cell_type": "code",
   "execution_count": null,
   "id": "ccdb3a34",
   "metadata": {},
   "outputs": [],
   "source": []
  }
 ],
 "metadata": {
  "kernelspec": {
   "display_name": "Python 3 (ipykernel)",
   "language": "python",
   "name": "python3"
  },
  "language_info": {
   "codemirror_mode": {
    "name": "ipython",
    "version": 3
   },
   "file_extension": ".py",
   "mimetype": "text/x-python",
   "name": "python",
   "nbconvert_exporter": "python",
   "pygments_lexer": "ipython3",
   "version": "3.11.3"
  }
 },
 "nbformat": 4,
 "nbformat_minor": 5
}
