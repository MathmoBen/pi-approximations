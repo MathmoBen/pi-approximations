{
 "cells": [
  {
   "cell_type": "markdown",
   "id": "7c0424a2",
   "metadata": {},
   "source": [
    "# Probabalistic approximations of $\\pi$"
   ]
  },
  {
   "cell_type": "markdown",
   "id": "1d444f0a",
   "metadata": {},
   "source": [
    "## Random points in a square"
   ]
  },
  {
   "cell_type": "markdown",
   "id": "dd7cbc45",
   "metadata": {},
   "source": [
    "Consider the $1\\times1$ square whose corners are at the points whose coordinates are either 0 or 1. If we consider the unit circle centered at the origin, a region of area $\\pi/4$ lies inside both of these shapes. If we randomly select points inside this square and work out the proportion that lie inside the circle, then we obtain an approximation of $\\pi/4$. "
   ]
  },
  {
   "cell_type": "code",
   "execution_count": 1,
   "id": "42c7814f",
   "metadata": {},
   "outputs": [],
   "source": [
    "# Usual import\n",
    "\n",
    "import numpy as np"
   ]
  },
  {
   "cell_type": "code",
   "execution_count": 3,
   "id": "21858315",
   "metadata": {},
   "outputs": [
    {
     "name": "stdout",
     "output_type": "stream",
     "text": [
      "3.1422356\n"
     ]
    }
   ],
   "source": [
    "pts = np.array([[np.random.random(),np.random.random()] for i in range(10_000_000)])\n",
    "lengths = np.array([pts[i] @ pts[i] for i in range(len(pts))])\n",
    "shorts = lengths[lengths < 1]\n",
    "print(4 * len(shorts) / len(pts))"
   ]
  },
  {
   "cell_type": "code",
   "execution_count": null,
   "id": "656e83f7",
   "metadata": {},
   "outputs": [],
   "source": []
  }
 ],
 "metadata": {
  "kernelspec": {
   "display_name": "Python 3 (ipykernel)",
   "language": "python",
   "name": "python3"
  },
  "language_info": {
   "codemirror_mode": {
    "name": "ipython",
    "version": 3
   },
   "file_extension": ".py",
   "mimetype": "text/x-python",
   "name": "python",
   "nbconvert_exporter": "python",
   "pygments_lexer": "ipython3",
   "version": "3.11.3"
  }
 },
 "nbformat": 4,
 "nbformat_minor": 5
}
