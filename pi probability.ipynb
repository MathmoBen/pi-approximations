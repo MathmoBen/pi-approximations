{
 "cells": [
  {
   "cell_type": "markdown",
   "id": "7c0424a2",
   "metadata": {},
   "source": [
    "# Probabalistic approximations of $\\pi$"
   ]
  },
  {
   "cell_type": "markdown",
   "id": "1d444f0a",
   "metadata": {},
   "source": [
    "## Random points in a square"
   ]
  },
  {
   "cell_type": "markdown",
   "id": "dd7cbc45",
   "metadata": {},
   "source": [
    "Consider the $1\\times1$ square whose corners are at the points whose coordinates are either 0 or 1. If we consider the unit circle centered at the origin, a region of area $\\pi/4$ lies inside both of these shapes. If we randomly select points inside this square and work out the proportion that lie inside the circle, then we obtain an approximation of $\\pi/4$. "
   ]
  },
  {
   "cell_type": "code",
   "execution_count": 2,
   "id": "42c7814f",
   "metadata": {},
   "outputs": [],
   "source": [
    "# Usual import\n",
    "\n",
    "import numpy as np"
   ]
  },
  {
   "cell_type": "code",
   "execution_count": 3,
   "id": "21858315",
   "metadata": {},
   "outputs": [
    {
     "name": "stdout",
     "output_type": "stream",
     "text": [
      "3.1422356\n"
     ]
    }
   ],
   "source": [
    "pts = np.array([[np.random.random(),np.random.random()] for i in range(10_000_000)])\n",
    "lengths = np.array([pts[i] @ pts[i] for i in range(len(pts))])\n",
    "shorts = lengths[lengths < 1]\n",
    "print(4 * len(shorts) / len(pts))"
   ]
  },
  {
   "cell_type": "markdown",
   "id": "ea3587e8",
   "metadata": {},
   "source": [
    "## Buffon's needle"
   ]
  },
  {
   "cell_type": "markdown",
   "id": "5023e239",
   "metadata": {},
   "source": [
    "A famous exercise in elementary probability theory first posed by Buffon in 1733 and solved by him in 1777 is the following. Suppose we have a needle of length $\\ell$ and drop it on some floorboards of width $\\ell$. What is the probability that the needle lies over the cracks in the floorboards? It turns out that the answer is $2/\\pi$. Simulating this gives another approach to approximating $\\pi$.\n",
    "See https://mathworld.wolfram.com/BuffonsNeedleProblem.html for details."
   ]
  },
  {
   "cell_type": "code",
   "execution_count": 6,
   "id": "48670ca3",
   "metadata": {},
   "outputs": [
    {
     "name": "stdout",
     "output_type": "stream",
     "text": [
      "3.140864802573876\n",
      "3.141260193487492\n",
      "3.1413879007769596\n",
      "3.141492590671919\n",
      "3.1413012922276886\n",
      "3.141236429400528\n",
      "3.141494317743615\n",
      "3.141582524287476\n",
      "3.1415572063779336\n"
     ]
    }
   ],
   "source": [
    "crossing_count = 0\n",
    "for n in range(10_000_000,100_000_000,10_000_000):\n",
    "    for i in range(n-10_000_000,n):\n",
    "        center = 10*np.random.random()\n",
    "        angle = 2*np.pi*np.random.random()\n",
    "        needle = [center - np.cos(angle)/2, center + np.cos(angle)/2]\n",
    "        if np.floor(needle[0]) != np.floor(needle[1]):\n",
    "            crossing_count += 1  \n",
    "    print(2*n/crossing_count)"
   ]
  },
  {
   "cell_type": "code",
   "execution_count": null,
   "id": "866a04c2",
   "metadata": {},
   "outputs": [],
   "source": []
  }
 ],
 "metadata": {
  "kernelspec": {
   "display_name": "Python 3 (ipykernel)",
   "language": "python",
   "name": "python3"
  },
  "language_info": {
   "codemirror_mode": {
    "name": "ipython",
    "version": 3
   },
   "file_extension": ".py",
   "mimetype": "text/x-python",
   "name": "python",
   "nbconvert_exporter": "python",
   "pygments_lexer": "ipython3",
   "version": "3.11.3"
  }
 },
 "nbformat": 4,
 "nbformat_minor": 5
}
