{
 "cells": [
  {
   "cell_type": "markdown",
   "id": "1900a8db",
   "metadata": {},
   "source": [
    "# Geometric approximations of $\\pi$"
   ]
  },
  {
   "cell_type": "markdown",
   "id": "43fbbc6b",
   "metadata": {},
   "source": [
    "## Interior polygons"
   ]
  },
  {
   "cell_type": "markdown",
   "id": "b67642eb",
   "metadata": {},
   "source": [
    "Recall that, at least in the school-room definition, $\\pi$ is the ratio of the circumfrence of a circle to its diameter. In this approach we approximate the circumfrence of a unit circle with a polygon with $2^n$ sides. A little playing-around with Pythagoras Theorem tells us that if $l_n$ is the length of the side of the polygon with $2^n$ sides, then \n",
    "$$\n",
    "l_{n+1}=\\sqrt{2 - 2\\sqrt{1 - l_n^2 / 4}}\n",
    "$$  \n",
    "and so $2^nl_n\\approx\\pi$. It's worth noting, however, that the nested square roots should quickly result in rounding errors accumulating so one should not expect these approximations to be very good."
   ]
  },
  {
   "cell_type": "code",
   "execution_count": 1,
   "id": "9c91283e",
   "metadata": {},
   "outputs": [],
   "source": [
    "#Usual import\n",
    "\n",
    "import numpy as np"
   ]
  },
  {
   "cell_type": "code",
   "execution_count": 6,
   "id": "533d2a7d",
   "metadata": {},
   "outputs": [
    {
     "name": "stdout",
     "output_type": "stream",
     "text": [
      "2.9999999999999996\n",
      "3.1058285412302498\n",
      "3.132628613281237\n",
      "3.139350203046872\n",
      "3.14103195089053\n",
      "3.1414524722853443\n",
      "3.141557607911622\n",
      "3.141583892148936\n",
      "3.1415904632367617\n",
      "3.1415921060430483\n",
      "3.1415925165881546\n",
      "3.1415926186407894\n",
      "3.1415926453212157\n",
      "3.1415926453212157\n",
      "3.1415926453212157\n",
      "3.1415926453212157\n",
      "3.141593669849427\n",
      "3.1415923038117377\n",
      "3.1416086962248038\n",
      "3.1415868396550413\n"
     ]
    }
   ],
   "source": [
    "# Initially using an equalateral triangle\n",
    "\n",
    "l = np.sqrt(3)\n",
    "for i in range(20):\n",
    "    l = np.sqrt(2 - 2 * np.sqrt(1 - l ** 2 / 4))\n",
    "    print(3 * 2 ** i * l)"
   ]
  },
  {
   "cell_type": "code",
   "execution_count": 5,
   "id": "92f6e555",
   "metadata": {},
   "outputs": [
    {
     "name": "stdout",
     "output_type": "stream",
     "text": [
      "3.0614674589207187\n",
      "3.121445152258053\n",
      "3.1365484905459406\n",
      "3.140331156954739\n",
      "3.141277250932757\n",
      "3.1415138011441455\n",
      "3.1415729403678827\n",
      "3.141587725279961\n",
      "3.141591421504635\n",
      "3.141592345611077\n",
      "3.1415925765450043\n",
      "3.1415926334632482\n",
      "3.141592654807589\n",
      "3.1415926453212153\n",
      "3.1415926073757197\n",
      "3.1415929109396727\n",
      "3.141594125195191\n",
      "3.1415965537048196\n",
      "3.1415965537048196\n",
      "3.1416742650217575\n"
     ]
    }
   ],
   "source": [
    "#Initially using a square\n",
    "\n",
    "l = np.sqrt(2)\n",
    "for i in range(20):\n",
    "    l = np.sqrt(2 - 2 * np.sqrt(1 - l ** 2 / 4))\n",
    "    print(2 ** (i + 2) * l)"
   ]
  },
  {
   "cell_type": "code",
   "execution_count": 3,
   "id": "746817e6",
   "metadata": {},
   "outputs": [
    {
     "name": "stdout",
     "output_type": "stream",
     "text": [
      "3.090169943749474\n",
      "3.1286893008046186\n",
      "3.1383638291137923\n",
      "3.1407852607254947\n",
      "3.141390793700371\n",
      "3.141542187887282\n",
      "3.1415800371154248\n",
      "3.1415894994663325\n",
      "3.1415918650251795\n",
      "3.141592456418232\n",
      "3.141592604411228\n",
      "3.1415926414673763\n",
      "3.1415926488786057\n",
      "3.1415926785235238\n",
      "3.141592797103194\n",
      "3.141592797103194\n",
      "3.1415918484657093\n",
      "3.1415880539129057\n",
      "3.1416184102070006\n",
      "3.141557697325484\n"
     ]
    }
   ],
   "source": [
    "# Initially using a regular pentagon\n",
    "\n",
    "l = np.sqrt(10 - 2*np.sqrt(5)) / 2\n",
    "for i in range(20):\n",
    "    l = np.sqrt(2 - 2 * np.sqrt(1 - l ** 2 / 4))\n",
    "    print(5 * 2 ** i * l)"
   ]
  },
  {
   "cell_type": "code",
   "execution_count": 8,
   "id": "3f65d31b",
   "metadata": {},
   "outputs": [
    {
     "name": "stdout",
     "output_type": "stream",
     "text": [
      "3.1058285412302498\n",
      "3.132628613281237\n",
      "3.139350203046872\n",
      "3.14103195089053\n",
      "3.1414524722853443\n",
      "3.141557607911622\n",
      "3.141583892148936\n",
      "3.1415904632367617\n",
      "3.1415921060430483\n",
      "3.1415925165881546\n",
      "3.1415926186407894\n",
      "3.1415926453212157\n",
      "3.1415926453212157\n",
      "3.1415926453212157\n",
      "3.1415926453212157\n",
      "3.141593669849427\n",
      "3.1415923038117377\n",
      "3.1416086962248038\n",
      "3.1415868396550413\n",
      "3.1416742650217575\n"
     ]
    }
   ],
   "source": [
    "#Initially using a regular hexagon\n",
    "\n",
    "l = 1\n",
    "for i in range(20):\n",
    "    l = np.sqrt(2 - 2 * np.sqrt(1 - l ** 2 / 4))\n",
    "    print(6 * 2 ** i * l)"
   ]
  },
  {
   "cell_type": "markdown",
   "id": "8ba1d377",
   "metadata": {},
   "source": [
    "## The trapezium rule applied to a semi-circle"
   ]
  },
  {
   "cell_type": "markdown",
   "id": "df24ab6e",
   "metadata": {},
   "source": [
    "Let $f\\colon[a,b]\\rightarrow\\mathbb{R}$ be an integrable function. Suppose we subdivide $[a, b]$ into parts each of width $w$. Then considering the the areas of the trapezia defined by the points $x$, $x+w$, $f(x)$ and $f(x+w)$ for the subdivison $a=x_0<x_1=x+w<x_2=x+2w<\\ldots$ gives us the approximation\n",
    "$$\n",
    "\\int_a^bf(x)dx\\approx\\frac{w}{2}(f(x_0)+2f(x_1)+\\cdots+2f(x_{n-1})+f(x_n)).\n",
    "$$\n",
    "this is known as the trapezium rule. We apply this idea to the function $y=\\sqrt{1-x^2}$ on the interval $[0,1]$, i.e. approximate the area under a quarter unit circle which is $\\pi/4$. Note that the convexity of the circle means that this approach is guaranteed to give us an underestimate."
   ]
  },
  {
   "cell_type": "code",
   "execution_count": 10,
   "id": "93997d9f",
   "metadata": {},
   "outputs": [
    {
     "name": "stdout",
     "output_type": "stream",
     "text": [
      "2.0\n",
      "3.1415926524138116\n",
      "3.1415926531740213\n",
      "3.141592653363477\n",
      "3.1415926534427974\n",
      "3.1415926534846093\n",
      "3.1415926535097785\n",
      "3.141592653526295\n",
      "3.1415926535378214\n",
      "3.1415926535462426\n"
     ]
    }
   ],
   "source": [
    "# Approximating the area it under a quarter circle.\n",
    "\n",
    "def find_graph(x):\n",
    "    return np.sqrt(1 - x ** 2)\n",
    "\n",
    "\n",
    "def find_circ_area(n):\n",
    "    dissection = np.array([(find_graph(-1 + (i / n)) + find_graph(-1 + (i + 1) / n)) / (2*n) for i in range(n)])\n",
    "    return dissection.sum() * 4\n",
    "\n",
    "for i in range(1,10_000_000,1_000_000):\n",
    "    print(find_circ_area(i))"
   ]
  },
  {
   "cell_type": "markdown",
   "id": "a64196ee",
   "metadata": {},
   "source": [
    "## A more naive approach to numerical integration"
   ]
  },
  {
   "cell_type": "markdown",
   "id": "fe9a91a4",
   "metadata": {},
   "source": [
    "A simpler approach to numerical integration is to dissect the interval into equal parts and calculate the value of the function in the mid-point of the interval and calculate the areas of the rectangles whose width is the width of the parts of the dissection and whose height is the value of the function at that mid-point. Summing these approximates the final answer. The below implements this approach with the same quarter-circle as the above."
   ]
  },
  {
   "cell_type": "code",
   "execution_count": 4,
   "id": "475d5282",
   "metadata": {},
   "outputs": [
    {
     "name": "stdout",
     "output_type": "stream",
     "text": [
      "3.4641016151377544\n",
      "3.1415926539342283\n",
      "3.1415926537115704\n",
      "3.141592653656078\n",
      "3.141592653632846\n",
      "3.1415926536205996\n",
      "3.1415926536132273\n",
      "3.141592653608395\n",
      "3.141592653605013\n",
      "3.1415926536025482\n"
     ]
    }
   ],
   "source": [
    "# Approximating the area it under a quarter circle.\n",
    "\n",
    "def find_graph(x):\n",
    "    return np.sqrt(1 - x ** 2)\n",
    "\n",
    "def find_circ_area2(n):\n",
    "    dissection = np.array([find_graph((2*i + 1) / (2*n)) for i in range(n)])\n",
    "    return dissection.sum() * 4 / n\n",
    "\n",
    "for i in range(1,10_000_000,1_000_000):\n",
    "    print(find_circ_area2(i))"
   ]
  },
  {
   "cell_type": "code",
   "execution_count": null,
   "id": "48969b05",
   "metadata": {},
   "outputs": [],
   "source": []
  }
 ],
 "metadata": {
  "kernelspec": {
   "display_name": "Python 3 (ipykernel)",
   "language": "python",
   "name": "python3"
  },
  "language_info": {
   "codemirror_mode": {
    "name": "ipython",
    "version": 3
   },
   "file_extension": ".py",
   "mimetype": "text/x-python",
   "name": "python",
   "nbconvert_exporter": "python",
   "pygments_lexer": "ipython3",
   "version": "3.11.3"
  }
 },
 "nbformat": 4,
 "nbformat_minor": 5
}
