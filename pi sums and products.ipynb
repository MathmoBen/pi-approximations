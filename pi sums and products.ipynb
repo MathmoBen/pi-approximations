{
 "cells": [
  {
   "cell_type": "markdown",
   "id": "0644b122",
   "metadata": {},
   "source": [
    "# Series and products approximating $\\pi$"
   ]
  },
  {
   "cell_type": "markdown",
   "id": "389d80f9",
   "metadata": {},
   "source": [
    "## Euler's reciprocals of squares"
   ]
  },
  {
   "cell_type": "markdown",
   "id": "1923277d",
   "metadata": {},
   "source": [
    "In 1731 the Master Of Us All the Swiss mathematician Leonard Euler first considered the series\n",
    "$$\n",
    "\\sum_{n=1}^{\\infty}\\frac{1}{n^2},\n",
    "$$\n",
    "the famous 'Basel problem'. Euler found the then best known value of this sum (6 decimal places - even summing the first thousand terms only gives the correct answer to 2 decimal places!) In 1735 however, with an ingenious integral calculation he was able to prove that\n",
    "$$\n",
    "\\sum_{n=1}^{\\infty}\\frac{1}{n^2}=\\frac{\\pi^2}{6}.\n",
    "$$\n",
    "In the below we approximate $\\pi$ by summing the first few terms of this series."
   ]
  },
  {
   "cell_type": "code",
   "execution_count": 1,
   "id": "ac281abd",
   "metadata": {},
   "outputs": [],
   "source": [
    "# Usual import\n",
    "\n",
    "import numpy as np"
   ]
  },
  {
   "cell_type": "code",
   "execution_count": 3,
   "id": "99043e02",
   "metadata": {},
   "outputs": [
    {
     "name": "stdout",
     "output_type": "stream",
     "text": [
      "3.0395075895610533\n",
      "3.131980747244363\n",
      "3.140637100985938\n",
      "3.1414971543976224\n",
      "3.1415831042309477\n",
      "3.1415916986595116\n",
      "3.141592558096821\n",
      "3.141592644040496\n"
     ]
    }
   ],
   "source": [
    "tot = 0\n",
    "\n",
    "for i in range(1,9):\n",
    "    nums = np.array([1/ n ** 2 for n in range(10**(i-1),10 ** i)])\n",
    "    tot += nums.sum()\n",
    "    print(np.sqrt(6 * tot))"
   ]
  },
  {
   "cell_type": "markdown",
   "id": "39e7a711",
   "metadata": {},
   "source": [
    "The same summation can be made much more quicjly using a Richardson extrapolation."
   ]
  },
  {
   "cell_type": "code",
   "execution_count": 21,
   "id": "97edf228",
   "metadata": {},
   "outputs": [
    {
     "name": "stdout",
     "output_type": "stream",
     "text": [
      "3.1415926538950907\n"
     ]
    }
   ],
   "source": [
    "def partial_sum(N):\n",
    "    return sum(1 / n**2 for n in range(1, N + 1))\n",
    "\n",
    "def richardson_extrapolation(partial_sums):\n",
    "    n = len(partial_sums)\n",
    "    extrapolated_sums = np.zeros((n, n))\n",
    "\n",
    "    # Fill the first column with the partial sums\n",
    "    for i in range(n):\n",
    "        extrapolated_sums[i, 0] = partial_sums[i]\n",
    "\n",
    "    # Apply Richardson extrapolation\n",
    "    for j in range(1, n):\n",
    "        for i in range(j, n):\n",
    "            extrapolated_sums[i, j] = ((2**j * extrapolated_sums[i, j-1]) - extrapolated_sums[i-1, j-1]) / (2**j - 1)\n",
    "\n",
    "    return extrapolated_sums\n",
    "\n",
    "# Number of terms for partial sums\n",
    "N_values = [10, 20, 40, 80, 160]\n",
    "partial_sums = [partial_sum(N) for N in N_values]\n",
    "\n",
    "# Apply Richardson extrapolation\n",
    "extrapolated_sums = richardson_extrapolation(partial_sums)\n",
    "\n",
    "# The best estimate is the last element in the extrapolated sums matrix\n",
    "best_estimate = extrapolated_sums[-1, -1]\n",
    "\n",
    "print(np.sqrt(6 * best_estimate))"
   ]
  },
  {
   "cell_type": "markdown",
   "id": "4d1decda",
   "metadata": {},
   "source": [
    "Euler went on to consider higher powers. Using, for example, Fourier series, other variants of this that converge faster can also be used. In the below we approximate $\\pi$ using the fact that\n",
    "$$\n",
    "\\sum_{n=1}^{\\infty}\\frac{1}{n^4}=\\frac{\\pi^4}{90}.\n",
    "$$\n"
   ]
  },
  {
   "cell_type": "code",
   "execution_count": 16,
   "id": "3af7bf19",
   "metadata": {},
   "outputs": [
    {
     "name": "stdout",
     "output_type": "stream",
     "text": [
      "3.141592653589793\n"
     ]
    }
   ],
   "source": [
    "# Similar approach but with fourth powers\n",
    "\n",
    "nums = np.array([1/ n ** 4 for n in range(1,100_000)])\n",
    "print(np.sqrt(np.sqrt(90 * nums.sum())))"
   ]
  },
  {
   "cell_type": "markdown",
   "id": "02cfcf3c",
   "metadata": {},
   "source": [
    "Let's again try to do that more efficiently with a Richardson sum."
   ]
  },
  {
   "cell_type": "code",
   "execution_count": 1,
   "id": "ceae03d1",
   "metadata": {},
   "outputs": [
    {
     "name": "stdout",
     "output_type": "stream",
     "text": [
      "Approximate value of ζ(4) using Richardson extrapolation: 1.0823232304966683\n"
     ]
    }
   ],
   "source": [
    "import numpy as np\n",
    "\n",
    "def partial_sum(N):\n",
    "    return sum(1 / n**4 for n in range(1, N + 1))\n",
    "\n",
    "def richardson_extrapolation(partial_sums):\n",
    "    n = len(partial_sums)\n",
    "    extrapolated_sums = np.zeros((n, n))\n",
    "\n",
    "    # Fill the first column with the partial sums\n",
    "    for i in range(n):\n",
    "        extrapolated_sums[i, 0] = partial_sums[i]\n",
    "\n",
    "    # Apply Richardson extrapolation\n",
    "    for j in range(1, n):\n",
    "        for i in range(j, n):\n",
    "            extrapolated_sums[i, j] = ((2**j * extrapolated_sums[i, j-1]) - extrapolated_sums[i-1, j-1]) / (2**j - 1)\n",
    "\n",
    "    return extrapolated_sums\n",
    "\n",
    "# Number of terms for partial sums\n",
    "N_values = [10, 20, 40, 80, 160]\n",
    "partial_sums = [partial_sum(N) for N in N_values]\n",
    "\n",
    "# Apply Richardson extrapolation\n",
    "extrapolated_sums = richardson_extrapolation(partial_sums)\n",
    "\n",
    "# The best estimate is the last element in the extrapolated sums matrix\n",
    "best_estimate = extrapolated_sums[-1, -1]\n",
    "print(f\"Approximate value of ζ(4) using Richardson extrapolation: {best_estimate}\")"
   ]
  },
  {
   "cell_type": "code",
   "execution_count": 2,
   "id": "0bcc63d6",
   "metadata": {},
   "outputs": [
    {
     "data": {
      "text/plain": [
       "3.1415926512571826"
      ]
     },
     "execution_count": 2,
     "metadata": {},
     "output_type": "execute_result"
    }
   ],
   "source": [
    "np.sqrt(np.sqrt(best_estimate*90))"
   ]
  },
  {
   "cell_type": "markdown",
   "id": "66816e64",
   "metadata": {},
   "source": [
    "# And onto sixth powers..\n",
    "$$\n",
    "\\sum_{n=1}^{\\infty}\\frac{1}{n^6}=\\frac{\\pi^6}{945}.\n",
    "$$"
   ]
  },
  {
   "cell_type": "code",
   "execution_count": 18,
   "id": "21051f9d",
   "metadata": {},
   "outputs": [
    {
     "name": "stdout",
     "output_type": "stream",
     "text": [
      "3.1415926535897927\n"
     ]
    }
   ],
   "source": [
    "# Similar approach but with sixth powers\n",
    "\n",
    "nums = np.array([1/ n ** 6 for n in range(1,100_000)])\n",
    "print((945 * nums.sum())**(1/6))"
   ]
  },
  {
   "cell_type": "code",
   "execution_count": 19,
   "id": "5e94d2f3",
   "metadata": {},
   "outputs": [
    {
     "name": "stdout",
     "output_type": "stream",
     "text": [
      "0.0\n",
      "3.141591341408046\n",
      "3.1415926535792393\n",
      "3.1415926535897927\n",
      "3.1415926535897927\n",
      "3.1415926535897927\n"
     ]
    }
   ],
   "source": [
    "# Similar approach but with sixth powers\n",
    "for i in range(6):\n",
    "    nums = np.array([1/ n ** 6 for n in range(1,10**i)])\n",
    "    print((945 * nums.sum())**(1/6))"
   ]
  },
  {
   "cell_type": "markdown",
   "id": "22260ca2",
   "metadata": {},
   "source": [
    "Again, the Richardson extrapolation approach to the same sum."
   ]
  },
  {
   "cell_type": "code",
   "execution_count": 3,
   "id": "e894eeba",
   "metadata": {},
   "outputs": [
    {
     "name": "stdout",
     "output_type": "stream",
     "text": [
      "Approximate value of ζ(6) using Richardson extrapolation: 1.0173430608545675\n"
     ]
    }
   ],
   "source": [
    "def partial_sum(N):\n",
    "    return sum(1 / n**6 for n in range(1, N + 1))\n",
    "\n",
    "def richardson_extrapolation(partial_sums):\n",
    "    n = len(partial_sums)\n",
    "    extrapolated_sums = np.zeros((n, n))\n",
    "\n",
    "    # Fill the first column with the partial sums\n",
    "    for i in range(n):\n",
    "        extrapolated_sums[i, 0] = partial_sums[i]\n",
    "\n",
    "    # Apply Richardson extrapolation\n",
    "    for j in range(1, n):\n",
    "        for i in range(j, n):\n",
    "            extrapolated_sums[i, j] = ((2**j * extrapolated_sums[i, j-1]) - extrapolated_sums[i-1, j-1]) / (2**j - 1)\n",
    "\n",
    "    return extrapolated_sums\n",
    "\n",
    "# Number of terms for partial sums\n",
    "N_values = [10, 20, 40, 80, 160]\n",
    "partial_sums = [partial_sum(N) for N in N_values]\n",
    "\n",
    "# Apply Richardson extrapolation\n",
    "extrapolated_sums = richardson_extrapolation(partial_sums)\n",
    "\n",
    "# The best estimate is the last element in the extrapolated sums matrix\n",
    "best_estimate = extrapolated_sums[-1, -1]\n",
    "print(f\"Approximate value of ζ(6) using Richardson extrapolation: {best_estimate}\")"
   ]
  },
  {
   "cell_type": "code",
   "execution_count": 4,
   "id": "2d105c23",
   "metadata": {},
   "outputs": [
    {
     "data": {
      "text/plain": [
       "3.141592653008274"
      ]
     },
     "execution_count": 4,
     "metadata": {},
     "output_type": "execute_result"
    }
   ],
   "source": [
    "(945*best_estimate)**(1/6)"
   ]
  },
  {
   "cell_type": "markdown",
   "id": "4b13d36a",
   "metadata": {},
   "source": [
    "## And 8th powers..."
   ]
  },
  {
   "cell_type": "markdown",
   "id": "5849b376",
   "metadata": {},
   "source": [
    "We have that\n",
    "$$\n",
    "\\sum_{n=1}^{\\infty}\\frac{1}{n^8}=\\frac{\\pi^8}{9,450}.\n",
    "$$"
   ]
  },
  {
   "cell_type": "code",
   "execution_count": 36,
   "id": "9e20d5cd",
   "metadata": {},
   "outputs": [
    {
     "name": "stdout",
     "output_type": "stream",
     "text": [
      "3.141592653589793\n"
     ]
    }
   ],
   "source": [
    "# Similar approach but with sixth powers\n",
    "\n",
    "nums = np.array([1/ n ** 8 for n in range(1,100_000)])\n",
    "print((9_450 * nums.sum())**(1/8))"
   ]
  },
  {
   "cell_type": "markdown",
   "id": "09281b4e",
   "metadata": {},
   "source": [
    "The Richardson approach to this one."
   ]
  },
  {
   "cell_type": "code",
   "execution_count": 38,
   "id": "2a5a8c80",
   "metadata": {},
   "outputs": [
    {
     "name": "stdout",
     "output_type": "stream",
     "text": [
      "Approximate value of ζ(8) using Richardson extrapolation: 1.004077356174579\n"
     ]
    }
   ],
   "source": [
    "def partial_sum(N):\n",
    "    return sum(1 / n**8 for n in range(1, N + 1))\n",
    "\n",
    "def richardson_extrapolation(partial_sums):\n",
    "    n = len(partial_sums)\n",
    "    extrapolated_sums = np.zeros((n, n))\n",
    "\n",
    "    # Fill the first column with the partial sums\n",
    "    for i in range(n):\n",
    "        extrapolated_sums[i, 0] = partial_sums[i]\n",
    "\n",
    "    # Apply Richardson extrapolation\n",
    "    for j in range(1, n):\n",
    "        for i in range(j, n):\n",
    "            extrapolated_sums[i, j] = ((2**j * extrapolated_sums[i, j-1]) - extrapolated_sums[i-1, j-1]) / (2**j - 1)\n",
    "\n",
    "    return extrapolated_sums\n",
    "\n",
    "# Number of terms for partial sums\n",
    "N_values = [10, 20, 40, 80, 160]\n",
    "partial_sums = [partial_sum(N) for N in N_values]\n",
    "\n",
    "# Apply Richardson extrapolation\n",
    "extrapolated_sums = richardson_extrapolation(partial_sums)\n",
    "\n",
    "# The best estimate is the last element in the extrapolated sums matrix\n",
    "best_estimate = extrapolated_sums[-1, -1]\n",
    "print(f\"Approximate value of ζ(8) using Richardson extrapolation: {best_estimate}\")"
   ]
  },
  {
   "cell_type": "code",
   "execution_count": 39,
   "id": "8da9cf09",
   "metadata": {},
   "outputs": [
    {
     "data": {
      "text/plain": [
       "3.141592653580655"
      ]
     },
     "execution_count": 39,
     "metadata": {},
     "output_type": "execute_result"
    }
   ],
   "source": [
    "(9_450*best_estimate)**(1/8)"
   ]
  },
  {
   "cell_type": "markdown",
   "id": "3984f9b7",
   "metadata": {},
   "source": [
    "## And 10th powers..."
   ]
  },
  {
   "cell_type": "markdown",
   "id": "4dd6ea8c",
   "metadata": {},
   "source": [
    "We have that\n",
    "$$\n",
    "\\sum_{n=1}^{\\infty}\\frac{1}{n^{10}}=\\frac{\\pi^{10}}{93,555}.\n",
    "$$\n",
    "Observe how few terms are required for convergence!"
   ]
  },
  {
   "cell_type": "code",
   "execution_count": 35,
   "id": "a2688d36",
   "metadata": {},
   "outputs": [
    {
     "name": "stdout",
     "output_type": "stream",
     "text": [
      "3.1415926535897936\n"
     ]
    }
   ],
   "source": [
    "# Similar approach but with sixth powers\n",
    "\n",
    "nums = np.array([1/ n ** 10 for n in range(1,40)])\n",
    "print((93_555 * nums.sum())**(1/10))"
   ]
  },
  {
   "cell_type": "markdown",
   "id": "dcff09ed",
   "metadata": {},
   "source": [
    "And the Richardson approach..."
   ]
  },
  {
   "cell_type": "code",
   "execution_count": 12,
   "id": "8c1396b1",
   "metadata": {},
   "outputs": [
    {
     "name": "stdout",
     "output_type": "stream",
     "text": [
      "Approximate value of ζ(10) using Richardson extrapolation: 1.0009945751276146\n"
     ]
    }
   ],
   "source": [
    "def partial_sum(N):\n",
    "    return sum(1 / n**10 for n in range(1, N + 1))\n",
    "\n",
    "def richardson_extrapolation(partial_sums):\n",
    "    n = len(partial_sums)\n",
    "    extrapolated_sums = np.zeros((n, n))\n",
    "\n",
    "    # Fill the first column with the partial sums\n",
    "    for i in range(n):\n",
    "        extrapolated_sums[i, 0] = partial_sums[i]\n",
    "\n",
    "    # Apply Richardson extrapolation\n",
    "    for j in range(1, n):\n",
    "        for i in range(j, n):\n",
    "            extrapolated_sums[i, j] = ((2**j * extrapolated_sums[i, j-1]) - extrapolated_sums[i-1, j-1]) / (2**j - 1)\n",
    "\n",
    "    return extrapolated_sums\n",
    "\n",
    "# Number of terms for partial sums\n",
    "N_values = [10, 20, 40, 80, 160]\n",
    "partial_sums = [partial_sum(N) for N in N_values]\n",
    "\n",
    "# Apply Richardson extrapolation\n",
    "extrapolated_sums = richardson_extrapolation(partial_sums)\n",
    "\n",
    "# The best estimate is the last element in the extrapolated sums matrix\n",
    "best_estimate = extrapolated_sums[-1, -1]\n",
    "print(f\"Approximate value of ζ(10) using Richardson extrapolation: {best_estimate}\")"
   ]
  },
  {
   "cell_type": "code",
   "execution_count": 13,
   "id": "36fac55b",
   "metadata": {},
   "outputs": [
    {
     "name": "stdout",
     "output_type": "stream",
     "text": [
      "3.1415926535897296\n"
     ]
    }
   ],
   "source": [
    "print((93_555 * best_estimate)**(1/10))"
   ]
  },
  {
   "cell_type": "markdown",
   "id": "299220bb",
   "metadata": {},
   "source": [
    "We contend ourselves with the above though we note in passing that Euler did go further, for example, publishing in 1744 the fact that\n",
    "$$\n",
    "\\sum_{n=1}^{\\infty}\\frac{1}{n^{26}}=\\frac{2^{24}\\cdot76977929\\cdot \\pi^{26}}{27!}.\n",
    "$$"
   ]
  },
  {
   "cell_type": "markdown",
   "id": "6ecbcd5f",
   "metadata": {},
   "source": [
    "## Odd sums"
   ]
  },
  {
   "cell_type": "markdown",
   "id": "5730fd5b",
   "metadata": {},
   "source": [
    "Summing these powers but only with the odd numbers also gives some interesting sums, for example\n",
    "$$\n",
    "\\sum_{n=0}^{\\infty}\\frac{1}{(2n+1)^2}=\\frac{\\pi^2}{8}.\n",
    "$$"
   ]
  },
  {
   "cell_type": "code",
   "execution_count": 7,
   "id": "1c4c772a",
   "metadata": {},
   "outputs": [
    {
     "data": {
      "text/plain": [
       "3.141592621758804"
      ]
     },
     "execution_count": 7,
     "metadata": {},
     "output_type": "execute_result"
    }
   ],
   "source": [
    "result = np.array([1/(2*n+1)**2 for n in range(10_000_000)]).sum()\n",
    "np.sqrt(8*result)"
   ]
  },
  {
   "cell_type": "markdown",
   "id": "df73e3e9",
   "metadata": {},
   "source": [
    "And the Richardson take on this..."
   ]
  },
  {
   "cell_type": "code",
   "execution_count": 14,
   "id": "6a1a0445",
   "metadata": {},
   "outputs": [
    {
     "name": "stdout",
     "output_type": "stream",
     "text": [
      "Approximate value of sum(1/n^2) for odd n using Richardson extrapolation: 1.2327475090037698\n"
     ]
    }
   ],
   "source": [
    "import numpy as np\n",
    "\n",
    "def partial_sum(N):\n",
    "    \"\"\"Calculate the partial sum of 1/n^2 for odd n up to N terms.\"\"\"\n",
    "    return sum(1 / (2*n + 1)**2 for n in range(N))\n",
    "\n",
    "def richardson_extrapolation(partial_sums):\n",
    "    n = len(partial_sums)\n",
    "    extrapolated_sums = np.zeros((n, n))\n",
    "    # Fill the first column with the partial sums\n",
    "    for i in range(n):\n",
    "        extrapolated_sums[i, 0] = partial_sums[i]\n",
    "    # Apply Richardson extrapolation\n",
    "    # Using factor 4 since the error term for this series is O(1/N^2)\n",
    "    for j in range(1, n):\n",
    "        for i in range(j, n):\n",
    "            extrapolated_sums[i, j] = ((4**j * extrapolated_sums[i, j-1]) - extrapolated_sums[i-1, j-1]) / (4**j - 1)\n",
    "    return extrapolated_sums\n",
    "\n",
    "# Number of terms for partial sums (using geometric progression)\n",
    "N_values = [10, 20, 40, 80, 160]\n",
    "partial_sums = [partial_sum(N) for N in N_values]\n",
    "\n",
    "# Apply Richardson extrapolation\n",
    "extrapolated_sums = richardson_extrapolation(partial_sums)\n",
    "\n",
    "# The best estimate is the last element in the extrapolated sums matrix\n",
    "best_estimate = extrapolated_sums[-1, -1]\n",
    "print(f\"Approximate value of sum(1/n^2) for odd n using Richardson extrapolation: {best_estimate}\")"
   ]
  },
  {
   "cell_type": "code",
   "execution_count": 15,
   "id": "2fab787e",
   "metadata": {},
   "outputs": [
    {
     "data": {
      "text/plain": [
       "3.1403789694924016"
      ]
     },
     "execution_count": 15,
     "metadata": {},
     "output_type": "execute_result"
    }
   ],
   "source": [
    "np.sqrt(8*best_estimate)"
   ]
  },
  {
   "cell_type": "markdown",
   "id": "81d43d87",
   "metadata": {},
   "source": [
    "Next we have that\n",
    "$$\n",
    "\\sum_{n=0}^{\\infty}\\frac{1}{(2n+1)^4}=\\frac{\\pi^4}{96}.\n",
    "$$"
   ]
  },
  {
   "cell_type": "code",
   "execution_count": 8,
   "id": "2e47c719",
   "metadata": {},
   "outputs": [
    {
     "data": {
      "text/plain": [
       "3.141592653589793"
      ]
     },
     "execution_count": 8,
     "metadata": {},
     "output_type": "execute_result"
    }
   ],
   "source": [
    "result = np.array([1/(2*n+1)**4 for n in range(10_000_000)]).sum()\n",
    "(96*result)**(1/4)"
   ]
  },
  {
   "cell_type": "markdown",
   "id": "226fbaaa",
   "metadata": {},
   "source": [
    "And the Richardson version..."
   ]
  },
  {
   "cell_type": "code",
   "execution_count": 1,
   "id": "3c4dade2",
   "metadata": {},
   "outputs": [
    {
     "name": "stdout",
     "output_type": "stream",
     "text": [
      "Approximate value of sum(1/n^4) for odd n using Richardson extrapolation: 1.0146780347313984\n"
     ]
    }
   ],
   "source": [
    "import numpy as np\n",
    "\n",
    "def partial_sum(N):\n",
    "    \"\"\"Calculate the partial sum of 1/n^2 for odd n up to N terms.\"\"\"\n",
    "    return sum(1 / (2*n + 1)**4 for n in range(N))\n",
    "\n",
    "def richardson_extrapolation(partial_sums):\n",
    "    n = len(partial_sums)\n",
    "    extrapolated_sums = np.zeros((n, n))\n",
    "    # Fill the first column with the partial sums\n",
    "    for i in range(n):\n",
    "        extrapolated_sums[i, 0] = partial_sums[i]\n",
    "    # Apply Richardson extrapolation\n",
    "    # Using factor 4 since the error term for this series is O(1/N^2)\n",
    "    for j in range(1, n):\n",
    "        for i in range(j, n):\n",
    "            extrapolated_sums[i, j] = ((4**j * extrapolated_sums[i, j-1]) - extrapolated_sums[i-1, j-1]) / (4**j - 1)\n",
    "    return extrapolated_sums\n",
    "\n",
    "# Number of terms for partial sums (using geometric progression)\n",
    "N_values = [10, 20, 40, 80, 160]\n",
    "partial_sums = [partial_sum(N) for N in N_values]\n",
    "\n",
    "# Apply Richardson extrapolation\n",
    "extrapolated_sums = richardson_extrapolation(partial_sums)\n",
    "\n",
    "# The best estimate is the last element in the extrapolated sums matrix\n",
    "best_estimate = extrapolated_sums[-1, -1]\n",
    "print(f\"Approximate value of sum(1/n^4) for odd n using Richardson extrapolation: {best_estimate}\")"
   ]
  },
  {
   "cell_type": "code",
   "execution_count": 2,
   "id": "97d0d266",
   "metadata": {},
   "outputs": [
    {
     "data": {
      "text/plain": [
       "3.141592656010366"
      ]
     },
     "execution_count": 2,
     "metadata": {},
     "output_type": "execute_result"
    }
   ],
   "source": [
    "(96*best_estimate)**(1/4)"
   ]
  },
  {
   "cell_type": "markdown",
   "id": "46c6a089",
   "metadata": {},
   "source": [
    "Similarly\n",
    "$$\n",
    "\\sum_{n=0}^{\\infty}\\frac{1}{(2n+1)^6}=\\frac{\\pi^6}{960}.\n",
    "$$"
   ]
  },
  {
   "cell_type": "code",
   "execution_count": 15,
   "id": "4e797a31",
   "metadata": {},
   "outputs": [
    {
     "data": {
      "text/plain": [
       "3.141592653589793"
      ]
     },
     "execution_count": 15,
     "metadata": {},
     "output_type": "execute_result"
    }
   ],
   "source": [
    "result = np.array([1/(2*n+1)**6 for n in range(500)]).sum()\n",
    "(960*result)**(1/6)"
   ]
  },
  {
   "cell_type": "markdown",
   "id": "b80124c1",
   "metadata": {},
   "source": [
    "Again, the Richardson approach..."
   ]
  },
  {
   "cell_type": "code",
   "execution_count": 4,
   "id": "04f06d0d",
   "metadata": {},
   "outputs": [
    {
     "name": "stdout",
     "output_type": "stream",
     "text": [
      "Approximate value of sum(1/n^6) for odd n using Richardson extrapolation: 1.0014470766408097\n"
     ]
    }
   ],
   "source": [
    "import numpy as np\n",
    "\n",
    "def partial_sum(N):\n",
    "    \"\"\"Calculate the partial sum of 1/n^2 for odd n up to N terms.\"\"\"\n",
    "    return sum(1 / (2*n + 1)**6 for n in range(N))\n",
    "\n",
    "def richardson_extrapolation(partial_sums):\n",
    "    n = len(partial_sums)\n",
    "    extrapolated_sums = np.zeros((n, n))\n",
    "    # Fill the first column with the partial sums\n",
    "    for i in range(n):\n",
    "        extrapolated_sums[i, 0] = partial_sums[i]\n",
    "    # Apply Richardson extrapolation\n",
    "    # Using factor 4 since the error term for this series is O(1/N^2)\n",
    "    for j in range(1, n):\n",
    "        for i in range(j, n):\n",
    "            extrapolated_sums[i, j] = ((4**j * extrapolated_sums[i, j-1]) - extrapolated_sums[i-1, j-1]) / (4**j - 1)\n",
    "    return extrapolated_sums\n",
    "\n",
    "# Number of terms for partial sums (using geometric progression)\n",
    "N_values = [10, 20, 40, 80, 160]\n",
    "partial_sums = [partial_sum(N) for N in N_values]\n",
    "\n",
    "# Apply Richardson extrapolation\n",
    "extrapolated_sums = richardson_extrapolation(partial_sums)\n",
    "\n",
    "# The best estimate is the last element in the extrapolated sums matrix\n",
    "best_estimate = extrapolated_sums[-1, -1]\n",
    "print(f\"Approximate value of sum(1/n^6) for odd n using Richardson extrapolation: {best_estimate}\")"
   ]
  },
  {
   "cell_type": "code",
   "execution_count": 5,
   "id": "14a06522",
   "metadata": {},
   "outputs": [
    {
     "data": {
      "text/plain": [
       "3.141592653589724"
      ]
     },
     "execution_count": 5,
     "metadata": {},
     "output_type": "execute_result"
    }
   ],
   "source": [
    "(960*best_estimate)**(1/6)"
   ]
  },
  {
   "cell_type": "markdown",
   "id": "cd3b54e7",
   "metadata": {},
   "source": [
    "Similarly\n",
    "$$\n",
    "\\sum_{n=0}^{\\infty}\\frac{1}{(2n+1)^8}=\\frac{17\\pi^8}{161,280}.\n",
    "$$"
   ]
  },
  {
   "cell_type": "code",
   "execution_count": 26,
   "id": "f25a0787",
   "metadata": {},
   "outputs": [
    {
     "data": {
      "text/plain": [
       "3.141592653589793"
      ]
     },
     "execution_count": 26,
     "metadata": {},
     "output_type": "execute_result"
    }
   ],
   "source": [
    "result = np.array([1/(2*n+1)**8 for n in range(60)]).sum()\n",
    "(161_280*result/17)**(1/8)"
   ]
  },
  {
   "cell_type": "markdown",
   "id": "2e7f147c",
   "metadata": {},
   "source": [
    "And the Richardon approach..."
   ]
  },
  {
   "cell_type": "code",
   "execution_count": 1,
   "id": "fa1971fa",
   "metadata": {},
   "outputs": [
    {
     "name": "stdout",
     "output_type": "stream",
     "text": [
      "Approximate value of sum(1/n^6) for odd n using Richardson extrapolation: 1.0001551790252952\n"
     ]
    }
   ],
   "source": [
    "import numpy as np\n",
    "\n",
    "def partial_sum(N):\n",
    "    \"\"\"Calculate the partial sum of 1/n^2 for odd n up to N terms.\"\"\"\n",
    "    return sum(1 / (2*n + 1)**8 for n in range(N))\n",
    "\n",
    "def richardson_extrapolation(partial_sums):\n",
    "    n = len(partial_sums)\n",
    "    extrapolated_sums = np.zeros((n, n))\n",
    "    # Fill the first column with the partial sums\n",
    "    for i in range(n):\n",
    "        extrapolated_sums[i, 0] = partial_sums[i]\n",
    "    # Apply Richardson extrapolation\n",
    "    # Using factor 4 since the error term for this series is O(1/N^2)\n",
    "    for j in range(1, n):\n",
    "        for i in range(j, n):\n",
    "            extrapolated_sums[i, j] = ((4**j * extrapolated_sums[i, j-1]) - extrapolated_sums[i-1, j-1]) / (4**j - 1)\n",
    "    return extrapolated_sums\n",
    "\n",
    "# Number of terms for partial sums (using geometric progression)\n",
    "N_values = [10, 20, 40, 80, 160]\n",
    "partial_sums = [partial_sum(N) for N in N_values]\n",
    "\n",
    "# Apply Richardson extrapolation\n",
    "extrapolated_sums = richardson_extrapolation(partial_sums)\n",
    "\n",
    "# The best estimate is the last element in the extrapolated sums matrix\n",
    "best_estimate = extrapolated_sums[-1, -1]\n",
    "print(f\"Approximate value of sum(1/n^6) for odd n using Richardson extrapolation: {best_estimate}\")"
   ]
  },
  {
   "cell_type": "code",
   "execution_count": 4,
   "id": "757ae41d",
   "metadata": {},
   "outputs": [
    {
     "data": {
      "text/plain": [
       "3.1415926535897927"
      ]
     },
     "execution_count": 4,
     "metadata": {},
     "output_type": "execute_result"
    }
   ],
   "source": [
    "(161_280*best_estimate/17)**(1/8)"
   ]
  },
  {
   "cell_type": "markdown",
   "id": "ad50b3fb",
   "metadata": {},
   "source": [
    "Similarly\n",
    "$$\n",
    "\\sum_{n=0}^{\\infty}\\frac{1}{(2n+1)^{10}}=\\frac{31\\pi^{10}}{2,903,040}.\n",
    "$$"
   ]
  },
  {
   "cell_type": "code",
   "execution_count": 37,
   "id": "374fb884",
   "metadata": {},
   "outputs": [
    {
     "data": {
      "text/plain": [
       "3.1415926535897936"
      ]
     },
     "execution_count": 37,
     "metadata": {},
     "output_type": "execute_result"
    }
   ],
   "source": [
    "result = np.array([1/(2*n+1)**10 for n in range(20)]).sum()\n",
    "(2_903_040*result/31)**(1/10)"
   ]
  },
  {
   "cell_type": "markdown",
   "id": "a0560522",
   "metadata": {},
   "source": [
    "## Euler's \"near miss\""
   ]
  },
  {
   "cell_type": "markdown",
   "id": "557cedf7",
   "metadata": {},
   "source": [
    "Whilst Euler was unable to find a nice formula for $\\zeta(3)$ (a problem that remains open today) he could at least show that\n",
    "$$\n",
    "\\sum_{n=0}^{\\infty}\\frac{(-1)^{n+1}}{(2n-1)^3}=\\frac{\\pi^3}{32}.\n",
    "$$"
   ]
  },
  {
   "cell_type": "code",
   "execution_count": 19,
   "id": "bdc362a2",
   "metadata": {},
   "outputs": [
    {
     "data": {
      "text/plain": [
       "3.141592653589725"
      ]
     },
     "execution_count": 19,
     "metadata": {},
     "output_type": "execute_result"
    }
   ],
   "source": [
    "result = np.array([(-1)**(n)/(2*n+1)**3 for n in range(10_000)]).sum()\n",
    "result\n",
    "(32*result)**(1/3)"
   ]
  },
  {
   "cell_type": "markdown",
   "id": "d9eab845",
   "metadata": {},
   "source": [
    "## The arctan approach"
   ]
  },
  {
   "cell_type": "markdown",
   "id": "bb431065",
   "metadata": {},
   "source": [
    "The method favoured by the Victorians was to use the formula\n",
    "$$\n",
    "\\sum_{n=1}^{\\infty}\\frac{(-1)^{n+1}}{2n-1}=\\frac{\\pi}{4}.\n",
    "$$\n",
    "which is a special case of the more general fact that\n",
    "$$\n",
    "\\sum_{n=1}^{\\infty}\\frac{(-1)^{n+1}x^{2n - 1}}{2n - 1}=\\arctan(x)\n",
    "$$\n",
    "evaluated at $x=1$."
   ]
  },
  {
   "cell_type": "code",
   "execution_count": 7,
   "id": "be6f297f",
   "metadata": {},
   "outputs": [
    {
     "name": "stdout",
     "output_type": "stream",
     "text": [
      "0.0\n",
      "3.2523659347188763\n",
      "3.151693406071115\n",
      "3.142593654340042\n",
      "3.141692663590542\n",
      "3.1416026536897927\n",
      "3.141593653590794\n",
      "3.141592753589808\n",
      "3.1415926635898175\n"
     ]
    }
   ],
   "source": [
    "for i in range(9):\n",
    "    nums = np.array([(-1) ** (n + 1) / (2 * n - 1) for n in range(1,10 ** i)])\n",
    "    print(4 * nums.sum())"
   ]
  },
  {
   "cell_type": "markdown",
   "id": "f882ce5b",
   "metadata": {},
   "source": [
    "As noted in https://www.americanscientist.org/article/pencil-paper-and-pi the above approach has a variant that the (famously erronious) William Shanks used in his efforts. In 1706 John Machin published the fact that\n",
    "$$\n",
    "\\frac{\\pi}{4}=4\\arctan\\bigg(\\frac{1}{5}\\bigg)-\\arctan\\bigg(\\frac{1}{239}\\bigg).\n",
    "$$\n",
    "These two latter series can be calculated in the same manner as the above formular, but converge more quickly."
   ]
  },
  {
   "cell_type": "code",
   "execution_count": 9,
   "id": "0ba8f19c",
   "metadata": {},
   "outputs": [
    {
     "name": "stdout",
     "output_type": "stream",
     "text": [
      "3.1415926535898357\n",
      "3.141592653589793\n"
     ]
    }
   ],
   "source": [
    "for i in range(1,3):\n",
    "    nums5 = np.array([((-1) ** (n + 1) * 5 ** (1 - 2 * n)) / (2 * n - 1) for n in range(1,10 ** i)])\n",
    "    nums239 = np.array([((-1) ** (n + 1) * 239 ** (1 - 2 * n)) / (2 * n - 1) for n in range(1,10 ** i)])\n",
    "    print(4 * (4 * nums5.sum() - nums239.sum()))"
   ]
  },
  {
   "cell_type": "markdown",
   "id": "e087c13c",
   "metadata": {},
   "source": [
    "## The Wallis product formula"
   ]
  },
  {
   "cell_type": "markdown",
   "id": "26fde55b",
   "metadata": {},
   "source": [
    "In 1656 the English mathematician John Wallis observed that\n",
    "$$\n",
    "\\frac{\\pi}{2}=\\prod_{n=1}^{\\infty}\\frac{4n^2}{4n^2 - 1}.\n",
    "$$\n",
    "The below implements this idea and shows that this converges extremely slowly."
   ]
  },
  {
   "cell_type": "code",
   "execution_count": 10,
   "id": "ec44ed9b",
   "metadata": {},
   "outputs": [
    {
     "name": "stdout",
     "output_type": "stream",
     "text": [
      "2\n",
      "3.141584799657313\n",
      "3.1415887266113356\n",
      "3.141590035601483\n",
      "3.1415906900976522\n",
      "3.1415910827956552\n",
      "3.1415913445943895\n",
      "3.1415915315936807\n",
      "3.1415916718431625\n",
      "3.1415917809261846\n"
     ]
    }
   ],
   "source": [
    "def mult_wallis(n):\n",
    "    l = 1\n",
    "    for i in range(1,n):\n",
    "        l = l * (4*(i**2))/(4*(i**2)-1)\n",
    "    return 2*l\n",
    "    \n",
    "for i in range(1,1_000_000,100_000):\n",
    "    print(mult_wallis(i))"
   ]
  },
  {
   "cell_type": "markdown",
   "id": "93c256da",
   "metadata": {},
   "source": [
    "## Another series"
   ]
  },
  {
   "cell_type": "markdown",
   "id": "ee53dbd6",
   "metadata": {},
   "source": [
    "Another series popularised by Euler, though discovered independently by many others in often unpublished work including Newton, is the series\n",
    "$$\n",
    "\\frac{\\pi}{2}=\\sum_{n=0}^{\\infty}\\frac{2^nn!^2}{(2n+1)!}\n",
    "$$\n",
    "which has the amusing property that it can expressed in a slightly different nested manner that fascilitates more computation namely:\n",
    "$$\n",
    "\\sum_{n=0}^{\\infty}\\frac{2^nn!^2}{(2n+1)!}=1+\\frac{1}{3}\\bigg(1+\\frac{2}{5}\\bigg(1+\\frac{3}{7}(1+\\cdots)\\bigg).\n",
    "$$"
   ]
  },
  {
   "cell_type": "code",
   "execution_count": 1,
   "id": "96671489",
   "metadata": {},
   "outputs": [],
   "source": [
    "def nesting(n):\n",
    "    l = 1\n",
    "    for i in range(n):\n",
    "        l = 1+l*((n-i) / (2*(n-i) + 1))\n",
    "    return 2*l"
   ]
  },
  {
   "cell_type": "code",
   "execution_count": 4,
   "id": "e761c160",
   "metadata": {},
   "outputs": [
    {
     "name": "stdout",
     "output_type": "stream",
     "text": [
      "2.6666666666666665\n",
      "2.933333333333333\n",
      "3.0476190476190474\n",
      "3.098412698412698\n",
      "3.1215007215007216\n",
      "3.132156732156732\n",
      "3.137129537129537\n",
      "3.139469680646151\n",
      "3.140578169680337\n",
      "3.1411060216013773\n",
      "3.1413584725201362\n",
      "3.1414796489611403\n",
      "3.1415379931734755\n",
      "3.141566159344948\n",
      "3.1415797881375958\n",
      "3.141586396037061\n",
      "3.1415896055882304\n",
      "3.1415911669915015\n",
      "3.141591927675147\n"
     ]
    }
   ],
   "source": [
    "for i in range(1,20):\n",
    "    print(nesting(i))"
   ]
  },
  {
   "cell_type": "code",
   "execution_count": null,
   "id": "71f7f1a9",
   "metadata": {},
   "outputs": [],
   "source": []
  }
 ],
 "metadata": {
  "kernelspec": {
   "display_name": "Python 3 (ipykernel)",
   "language": "python",
   "name": "python3"
  },
  "language_info": {
   "codemirror_mode": {
    "name": "ipython",
    "version": 3
   },
   "file_extension": ".py",
   "mimetype": "text/x-python",
   "name": "python",
   "nbconvert_exporter": "python",
   "pygments_lexer": "ipython3",
   "version": "3.11.3"
  }
 },
 "nbformat": 4,
 "nbformat_minor": 5
}
