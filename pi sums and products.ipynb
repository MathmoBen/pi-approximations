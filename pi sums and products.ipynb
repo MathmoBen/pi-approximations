{
 "cells": [
  {
   "cell_type": "markdown",
   "id": "0644b122",
   "metadata": {},
   "source": [
    "# Series and products approximating $\\pi$"
   ]
  },
  {
   "cell_type": "markdown",
   "id": "389d80f9",
   "metadata": {},
   "source": [
    "## Euler's reciprocals of squares"
   ]
  },
  {
   "cell_type": "markdown",
   "id": "1923277d",
   "metadata": {},
   "source": [
    "In 1731 the Master Of Us All the Swiss mathematician Leonard Euler first considered the series\n",
    "$$\n",
    "\\sum_{n=1}^{\\infty}\\frac{1}{n^2},\n",
    "$$\n",
    "the famous 'Basel problem'. Euler found the then best known value of this sum (6 decimal places - even summing the first thousand terms only gives the correct answer to 2 decimal places!) In 1735 however, with an ingenious integral calculation he was able to prove that\n",
    "$$\n",
    "\\sum_{n=1}^{\\infty}\\frac{1}{n^2}=\\frac{\\pi^2}{6}.\n",
    "$$\n",
    "In the below we approximate $\\pi$ by summing the first few terms of this series."
   ]
  },
  {
   "cell_type": "code",
   "execution_count": 3,
   "id": "ac281abd",
   "metadata": {},
   "outputs": [],
   "source": [
    "# Usual import\n",
    "\n",
    "import numpy as np"
   ]
  },
  {
   "cell_type": "code",
   "execution_count": 4,
   "id": "692b8826",
   "metadata": {},
   "outputs": [
    {
     "name": "stdout",
     "output_type": "stream",
     "text": [
      "0.0\n",
      "3.0395075895610533\n",
      "3.1319807472443633\n",
      "3.1406371009859386\n",
      "3.141497154397623\n",
      "3.1415831042309486\n",
      "3.1415916986595125\n",
      "3.141592558096823\n",
      "3.14159264404049\n"
     ]
    }
   ],
   "source": [
    "for i in range(9):\n",
    "    nums = np.array([1/ n ** 2 for n in range(1,10 ** i)])\n",
    "    print(np.sqrt(6 * nums.sum()))"
   ]
  },
  {
   "cell_type": "markdown",
   "id": "4d1decda",
   "metadata": {},
   "source": [
    "Euler went on to consider higher powers. Using, for example, Fourier series, other variants of this that converge faster can also be used. In the below we approximate $\\pi$ using the fact that\n",
    "$$\n",
    "\\sum_{n=1}^{\\infty}\\frac{1}{n^4}=\\frac{\\pi^4}{90}.\n",
    "$$\n",
    "We contend ourselves by using this below though we note in passing that Euler did go further, for example, publishing in 1744 the fact that\n",
    "$$\n",
    "\\sum_{n=1}^{\\infty}\\frac{1}{n^{26}}=\\frac{2^{24}\\cdot76977929\\cdot \\pi^{26}}{27!}.\n",
    "$$"
   ]
  },
  {
   "cell_type": "code",
   "execution_count": 6,
   "id": "3af7bf19",
   "metadata": {},
   "outputs": [
    {
     "name": "stdout",
     "output_type": "stream",
     "text": [
      "3.141592653347544\n"
     ]
    }
   ],
   "source": [
    "# Similar approach but with fourth powers\n",
    "\n",
    "nums = np.array([1/ n ** 4 for n in range(1,1000)])\n",
    "print(np.sqrt(np.sqrt(90 * nums.sum())))"
   ]
  },
  {
   "cell_type": "markdown",
   "id": "d9eab845",
   "metadata": {},
   "source": [
    "## The arctan approach"
   ]
  },
  {
   "cell_type": "markdown",
   "id": "bb431065",
   "metadata": {},
   "source": [
    "The method favoured by the Victorians was to use the formula\n",
    "$$\n",
    "\\sum_{n=1}^{\\infty}\\frac{(-1)^{n+1}}{2n-1}=\\frac{\\pi}{4}.\n",
    "$$\n",
    "which is a special case of the more general fact that\n",
    "$$\n",
    "\\sum_{n=1}^{\\infty}\\frac{(-1)^{n+1}x^{2n - 1}}{2n - 1}=\\arctan(x)\n",
    "$$\n",
    "evaluated at $x=1$."
   ]
  },
  {
   "cell_type": "code",
   "execution_count": 7,
   "id": "be6f297f",
   "metadata": {},
   "outputs": [
    {
     "name": "stdout",
     "output_type": "stream",
     "text": [
      "0.0\n",
      "3.2523659347188763\n",
      "3.151693406071115\n",
      "3.142593654340042\n",
      "3.141692663590542\n",
      "3.1416026536897927\n",
      "3.141593653590794\n",
      "3.141592753589808\n",
      "3.1415926635898175\n"
     ]
    }
   ],
   "source": [
    "for i in range(9):\n",
    "    nums = np.array([(-1) ** (n + 1) / (2 * n - 1) for n in range(1,10 ** i)])\n",
    "    print(4 * nums.sum())"
   ]
  },
  {
   "cell_type": "markdown",
   "id": "f882ce5b",
   "metadata": {},
   "source": [
    "As noted in https://www.americanscientist.org/article/pencil-paper-and-pi the above approach has a variant that the (famously erronious) William Shanks used in his efforts. In 1706 John Machin published the fact that\n",
    "$$\n",
    "\\frac{\\pi}{4}=4\\arctan\\bigg(\\frac{1}{5}\\bigg)-\\arctan\\bigg(\\frac{1}{239}\\bigg).\n",
    "$$\n",
    "These two latter series can be calculated in the same manner as the above formular, but converge more quickly."
   ]
  },
  {
   "cell_type": "code",
   "execution_count": 9,
   "id": "0ba8f19c",
   "metadata": {},
   "outputs": [
    {
     "name": "stdout",
     "output_type": "stream",
     "text": [
      "3.1415926535898357\n",
      "3.141592653589793\n"
     ]
    }
   ],
   "source": [
    "for i in range(1,3):\n",
    "    nums5 = np.array([((-1) ** (n + 1) * 5 ** (1 - 2 * n)) / (2 * n - 1) for n in range(1,10 ** i)])\n",
    "    nums239 = np.array([((-1) ** (n + 1) * 239 ** (1 - 2 * n)) / (2 * n - 1) for n in range(1,10 ** i)])\n",
    "    print(4 * (4 * nums5.sum() - nums239.sum()))"
   ]
  },
  {
   "cell_type": "markdown",
   "id": "e087c13c",
   "metadata": {},
   "source": [
    "## The Wallis product formula"
   ]
  },
  {
   "cell_type": "markdown",
   "id": "26fde55b",
   "metadata": {},
   "source": [
    "In 1656 the English mathematician John Wallis observed that\n",
    "$$\n",
    "\\frac{\\pi}{2}=\\prod_{n=1}^{\\infty}\\frac{4n^2}{4n^2 - 1}.\n",
    "$$\n",
    "The below implements this idea and shows that this converges extremely slowly."
   ]
  },
  {
   "cell_type": "code",
   "execution_count": 10,
   "id": "ec44ed9b",
   "metadata": {},
   "outputs": [
    {
     "name": "stdout",
     "output_type": "stream",
     "text": [
      "2\n",
      "3.141584799657313\n",
      "3.1415887266113356\n",
      "3.141590035601483\n",
      "3.1415906900976522\n",
      "3.1415910827956552\n",
      "3.1415913445943895\n",
      "3.1415915315936807\n",
      "3.1415916718431625\n",
      "3.1415917809261846\n"
     ]
    }
   ],
   "source": [
    "def mult_wallis(n):\n",
    "    l = 1\n",
    "    for i in range(1,n):\n",
    "        l = l * (4*(i**2))/(4*(i**2)-1)\n",
    "    return 2*l\n",
    "    \n",
    "for i in range(1,1_000_000,100_000):\n",
    "    print(mult_wallis(i))"
   ]
  },
  {
   "cell_type": "markdown",
   "id": "2381828f",
   "metadata": {},
   "source": [
    "Another series popularised by Euler, though discovered independently by many others in often unpublished work including Newton, is the series\n",
    "$$\n",
    "\\frac{\\pi}{2}=\\sum_{n=0}^{\\infty}\\frac{2^nn!^2}{(2n+1)!}\n",
    "$$\n",
    "which has the amusing property that it can expressed in a slightly different nested manner that fascilitates more computation namely:\n",
    "$$\n",
    "\\sum_{n=0}^{\\infty}\\frac{2^nn!^2}{(2n+1)!}=1+\\frac{1}{3}\\bigg(1+\\frac{2}{5}\\bigg(1+\\frac{3}{7}(1+\\cdots)\\bigg).\n",
    "$$"
   ]
  },
  {
   "cell_type": "code",
   "execution_count": 1,
   "id": "2719119d",
   "metadata": {},
   "outputs": [],
   "source": [
    "def nesting(n):\n",
    "    l = 1\n",
    "    for i in range(n):\n",
    "        l = 1+l*((n-i) / (2*(n-i) + 1))\n",
    "    return 2*l"
   ]
  },
  {
   "cell_type": "code",
   "execution_count": 4,
   "id": "8b0b9503",
   "metadata": {},
   "outputs": [
    {
     "name": "stdout",
     "output_type": "stream",
     "text": [
      "2.6666666666666665\n",
      "2.933333333333333\n",
      "3.0476190476190474\n",
      "3.098412698412698\n",
      "3.1215007215007216\n",
      "3.132156732156732\n",
      "3.137129537129537\n",
      "3.139469680646151\n",
      "3.140578169680337\n",
      "3.1411060216013773\n",
      "3.1413584725201362\n",
      "3.1414796489611403\n",
      "3.1415379931734755\n",
      "3.141566159344948\n",
      "3.1415797881375958\n",
      "3.141586396037061\n",
      "3.1415896055882304\n",
      "3.1415911669915015\n",
      "3.141591927675147\n"
     ]
    }
   ],
   "source": [
    "for i in range(1,20):\n",
    "    print(nesting(i))"
   ]
  },
  {
   "cell_type": "code",
   "execution_count": null,
   "id": "3b95d370",
   "metadata": {},
   "outputs": [],
   "source": []
  }
 ],
 "metadata": {
  "kernelspec": {
   "display_name": "Python 3 (ipykernel)",
   "language": "python",
   "name": "python3"
  },
  "language_info": {
   "codemirror_mode": {
    "name": "ipython",
    "version": 3
   },
   "file_extension": ".py",
   "mimetype": "text/x-python",
   "name": "python",
   "nbconvert_exporter": "python",
   "pygments_lexer": "ipython3",
   "version": "3.11.3"
  }
 },
 "nbformat": 4,
 "nbformat_minor": 5
}
